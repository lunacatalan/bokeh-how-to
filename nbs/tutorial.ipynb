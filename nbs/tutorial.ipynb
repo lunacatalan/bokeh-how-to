{
 "cells": [
  {
   "cell_type": "markdown",
   "metadata": {},
   "source": [
    "\n",
    "![bokeh_logo.png](./bokeh_logo.png)\n",
    "\n",
    "### **What is it?**\n",
    "Bokeh is an open-souce Python library for making web-interactive visualizations, including \n",
    "plots, live-streaming plots, and dashboards. Bokeh visualizations and dashboards can be easily embedded into webpages,\n",
    "creating smooth and quick-loading interactions, without having to know much JavaScript or importing other packages outside the bokeh system.\n",
    "\n",
    "\n",
    "### **Where is it? Link to project webpage, github**\n",
    "* Here is Bokeh's documentation website: https://docs.bokeh.org/en/latest/\n",
    "* Here is Bokeh's Github Repository: https://github.com/bokeh/bokeh\n",
    "\n",
    "### **Who developed it?**\n",
    "* Bokeh is open-source, and therefore its code is derived widely and from many communities. \n",
    "However there are \"dedicated core developers\" that work on Bokeh. About 2-3 core developers \n",
    "dedicate most of their time to Bokeh at a given time. \n",
    "\n",
    "### **Why was it created?**\n",
    " Bokeh was created to help people create interactive visualizations in web browsers, including in Jupyter notebooks. \n",
    "It's especially useful to connect PyData tools (e.g. NumPy, SciPy, Pandas, sklearn, etc) to scalable and deployable web \"data apps\" with little mucking around in \"web tech\". \n",
    "This allows people to add interactive elements to websites while working only in Python. "
   ]
  },
  {
   "cell_type": "markdown",
   "metadata": {},
   "source": [
    "# Potential Use in Environmental Data Science\n",
    "- creating interactive visualizations to communicate information\n",
    "- allowing people to play with data, seeing impact of manipulating parameters\n",
    "- engage non-scientists\n",
    "\n",
    "Really cool paper about importance of environmental data visualization and best practices!! :\n",
    "> Sam Grainger, Feng Mao, Wouter Buytaert, Environmental data visualisation for non-scientific contexts: Literature review and design framework, Environmental Modelling & Software, Volume 85, 2016, Pages 299-318,ISSN 1364-8152, https://doi.org/10.1016/j.envsoft.2016.09.004. \n",
    "\n",
    "**Real World Example**: *Building Energy Efficiency*\n",
    "> \"With regards to my research, a report telling a building owner how much electricity they can save by changing their AC schedule is nice, but it’s more effective to give them an interactive graph where they can choose different schedules and see how their choice affects electricity consumption.\"\n",
    "\n",
    "https://towardsdatascience.com/data-visualization-with-bokeh-in-python-part-one-getting-started-a11655a467d4"
   ]
  },
  {
   "cell_type": "markdown",
   "metadata": {},
   "source": [
    "# Examples"
   ]
  },
  {
   "cell_type": "markdown",
   "metadata": {},
   "source": [
    "### Let's create a simple, interactive plot with bokeh!"
   ]
  },
  {
   "cell_type": "markdown",
   "metadata": {},
   "source": [
    "1. ALWAYS start by importing necessary functions:\n",
    "    - once you start making more complex figures, check out bokeh's documentation for what functions you'll need to import [here](https://docs.bokeh.org/en/latest/docs/user_guide.html)"
   ]
  },
  {
   "cell_type": "code",
   "execution_count": 10,
   "metadata": {},
   "outputs": [],
   "source": [
    "from bokeh.plotting import figure, show"
   ]
  },
  {
   "cell_type": "markdown",
   "metadata": {},
   "source": [
    "2. Make up some data to create a simple line chart:"
   ]
  },
  {
   "cell_type": "code",
   "execution_count": 11,
   "metadata": {},
   "outputs": [],
   "source": [
    "x = [2, 4, 3, 7, 9]\n",
    "y = [4, 6, 3, 8, 2]"
   ]
  },
  {
   "cell_type": "markdown",
   "metadata": {},
   "source": [
    "3. Set up the figure using the function `figure()` and add a title and labels"
   ]
  },
  {
   "cell_type": "code",
   "execution_count": 12,
   "metadata": {},
   "outputs": [],
   "source": [
    "p = figure(title = 'bokeh intro plot!',\n",
    "           x_axis_label = 'x',\n",
    "           y_axis_label = 'y')"
   ]
  },
  {
   "cell_type": "markdown",
   "metadata": {},
   "source": [
    "4. Time to add the data using `line()`"
   ]
  },
  {
   "cell_type": "code",
   "execution_count": 13,
   "metadata": {},
   "outputs": [
    {
     "data": {
      "text/html": [
       "<div style=\"display: table;\"><div style=\"display: table-row;\"><div style=\"display: table-cell;\"><b title=\"bokeh.models.renderers.glyph_renderer.GlyphRenderer\">GlyphRenderer</b>(</div><div style=\"display: table-cell;\">id&nbsp;=&nbsp;'p1136', <span id=\"p1140\" style=\"cursor: pointer;\">&hellip;)</span></div></div><div class=\"p1139\" style=\"display: none;\"><div style=\"display: table-cell;\"></div><div style=\"display: table-cell;\">coordinates&nbsp;=&nbsp;None,</div></div><div class=\"p1139\" style=\"display: none;\"><div style=\"display: table-cell;\"></div><div style=\"display: table-cell;\">data_source&nbsp;=&nbsp;ColumnDataSource(id='p1130', ...),</div></div><div class=\"p1139\" style=\"display: none;\"><div style=\"display: table-cell;\"></div><div style=\"display: table-cell;\">glyph&nbsp;=&nbsp;Line(id='p1133', ...),</div></div><div class=\"p1139\" style=\"display: none;\"><div style=\"display: table-cell;\"></div><div style=\"display: table-cell;\">group&nbsp;=&nbsp;None,</div></div><div class=\"p1139\" style=\"display: none;\"><div style=\"display: table-cell;\"></div><div style=\"display: table-cell;\">hover_glyph&nbsp;=&nbsp;None,</div></div><div class=\"p1139\" style=\"display: none;\"><div style=\"display: table-cell;\"></div><div style=\"display: table-cell;\">js_event_callbacks&nbsp;=&nbsp;{},</div></div><div class=\"p1139\" style=\"display: none;\"><div style=\"display: table-cell;\"></div><div style=\"display: table-cell;\">js_property_callbacks&nbsp;=&nbsp;{},</div></div><div class=\"p1139\" style=\"display: none;\"><div style=\"display: table-cell;\"></div><div style=\"display: table-cell;\">level&nbsp;=&nbsp;'glyph',</div></div><div class=\"p1139\" style=\"display: none;\"><div style=\"display: table-cell;\"></div><div style=\"display: table-cell;\">muted&nbsp;=&nbsp;False,</div></div><div class=\"p1139\" style=\"display: none;\"><div style=\"display: table-cell;\"></div><div style=\"display: table-cell;\">muted_glyph&nbsp;=&nbsp;Line(id='p1135', ...),</div></div><div class=\"p1139\" style=\"display: none;\"><div style=\"display: table-cell;\"></div><div style=\"display: table-cell;\">name&nbsp;=&nbsp;None,</div></div><div class=\"p1139\" style=\"display: none;\"><div style=\"display: table-cell;\"></div><div style=\"display: table-cell;\">nonselection_glyph&nbsp;=&nbsp;Line(id='p1134', ...),</div></div><div class=\"p1139\" style=\"display: none;\"><div style=\"display: table-cell;\"></div><div style=\"display: table-cell;\">propagate_hover&nbsp;=&nbsp;False,</div></div><div class=\"p1139\" style=\"display: none;\"><div style=\"display: table-cell;\"></div><div style=\"display: table-cell;\">selection_glyph&nbsp;=&nbsp;'auto',</div></div><div class=\"p1139\" style=\"display: none;\"><div style=\"display: table-cell;\"></div><div style=\"display: table-cell;\">subscribed_events&nbsp;=&nbsp;PropertyValueSet(),</div></div><div class=\"p1139\" style=\"display: none;\"><div style=\"display: table-cell;\"></div><div style=\"display: table-cell;\">syncable&nbsp;=&nbsp;True,</div></div><div class=\"p1139\" style=\"display: none;\"><div style=\"display: table-cell;\"></div><div style=\"display: table-cell;\">tags&nbsp;=&nbsp;[],</div></div><div class=\"p1139\" style=\"display: none;\"><div style=\"display: table-cell;\"></div><div style=\"display: table-cell;\">view&nbsp;=&nbsp;CDSView(id='p1137', ...),</div></div><div class=\"p1139\" style=\"display: none;\"><div style=\"display: table-cell;\"></div><div style=\"display: table-cell;\">visible&nbsp;=&nbsp;True,</div></div><div class=\"p1139\" style=\"display: none;\"><div style=\"display: table-cell;\"></div><div style=\"display: table-cell;\">x_range_name&nbsp;=&nbsp;'default',</div></div><div class=\"p1139\" style=\"display: none;\"><div style=\"display: table-cell;\"></div><div style=\"display: table-cell;\">y_range_name&nbsp;=&nbsp;'default')</div></div></div>\n",
       "<script>\n",
       "(function() {\n",
       "  let expanded = false;\n",
       "  const ellipsis = document.getElementById(\"p1140\");\n",
       "  ellipsis.addEventListener(\"click\", function() {\n",
       "    const rows = document.getElementsByClassName(\"p1139\");\n",
       "    for (let i = 0; i < rows.length; i++) {\n",
       "      const el = rows[i];\n",
       "      el.style.display = expanded ? \"none\" : \"table-row\";\n",
       "    }\n",
       "    ellipsis.innerHTML = expanded ? \"&hellip;)\" : \"&lsaquo;&lsaquo;&lsaquo;\";\n",
       "    expanded = !expanded;\n",
       "  });\n",
       "})();\n",
       "</script>\n"
      ],
      "text/plain": [
       "GlyphRenderer(id='p1136', ...)"
      ]
     },
     "execution_count": 13,
     "metadata": {},
     "output_type": "execute_result"
    }
   ],
   "source": [
    "p.line(x, y)\n",
    "\n",
    "# Can add more arguments like line_width, legend_label, etc."
   ]
  },
  {
   "cell_type": "markdown",
   "metadata": {},
   "source": [
    "5. Check out your plot using `show()` \n",
    "    - the output is an .html file which opens in browser"
   ]
  },
  {
   "cell_type": "code",
   "execution_count": 14,
   "metadata": {},
   "outputs": [],
   "source": [
    "show(p)"
   ]
  },
  {
   "cell_type": "markdown",
   "metadata": {},
   "source": [
    "# More Complex Examples"
   ]
  },
  {
   "cell_type": "code",
   "execution_count": 15,
   "metadata": {},
   "outputs": [],
   "source": [
    "# import libraries \n",
    "import pandas as pd\n",
    "import numpy as np"
   ]
  },
  {
   "cell_type": "markdown",
   "metadata": {},
   "source": [
    "# Examples with Olympic Athletes\n",
    "\n",
    "### Goal\n",
    "We wanted to make a scatter plot that compared the number of gold, silver, and bronze medals won by a country and show the exact number of medals when you hover over the point on the plot."
   ]
  },
  {
   "cell_type": "code",
   "execution_count": 16,
   "metadata": {},
   "outputs": [
    {
     "data": {
      "text/html": [
       "<div>\n",
       "<style scoped>\n",
       "    .dataframe tbody tr th:only-of-type {\n",
       "        vertical-align: middle;\n",
       "    }\n",
       "\n",
       "    .dataframe tbody tr th {\n",
       "        vertical-align: top;\n",
       "    }\n",
       "\n",
       "    .dataframe thead th {\n",
       "        text-align: right;\n",
       "    }\n",
       "</style>\n",
       "<table border=\"1\" class=\"dataframe\">\n",
       "  <thead>\n",
       "    <tr style=\"text-align: right;\">\n",
       "      <th>Medal</th>\n",
       "      <th>Bronze</th>\n",
       "      <th>Gold</th>\n",
       "      <th>Silver</th>\n",
       "    </tr>\n",
       "    <tr>\n",
       "      <th>Year</th>\n",
       "      <th></th>\n",
       "      <th></th>\n",
       "      <th></th>\n",
       "    </tr>\n",
       "  </thead>\n",
       "  <tbody>\n",
       "    <tr>\n",
       "      <th>1984</th>\n",
       "      <td>37.0</td>\n",
       "      <td>24.0</td>\n",
       "      <td>13.0</td>\n",
       "    </tr>\n",
       "    <tr>\n",
       "      <th>1988</th>\n",
       "      <td>30.0</td>\n",
       "      <td>4.0</td>\n",
       "      <td>16.0</td>\n",
       "    </tr>\n",
       "    <tr>\n",
       "      <th>1992</th>\n",
       "      <td>15.0</td>\n",
       "      <td>14.0</td>\n",
       "      <td>44.0</td>\n",
       "    </tr>\n",
       "    <tr>\n",
       "      <th>1994</th>\n",
       "      <td>2.0</td>\n",
       "      <td>NaN</td>\n",
       "      <td>1.0</td>\n",
       "    </tr>\n",
       "    <tr>\n",
       "      <th>1996</th>\n",
       "      <td>15.0</td>\n",
       "      <td>13.0</td>\n",
       "      <td>66.0</td>\n",
       "    </tr>\n",
       "  </tbody>\n",
       "</table>\n",
       "</div>"
      ],
      "text/plain": [
       "Medal  Bronze  Gold  Silver\n",
       "Year                       \n",
       "1984     37.0  24.0    13.0\n",
       "1988     30.0   4.0    16.0\n",
       "1992     15.0  14.0    44.0\n",
       "1994      2.0   NaN     1.0\n",
       "1996     15.0  13.0    66.0"
      ]
     },
     "execution_count": 16,
     "metadata": {},
     "output_type": "execute_result"
    }
   ],
   "source": [
    "# choose data\n",
    "olympic_athletes = pd.read_csv('../data/Olympic_Athletes/athlete_events.csv')\n",
    "\n",
    "# make subset of data with only the medaling teams\n",
    "olympic_subset = olympic_athletes[\n",
    "    ['Name', 'Team', 'Year', 'Event', 'Medal']\n",
    "].dropna().sort_values(by = 'Year') # drop rows with na values\n",
    "\n",
    "# select one country -- China\n",
    "china_medals = olympic_subset.loc[olympic_subset['Team'] == 'China'].groupby([pd.Grouper(key = 'Year'),\n",
    "                                                                              pd.Grouper(key = 'Medal')]).count()\n",
    "\n",
    "china_pivot = china_medals.pivot_table(index = 'Year',\n",
    "                                       columns = 'Medal',\n",
    "                                       values = 'Name')\n",
    "\n",
    "china_pivot.head()"
   ]
  },
  {
   "cell_type": "code",
   "execution_count": 22,
   "metadata": {},
   "outputs": [
    {
     "data": {
      "text/html": [
       "<style>\n",
       "        .bk-notebook-logo {\n",
       "            display: block;\n",
       "            width: 20px;\n",
       "            height: 20px;\n",
       "            background-image: url(data:image/png;base64,iVBORw0KGgoAAAANSUhEUgAAABQAAAAUCAYAAACNiR0NAAAABHNCSVQICAgIfAhkiAAAAAlwSFlzAAALEgAACxIB0t1+/AAAABx0RVh0U29mdHdhcmUAQWRvYmUgRmlyZXdvcmtzIENTNui8sowAAAOkSURBVDiNjZRtaJVlGMd/1/08zzln5zjP1LWcU9N0NkN8m2CYjpgQYQXqSs0I84OLIC0hkEKoPtiH3gmKoiJDU7QpLgoLjLIQCpEsNJ1vqUOdO7ppbuec5+V+rj4ctwzd8IIbbi6u+8f1539dt3A78eXC7QizUF7gyV1fD1Yqg4JWz84yffhm0qkFqBogB9rM8tZdtwVsPUhWhGcFJngGeWrPzHm5oaMmkfEg1usvLFyc8jLRqDOMru7AyC8saQr7GG7f5fvDeH7Ej8CM66nIF+8yngt6HWaKh7k49Soy9nXurCi1o3qUbS3zWfrYeQDTB/Qj6kX6Ybhw4B+bOYoLKCC9H3Nu/leUTZ1JdRWkkn2ldcCamzrcf47KKXdAJllSlxAOkRgyHsGC/zRday5Qld9DyoM4/q/rUoy/CXh3jzOu3bHUVZeU+DEn8FInkPBFlu3+nW3Nw0mk6vCDiWg8CeJaxEwuHS3+z5RgY+YBR6V1Z1nxSOfoaPa4LASWxxdNp+VWTk7+4vzaou8v8PN+xo+KY2xsw6une2frhw05CTYOmQvsEhjhWjn0bmXPjpE1+kplmmkP3suftwTubK9Vq22qKmrBhpY4jvd5afdRA3wGjFAgcnTK2s4hY0/GPNIb0nErGMCRxWOOX64Z8RAC4oCXdklmEvcL8o0BfkNK4lUg9HTl+oPlQxdNo3Mg4Nv175e/1LDGzZen30MEjRUtmXSfiTVu1kK8W4txyV6BMKlbgk3lMwYCiusNy9fVfvvwMxv8Ynl6vxoByANLTWplvuj/nF9m2+PDtt1eiHPBr1oIfhCChQMBw6Aw0UulqTKZdfVvfG7VcfIqLG9bcldL/+pdWTLxLUy8Qq38heUIjh4XlzZxzQm19lLFlr8vdQ97rjZVOLf8nclzckbcD4wxXMidpX30sFd37Fv/GtwwhzhxGVAprjbg0gCAEeIgwCZyTV2Z1REEW8O4py0wsjeloKoMr6iCY6dP92H6Vw/oTyICIthibxjm/DfN9lVz8IqtqKYLUXfoKVMVQVVJOElGjrnnUt9T9wbgp8AyYKaGlqingHZU/uG2NTZSVqwHQTWkx9hxjkpWDaCg6Ckj5qebgBVbT3V3NNXMSiWSDdGV3hrtzla7J+duwPOToIg42ChPQOQjspnSlp1V+Gjdged7+8UN5CRAV7a5EdFNwCjEaBR27b3W890TE7g24NAP/mMDXRWrGoFPQI9ls/MWO2dWFAar/xcOIImbbpA3zgAAAABJRU5ErkJggg==);\n",
       "        }\n",
       "    </style>\n",
       "    <div>\n",
       "        <a href=\"https://bokeh.org\" target=\"_blank\" class=\"bk-notebook-logo\"></a>\n",
       "        <span id=\"a48db21e-fe41-4bac-a0be-a85f21dea548\">Loading BokehJS ...</span>\n",
       "    </div>\n"
      ]
     },
     "metadata": {},
     "output_type": "display_data"
    },
    {
     "data": {
      "application/javascript": "(function(root) {\n  function now() {\n    return new Date();\n  }\n\n  const force = true;\n\n  if (typeof root._bokeh_onload_callbacks === \"undefined\" || force === true) {\n    root._bokeh_onload_callbacks = [];\n    root._bokeh_is_loading = undefined;\n  }\n\nconst JS_MIME_TYPE = 'application/javascript';\n  const HTML_MIME_TYPE = 'text/html';\n  const EXEC_MIME_TYPE = 'application/vnd.bokehjs_exec.v0+json';\n  const CLASS_NAME = 'output_bokeh rendered_html';\n\n  /**\n   * Render data to the DOM node\n   */\n  function render(props, node) {\n    const script = document.createElement(\"script\");\n    node.appendChild(script);\n  }\n\n  /**\n   * Handle when an output is cleared or removed\n   */\n  function handleClearOutput(event, handle) {\n    const cell = handle.cell;\n\n    const id = cell.output_area._bokeh_element_id;\n    const server_id = cell.output_area._bokeh_server_id;\n    // Clean up Bokeh references\n    if (id != null && id in Bokeh.index) {\n      Bokeh.index[id].model.document.clear();\n      delete Bokeh.index[id];\n    }\n\n    if (server_id !== undefined) {\n      // Clean up Bokeh references\n      const cmd_clean = \"from bokeh.io.state import curstate; print(curstate().uuid_to_server['\" + server_id + \"'].get_sessions()[0].document.roots[0]._id)\";\n      cell.notebook.kernel.execute(cmd_clean, {\n        iopub: {\n          output: function(msg) {\n            const id = msg.content.text.trim();\n            if (id in Bokeh.index) {\n              Bokeh.index[id].model.document.clear();\n              delete Bokeh.index[id];\n            }\n          }\n        }\n      });\n      // Destroy server and session\n      const cmd_destroy = \"import bokeh.io.notebook as ion; ion.destroy_server('\" + server_id + \"')\";\n      cell.notebook.kernel.execute(cmd_destroy);\n    }\n  }\n\n  /**\n   * Handle when a new output is added\n   */\n  function handleAddOutput(event, handle) {\n    const output_area = handle.output_area;\n    const output = handle.output;\n\n    // limit handleAddOutput to display_data with EXEC_MIME_TYPE content only\n    if ((output.output_type != \"display_data\") || (!Object.prototype.hasOwnProperty.call(output.data, EXEC_MIME_TYPE))) {\n      return\n    }\n\n    const toinsert = output_area.element.find(\".\" + CLASS_NAME.split(' ')[0]);\n\n    if (output.metadata[EXEC_MIME_TYPE][\"id\"] !== undefined) {\n      toinsert[toinsert.length - 1].firstChild.textContent = output.data[JS_MIME_TYPE];\n      // store reference to embed id on output_area\n      output_area._bokeh_element_id = output.metadata[EXEC_MIME_TYPE][\"id\"];\n    }\n    if (output.metadata[EXEC_MIME_TYPE][\"server_id\"] !== undefined) {\n      const bk_div = document.createElement(\"div\");\n      bk_div.innerHTML = output.data[HTML_MIME_TYPE];\n      const script_attrs = bk_div.children[0].attributes;\n      for (let i = 0; i < script_attrs.length; i++) {\n        toinsert[toinsert.length - 1].firstChild.setAttribute(script_attrs[i].name, script_attrs[i].value);\n        toinsert[toinsert.length - 1].firstChild.textContent = bk_div.children[0].textContent\n      }\n      // store reference to server id on output_area\n      output_area._bokeh_server_id = output.metadata[EXEC_MIME_TYPE][\"server_id\"];\n    }\n  }\n\n  function register_renderer(events, OutputArea) {\n\n    function append_mime(data, metadata, element) {\n      // create a DOM node to render to\n      const toinsert = this.create_output_subarea(\n        metadata,\n        CLASS_NAME,\n        EXEC_MIME_TYPE\n      );\n      this.keyboard_manager.register_events(toinsert);\n      // Render to node\n      const props = {data: data, metadata: metadata[EXEC_MIME_TYPE]};\n      render(props, toinsert[toinsert.length - 1]);\n      element.append(toinsert);\n      return toinsert\n    }\n\n    /* Handle when an output is cleared or removed */\n    events.on('clear_output.CodeCell', handleClearOutput);\n    events.on('delete.Cell', handleClearOutput);\n\n    /* Handle when a new output is added */\n    events.on('output_added.OutputArea', handleAddOutput);\n\n    /**\n     * Register the mime type and append_mime function with output_area\n     */\n    OutputArea.prototype.register_mime_type(EXEC_MIME_TYPE, append_mime, {\n      /* Is output safe? */\n      safe: true,\n      /* Index of renderer in `output_area.display_order` */\n      index: 0\n    });\n  }\n\n  // register the mime type if in Jupyter Notebook environment and previously unregistered\n  if (root.Jupyter !== undefined) {\n    const events = require('base/js/events');\n    const OutputArea = require('notebook/js/outputarea').OutputArea;\n\n    if (OutputArea.prototype.mime_types().indexOf(EXEC_MIME_TYPE) == -1) {\n      register_renderer(events, OutputArea);\n    }\n  }\n  if (typeof (root._bokeh_timeout) === \"undefined\" || force === true) {\n    root._bokeh_timeout = Date.now() + 5000;\n    root._bokeh_failed_load = false;\n  }\n\n  const NB_LOAD_WARNING = {'data': {'text/html':\n     \"<div style='background-color: #fdd'>\\n\"+\n     \"<p>\\n\"+\n     \"BokehJS does not appear to have successfully loaded. If loading BokehJS from CDN, this \\n\"+\n     \"may be due to a slow or bad network connection. Possible fixes:\\n\"+\n     \"</p>\\n\"+\n     \"<ul>\\n\"+\n     \"<li>re-rerun `output_notebook()` to attempt to load from CDN again, or</li>\\n\"+\n     \"<li>use INLINE resources instead, as so:</li>\\n\"+\n     \"</ul>\\n\"+\n     \"<code>\\n\"+\n     \"from bokeh.resources import INLINE\\n\"+\n     \"output_notebook(resources=INLINE)\\n\"+\n     \"</code>\\n\"+\n     \"</div>\"}};\n\n  function display_loaded() {\n    const el = document.getElementById(\"a48db21e-fe41-4bac-a0be-a85f21dea548\");\n    if (el != null) {\n      el.textContent = \"BokehJS is loading...\";\n    }\n    if (root.Bokeh !== undefined) {\n      if (el != null) {\n        el.textContent = \"BokehJS \" + root.Bokeh.version + \" successfully loaded.\";\n      }\n    } else if (Date.now() < root._bokeh_timeout) {\n      setTimeout(display_loaded, 100)\n    }\n  }\n\n  function run_callbacks() {\n    try {\n      root._bokeh_onload_callbacks.forEach(function(callback) {\n        if (callback != null)\n          callback();\n      });\n    } finally {\n      delete root._bokeh_onload_callbacks\n    }\n    console.debug(\"Bokeh: all callbacks have finished\");\n  }\n\n  function load_libs(css_urls, js_urls, callback) {\n    if (css_urls == null) css_urls = [];\n    if (js_urls == null) js_urls = [];\n\n    root._bokeh_onload_callbacks.push(callback);\n    if (root._bokeh_is_loading > 0) {\n      console.debug(\"Bokeh: BokehJS is being loaded, scheduling callback at\", now());\n      return null;\n    }\n    if (js_urls == null || js_urls.length === 0) {\n      run_callbacks();\n      return null;\n    }\n    console.debug(\"Bokeh: BokehJS not loaded, scheduling load and callback at\", now());\n    root._bokeh_is_loading = css_urls.length + js_urls.length;\n\n    function on_load() {\n      root._bokeh_is_loading--;\n      if (root._bokeh_is_loading === 0) {\n        console.debug(\"Bokeh: all BokehJS libraries/stylesheets loaded\");\n        run_callbacks()\n      }\n    }\n\n    function on_error(url) {\n      console.error(\"failed to load \" + url);\n    }\n\n    for (let i = 0; i < css_urls.length; i++) {\n      const url = css_urls[i];\n      const element = document.createElement(\"link\");\n      element.onload = on_load;\n      element.onerror = on_error.bind(null, url);\n      element.rel = \"stylesheet\";\n      element.type = \"text/css\";\n      element.href = url;\n      console.debug(\"Bokeh: injecting link tag for BokehJS stylesheet: \", url);\n      document.body.appendChild(element);\n    }\n\n    for (let i = 0; i < js_urls.length; i++) {\n      const url = js_urls[i];\n      const element = document.createElement('script');\n      element.onload = on_load;\n      element.onerror = on_error.bind(null, url);\n      element.async = false;\n      element.src = url;\n      console.debug(\"Bokeh: injecting script tag for BokehJS library: \", url);\n      document.head.appendChild(element);\n    }\n  };\n\n  function inject_raw_css(css) {\n    const element = document.createElement(\"style\");\n    element.appendChild(document.createTextNode(css));\n    document.body.appendChild(element);\n  }\n\n  const js_urls = [\"https://cdn.bokeh.org/bokeh/release/bokeh-3.2.1.min.js\", \"https://cdn.bokeh.org/bokeh/release/bokeh-gl-3.2.1.min.js\", \"https://cdn.bokeh.org/bokeh/release/bokeh-widgets-3.2.1.min.js\", \"https://cdn.bokeh.org/bokeh/release/bokeh-tables-3.2.1.min.js\", \"https://cdn.bokeh.org/bokeh/release/bokeh-mathjax-3.2.1.min.js\"];\n  const css_urls = [];\n\n  const inline_js = [    function(Bokeh) {\n      Bokeh.set_log_level(\"info\");\n    },\nfunction(Bokeh) {\n    }\n  ];\n\n  function run_inline_js() {\n    if (root.Bokeh !== undefined || force === true) {\n          for (let i = 0; i < inline_js.length; i++) {\n      inline_js[i].call(root, root.Bokeh);\n    }\nif (force === true) {\n        display_loaded();\n      }} else if (Date.now() < root._bokeh_timeout) {\n      setTimeout(run_inline_js, 100);\n    } else if (!root._bokeh_failed_load) {\n      console.log(\"Bokeh: BokehJS failed to load within specified timeout.\");\n      root._bokeh_failed_load = true;\n    } else if (force !== true) {\n      const cell = $(document.getElementById(\"a48db21e-fe41-4bac-a0be-a85f21dea548\")).parents('.cell').data().cell;\n      cell.output_area.append_execute_result(NB_LOAD_WARNING)\n    }\n  }\n\n  if (root._bokeh_is_loading === 0) {\n    console.debug(\"Bokeh: BokehJS loaded, going straight to plotting\");\n    run_inline_js();\n  } else {\n    load_libs(css_urls, js_urls, function() {\n      console.debug(\"Bokeh: BokehJS plotting callback run at\", now());\n      run_inline_js();\n    });\n  }\n}(window));",
      "application/vnd.bokehjs_load.v0+json": ""
     },
     "metadata": {},
     "output_type": "display_data"
    },
    {
     "data": {
      "text/html": [
       "\n",
       "  <div id=\"c1804f4f-8721-415a-b711-10c5d47c1e32\" data-root-id=\"p1383\" style=\"display: contents;\"></div>\n"
      ]
     },
     "metadata": {},
     "output_type": "display_data"
    },
    {
     "data": {
      "application/javascript": "(function(root) {\n  function embed_document(root) {\n  const docs_json = {\"1e1c4978-5d0d-47fb-932d-40955df3097e\":{\"version\":\"3.2.1\",\"title\":\"Bokeh Application\",\"roots\":[{\"type\":\"object\",\"name\":\"Figure\",\"id\":\"p1383\",\"attributes\":{\"x_range\":{\"type\":\"object\",\"name\":\"DataRange1d\",\"id\":\"p1384\"},\"y_range\":{\"type\":\"object\",\"name\":\"DataRange1d\",\"id\":\"p1385\"},\"x_scale\":{\"type\":\"object\",\"name\":\"LinearScale\",\"id\":\"p1393\"},\"y_scale\":{\"type\":\"object\",\"name\":\"LinearScale\",\"id\":\"p1394\"},\"title\":{\"type\":\"object\",\"name\":\"Title\",\"id\":\"p1386\",\"attributes\":{\"text\":\"Medals Won at the Olympics by China\"}},\"renderers\":[{\"type\":\"object\",\"name\":\"GlyphRenderer\",\"id\":\"p1413\",\"attributes\":{\"data_source\":{\"type\":\"object\",\"name\":\"ColumnDataSource\",\"id\":\"p1380\",\"attributes\":{\"selected\":{\"type\":\"object\",\"name\":\"Selection\",\"id\":\"p1381\",\"attributes\":{\"indices\":[],\"line_indices\":[]}},\"selection_policy\":{\"type\":\"object\",\"name\":\"UnionRenderers\",\"id\":\"p1382\"},\"data\":{\"type\":\"map\",\"entries\":[[\"year\",{\"type\":\"ndarray\",\"array\":{\"type\":\"bytes\",\"data\":\"wAcAAMQHAADIBwAAygcAAMwHAADOBwAA0AcAANIHAADUBwAA1gcAANgHAADaBwAA3AcAAN4HAADgBwAA\"},\"shape\":[15],\"dtype\":\"int32\",\"order\":\"little\"}],[\"gold\",{\"type\":\"ndarray\",\"array\":{\"type\":\"bytes\",\"data\":\"AAAAAAAAOEAAAAAAAAAQQAAAAAAAACxAAAAAAAAA+H8AAAAAAAAqQAAAAAAAAPh/AAAAAAAAP0AAAAAAAAAAQAAAAAAAAEVAAAAAAAAAAEAAAAAAAABSQAAAAAAAABxAAAAAAAAASUAAAAAAAAAIQAAAAAAAAEZA\"},\"shape\":[15],\"dtype\":\"float64\",\"order\":\"little\"}],[\"silver\",{\"type\":\"ndarray\",\"array\":{\"type\":\"bytes\",\"data\":\"AAAAAAAAKkAAAAAAAAAwQAAAAAAAAEZAAAAAAAAA8D8AAAAAAIBQQAAAAAAAACJAAAAAAAAAM0AAAAAAAAAUQAAAAAAAADtAAAAAAAAACEAAAAAAAIBIQAAAAAAAAPA/AAAAAAAAQ0AAAAAAAAAQQAAAAAAAAD5A\"},\"shape\":[15],\"dtype\":\"float64\",\"order\":\"little\"}],[\"bronze\",{\"type\":\"ndarray\",\"array\":{\"type\":\"bytes\",\"data\":\"AAAAAACAQkAAAAAAAAA+QAAAAAAAAC5AAAAAAAAAAEAAAAAAAAAuQAAAAAAAABRAAAAAAAAALkAAAAAAAAAcQAAAAAAAACpAAAAAAAAAEEAAAAAAAIBIQAAAAAAAABxAAAAAAAAAPUAAAAAAAAAUQAAAAAAAgEFA\"},\"shape\":[15],\"dtype\":\"float64\",\"order\":\"little\"}]]}}},\"view\":{\"type\":\"object\",\"name\":\"CDSView\",\"id\":\"p1414\",\"attributes\":{\"filter\":{\"type\":\"object\",\"name\":\"AllIndices\",\"id\":\"p1415\"}}},\"glyph\":{\"type\":\"object\",\"name\":\"Circle\",\"id\":\"p1410\",\"attributes\":{\"x\":{\"type\":\"field\",\"field\":\"year\"},\"y\":{\"type\":\"field\",\"field\":\"gold\"},\"size\":{\"type\":\"value\",\"value\":10},\"line_color\":{\"type\":\"value\",\"value\":\"gold\"},\"line_alpha\":{\"type\":\"value\",\"value\":0.5},\"fill_color\":{\"type\":\"value\",\"value\":\"gold\"},\"fill_alpha\":{\"type\":\"value\",\"value\":0.5},\"hatch_color\":{\"type\":\"value\",\"value\":\"gold\"},\"hatch_alpha\":{\"type\":\"value\",\"value\":0.5}}},\"nonselection_glyph\":{\"type\":\"object\",\"name\":\"Circle\",\"id\":\"p1411\",\"attributes\":{\"x\":{\"type\":\"field\",\"field\":\"year\"},\"y\":{\"type\":\"field\",\"field\":\"gold\"},\"size\":{\"type\":\"value\",\"value\":10},\"line_color\":{\"type\":\"value\",\"value\":\"gold\"},\"line_alpha\":{\"type\":\"value\",\"value\":0.1},\"fill_color\":{\"type\":\"value\",\"value\":\"gold\"},\"fill_alpha\":{\"type\":\"value\",\"value\":0.1},\"hatch_color\":{\"type\":\"value\",\"value\":\"gold\"},\"hatch_alpha\":{\"type\":\"value\",\"value\":0.1}}},\"muted_glyph\":{\"type\":\"object\",\"name\":\"Circle\",\"id\":\"p1412\",\"attributes\":{\"x\":{\"type\":\"field\",\"field\":\"year\"},\"y\":{\"type\":\"field\",\"field\":\"gold\"},\"size\":{\"type\":\"value\",\"value\":10},\"line_color\":{\"type\":\"value\",\"value\":\"gold\"},\"line_alpha\":{\"type\":\"value\",\"value\":0.2},\"fill_color\":{\"type\":\"value\",\"value\":\"gold\"},\"fill_alpha\":{\"type\":\"value\",\"value\":0.2},\"hatch_color\":{\"type\":\"value\",\"value\":\"gold\"},\"hatch_alpha\":{\"type\":\"value\",\"value\":0.2}}}}},{\"type\":\"object\",\"name\":\"GlyphRenderer\",\"id\":\"p1424\",\"attributes\":{\"data_source\":{\"id\":\"p1380\"},\"view\":{\"type\":\"object\",\"name\":\"CDSView\",\"id\":\"p1425\",\"attributes\":{\"filter\":{\"type\":\"object\",\"name\":\"AllIndices\",\"id\":\"p1426\"}}},\"glyph\":{\"type\":\"object\",\"name\":\"Circle\",\"id\":\"p1421\",\"attributes\":{\"x\":{\"type\":\"field\",\"field\":\"year\"},\"y\":{\"type\":\"field\",\"field\":\"silver\"},\"size\":{\"type\":\"value\",\"value\":10},\"line_color\":{\"type\":\"value\",\"value\":\"silver\"},\"line_alpha\":{\"type\":\"value\",\"value\":0.5},\"fill_color\":{\"type\":\"value\",\"value\":\"silver\"},\"fill_alpha\":{\"type\":\"value\",\"value\":0.5},\"hatch_color\":{\"type\":\"value\",\"value\":\"silver\"},\"hatch_alpha\":{\"type\":\"value\",\"value\":0.5}}},\"nonselection_glyph\":{\"type\":\"object\",\"name\":\"Circle\",\"id\":\"p1422\",\"attributes\":{\"x\":{\"type\":\"field\",\"field\":\"year\"},\"y\":{\"type\":\"field\",\"field\":\"silver\"},\"size\":{\"type\":\"value\",\"value\":10},\"line_color\":{\"type\":\"value\",\"value\":\"silver\"},\"line_alpha\":{\"type\":\"value\",\"value\":0.1},\"fill_color\":{\"type\":\"value\",\"value\":\"silver\"},\"fill_alpha\":{\"type\":\"value\",\"value\":0.1},\"hatch_color\":{\"type\":\"value\",\"value\":\"silver\"},\"hatch_alpha\":{\"type\":\"value\",\"value\":0.1}}},\"muted_glyph\":{\"type\":\"object\",\"name\":\"Circle\",\"id\":\"p1423\",\"attributes\":{\"x\":{\"type\":\"field\",\"field\":\"year\"},\"y\":{\"type\":\"field\",\"field\":\"silver\"},\"size\":{\"type\":\"value\",\"value\":10},\"line_color\":{\"type\":\"value\",\"value\":\"silver\"},\"line_alpha\":{\"type\":\"value\",\"value\":0.2},\"fill_color\":{\"type\":\"value\",\"value\":\"silver\"},\"fill_alpha\":{\"type\":\"value\",\"value\":0.2},\"hatch_color\":{\"type\":\"value\",\"value\":\"silver\"},\"hatch_alpha\":{\"type\":\"value\",\"value\":0.2}}}}},{\"type\":\"object\",\"name\":\"GlyphRenderer\",\"id\":\"p1434\",\"attributes\":{\"data_source\":{\"id\":\"p1380\"},\"view\":{\"type\":\"object\",\"name\":\"CDSView\",\"id\":\"p1435\",\"attributes\":{\"filter\":{\"type\":\"object\",\"name\":\"AllIndices\",\"id\":\"p1436\"}}},\"glyph\":{\"type\":\"object\",\"name\":\"Circle\",\"id\":\"p1431\",\"attributes\":{\"x\":{\"type\":\"field\",\"field\":\"year\"},\"y\":{\"type\":\"field\",\"field\":\"bronze\"},\"size\":{\"type\":\"value\",\"value\":10},\"line_color\":{\"type\":\"value\",\"value\":\"brown\"},\"line_alpha\":{\"type\":\"value\",\"value\":0.5},\"fill_color\":{\"type\":\"value\",\"value\":\"brown\"},\"fill_alpha\":{\"type\":\"value\",\"value\":0.5},\"hatch_color\":{\"type\":\"value\",\"value\":\"brown\"},\"hatch_alpha\":{\"type\":\"value\",\"value\":0.5}}},\"nonselection_glyph\":{\"type\":\"object\",\"name\":\"Circle\",\"id\":\"p1432\",\"attributes\":{\"x\":{\"type\":\"field\",\"field\":\"year\"},\"y\":{\"type\":\"field\",\"field\":\"bronze\"},\"size\":{\"type\":\"value\",\"value\":10},\"line_color\":{\"type\":\"value\",\"value\":\"brown\"},\"line_alpha\":{\"type\":\"value\",\"value\":0.1},\"fill_color\":{\"type\":\"value\",\"value\":\"brown\"},\"fill_alpha\":{\"type\":\"value\",\"value\":0.1},\"hatch_color\":{\"type\":\"value\",\"value\":\"brown\"},\"hatch_alpha\":{\"type\":\"value\",\"value\":0.1}}},\"muted_glyph\":{\"type\":\"object\",\"name\":\"Circle\",\"id\":\"p1433\",\"attributes\":{\"x\":{\"type\":\"field\",\"field\":\"year\"},\"y\":{\"type\":\"field\",\"field\":\"bronze\"},\"size\":{\"type\":\"value\",\"value\":10},\"line_color\":{\"type\":\"value\",\"value\":\"brown\"},\"line_alpha\":{\"type\":\"value\",\"value\":0.2},\"fill_color\":{\"type\":\"value\",\"value\":\"brown\"},\"fill_alpha\":{\"type\":\"value\",\"value\":0.2},\"hatch_color\":{\"type\":\"value\",\"value\":\"brown\"},\"hatch_alpha\":{\"type\":\"value\",\"value\":0.2}}}}}],\"toolbar\":{\"type\":\"object\",\"name\":\"Toolbar\",\"id\":\"p1392\",\"attributes\":{\"tools\":[{\"type\":\"object\",\"name\":\"PanTool\",\"id\":\"p1400\"},{\"type\":\"object\",\"name\":\"WheelZoomTool\",\"id\":\"p1401\"},{\"type\":\"object\",\"name\":\"BoxZoomTool\",\"id\":\"p1402\",\"attributes\":{\"overlay\":{\"type\":\"object\",\"name\":\"BoxAnnotation\",\"id\":\"p1403\",\"attributes\":{\"syncable\":false,\"level\":\"overlay\",\"visible\":false,\"left_units\":\"canvas\",\"right_units\":\"canvas\",\"bottom_units\":\"canvas\",\"top_units\":\"canvas\",\"line_color\":\"black\",\"line_alpha\":1.0,\"line_width\":2,\"line_dash\":[4,4],\"fill_color\":\"lightgrey\",\"fill_alpha\":0.5}}}},{\"type\":\"object\",\"name\":\"SaveTool\",\"id\":\"p1404\"},{\"type\":\"object\",\"name\":\"ResetTool\",\"id\":\"p1405\"},{\"type\":\"object\",\"name\":\"HelpTool\",\"id\":\"p1406\"},{\"type\":\"object\",\"name\":\"HoverTool\",\"id\":\"p1438\",\"attributes\":{\"renderers\":\"auto\",\"tooltips\":[[\"(year,gold)\",\"(@year, @gold)\"],[\"(year,silver)\",\"(@year, @silver)\"],[\"(year,bronze)\",\"(@year, @bronze)\"]]}}]}},\"left\":[{\"type\":\"object\",\"name\":\"LinearAxis\",\"id\":\"p1395\",\"attributes\":{\"ticker\":{\"type\":\"object\",\"name\":\"BasicTicker\",\"id\":\"p1396\",\"attributes\":{\"mantissas\":[1,2,5]}},\"formatter\":{\"type\":\"object\",\"name\":\"BasicTickFormatter\",\"id\":\"p1397\"},\"axis_label\":\"Number of Medals\",\"major_label_policy\":{\"type\":\"object\",\"name\":\"AllLabels\",\"id\":\"p1398\"}}}],\"below\":[{\"type\":\"object\",\"name\":\"LinearAxis\",\"id\":\"p1440\",\"attributes\":{\"ticker\":{\"type\":\"object\",\"name\":\"SingleIntervalTicker\",\"id\":\"p1439\",\"attributes\":{\"num_minor_ticks\":0,\"interval\":2}},\"formatter\":{\"type\":\"object\",\"name\":\"BasicTickFormatter\",\"id\":\"p1442\",\"attributes\":{\"use_scientific\":false}},\"major_label_policy\":{\"type\":\"object\",\"name\":\"AllLabels\",\"id\":\"p1443\"}}}],\"center\":[{\"type\":\"object\",\"name\":\"Grid\",\"id\":\"p1399\",\"attributes\":{\"dimension\":1,\"axis\":{\"id\":\"p1395\"}}},{\"type\":\"object\",\"name\":\"Legend\",\"id\":\"p1416\",\"attributes\":{\"items\":[{\"type\":\"object\",\"name\":\"LegendItem\",\"id\":\"p1417\",\"attributes\":{\"label\":{\"type\":\"value\",\"value\":\"Gold\"},\"renderers\":[{\"id\":\"p1413\"}]}},{\"type\":\"object\",\"name\":\"LegendItem\",\"id\":\"p1427\",\"attributes\":{\"label\":{\"type\":\"value\",\"value\":\"Silver\"},\"renderers\":[{\"id\":\"p1424\"}]}},{\"type\":\"object\",\"name\":\"LegendItem\",\"id\":\"p1437\",\"attributes\":{\"label\":{\"type\":\"value\",\"value\":\"Bronze\"},\"renderers\":[{\"id\":\"p1434\"}]}}]}}]}}]}};\n  const render_items = [{\"docid\":\"1e1c4978-5d0d-47fb-932d-40955df3097e\",\"roots\":{\"p1383\":\"c1804f4f-8721-415a-b711-10c5d47c1e32\"},\"root_ids\":[\"p1383\"]}];\n  root.Bokeh.embed.embed_items_notebook(docs_json, render_items);\n  }\n  if (root.Bokeh !== undefined) {\n    embed_document(root);\n  } else {\n    let attempts = 0;\n    const timer = setInterval(function(root) {\n      if (root.Bokeh !== undefined) {\n        clearInterval(timer);\n        embed_document(root);\n      } else {\n        attempts++;\n        if (attempts > 100) {\n          clearInterval(timer);\n          console.log(\"Bokeh: ERROR: Unable to run BokehJS code because BokehJS library is missing\");\n        }\n      }\n    }, 10, root)\n  }\n})(window);",
      "application/vnd.bokehjs_exec.v0+json": ""
     },
     "metadata": {
      "application/vnd.bokehjs_exec.v0+json": {
       "id": "p1383"
      }
     },
     "output_type": "display_data"
    }
   ],
   "source": [
    "# to use the bokeh library start with this line\n",
    "from bokeh.plotting import figure, show, output_notebook\n",
    "from bokeh.models import HoverTool, ColumnDataSource, SingleIntervalTicker\n",
    "from bokeh.models import Axis, LinearAxis\n",
    "\n",
    "source = ColumnDataSource(data=dict(year=china_pivot.index, \n",
    "                                    gold=china_pivot['Gold'], \n",
    "                                    silver=china_pivot['Silver'], \n",
    "                                    bronze=china_pivot['Bronze']))\n",
    "\n",
    "# create figure\n",
    "p = figure(title=\"Medals Won at the Olympics by China\", \n",
    "           x_axis_label='Year', \n",
    "           y_axis_label='Number of Medals',\n",
    "           x_axis_type = None) # remove default x-axis\n",
    "\n",
    "# add a circle renderer with\n",
    "# size, color and alpha\n",
    "p.circle('year', 'gold', \n",
    "         size = 10, color = \"gold\", alpha = 0.5, source=source, legend_label=str('Gold'))\n",
    "p.circle('year', 'silver', \n",
    "         size = 10, color = \"silver\", alpha = 0.5, source=source, legend_label=str('Silver'))\n",
    "p.circle('year', 'bronze', \n",
    "         size = 10, color = \"brown\", alpha = 0.5, source=source, legend_label=str('Bronze'))\n",
    "\n",
    "# Specify what shows up when you hover over the point\n",
    "hover = HoverTool()\n",
    "hover.tooltips = [\n",
    "    (\"(year,gold)\", \"(@year, @gold)\"),\n",
    "    (\"(year,silver)\", \"(@year, @silver)\"),\n",
    "    (\"(year,bronze)\", \"(@year, @bronze)\"),\n",
    "]\n",
    "\n",
    "# Add the hover tool to the plot\n",
    "p.add_tools(hover)\n",
    "\n",
    "# change axis ticks\n",
    "ticker = SingleIntervalTicker(interval = 2, # make year interval on new axis 2\n",
    "                              num_minor_ticks = 0) # set number of ticks between major ticks\n",
    "xaxis = LinearAxis(ticker = ticker)\n",
    "p.add_layout(xaxis, 'below') # identify where new axis should lay\n",
    "xaxis.formatter.use_scientific = False # turns x axis into non-scientific format\n",
    "\n",
    "\n",
    "#output results to notebook \n",
    "output_notebook()\n",
    "\n",
    "# show the results\n",
    "show(p) "
   ]
  },
  {
   "cell_type": "markdown",
   "metadata": {},
   "source": [
    "## Make subset for Germany, Denmark, and Greece"
   ]
  },
  {
   "cell_type": "code",
   "execution_count": null,
   "metadata": {},
   "outputs": [
    {
     "data": {
      "text/html": [
       "<div>\n",
       "<style scoped>\n",
       "    .dataframe tbody tr th:only-of-type {\n",
       "        vertical-align: middle;\n",
       "    }\n",
       "\n",
       "    .dataframe tbody tr th {\n",
       "        vertical-align: top;\n",
       "    }\n",
       "\n",
       "    .dataframe thead th {\n",
       "        text-align: right;\n",
       "    }\n",
       "</style>\n",
       "<table border=\"1\" class=\"dataframe\">\n",
       "  <thead>\n",
       "    <tr style=\"text-align: right;\">\n",
       "      <th></th>\n",
       "      <th>Year</th>\n",
       "      <th>Medal</th>\n",
       "      <th>Count</th>\n",
       "    </tr>\n",
       "  </thead>\n",
       "  <tbody>\n",
       "    <tr>\n",
       "      <th>0</th>\n",
       "      <td>1896</td>\n",
       "      <td>Bronze</td>\n",
       "      <td>2</td>\n",
       "    </tr>\n",
       "    <tr>\n",
       "      <th>1</th>\n",
       "      <td>1896</td>\n",
       "      <td>Gold</td>\n",
       "      <td>24</td>\n",
       "    </tr>\n",
       "    <tr>\n",
       "      <th>2</th>\n",
       "      <td>1896</td>\n",
       "      <td>Silver</td>\n",
       "      <td>5</td>\n",
       "    </tr>\n",
       "    <tr>\n",
       "      <th>3</th>\n",
       "      <td>1900</td>\n",
       "      <td>Gold</td>\n",
       "      <td>1</td>\n",
       "    </tr>\n",
       "    <tr>\n",
       "      <th>4</th>\n",
       "      <td>1900</td>\n",
       "      <td>Silver</td>\n",
       "      <td>1</td>\n",
       "    </tr>\n",
       "    <tr>\n",
       "      <th>5</th>\n",
       "      <td>1904</td>\n",
       "      <td>Bronze</td>\n",
       "      <td>6</td>\n",
       "    </tr>\n",
       "    <tr>\n",
       "      <th>6</th>\n",
       "      <td>1904</td>\n",
       "      <td>Gold</td>\n",
       "      <td>4</td>\n",
       "    </tr>\n",
       "    <tr>\n",
       "      <th>7</th>\n",
       "      <td>1904</td>\n",
       "      <td>Silver</td>\n",
       "      <td>5</td>\n",
       "    </tr>\n",
       "    <tr>\n",
       "      <th>8</th>\n",
       "      <td>1906</td>\n",
       "      <td>Bronze</td>\n",
       "      <td>6</td>\n",
       "    </tr>\n",
       "    <tr>\n",
       "      <th>9</th>\n",
       "      <td>1906</td>\n",
       "      <td>Gold</td>\n",
       "      <td>14</td>\n",
       "    </tr>\n",
       "    <tr>\n",
       "      <th>10</th>\n",
       "      <td>1906</td>\n",
       "      <td>Silver</td>\n",
       "      <td>10</td>\n",
       "    </tr>\n",
       "    <tr>\n",
       "      <th>11</th>\n",
       "      <td>1908</td>\n",
       "      <td>Bronze</td>\n",
       "      <td>4</td>\n",
       "    </tr>\n",
       "    <tr>\n",
       "      <th>12</th>\n",
       "      <td>1908</td>\n",
       "      <td>Gold</td>\n",
       "      <td>4</td>\n",
       "    </tr>\n",
       "    <tr>\n",
       "      <th>13</th>\n",
       "      <td>1908</td>\n",
       "      <td>Silver</td>\n",
       "      <td>11</td>\n",
       "    </tr>\n",
       "    <tr>\n",
       "      <th>14</th>\n",
       "      <td>1912</td>\n",
       "      <td>Bronze</td>\n",
       "      <td>14</td>\n",
       "    </tr>\n",
       "    <tr>\n",
       "      <th>15</th>\n",
       "      <td>1912</td>\n",
       "      <td>Gold</td>\n",
       "      <td>6</td>\n",
       "    </tr>\n",
       "    <tr>\n",
       "      <th>16</th>\n",
       "      <td>1912</td>\n",
       "      <td>Silver</td>\n",
       "      <td>19</td>\n",
       "    </tr>\n",
       "    <tr>\n",
       "      <th>17</th>\n",
       "      <td>1928</td>\n",
       "      <td>Bronze</td>\n",
       "      <td>41</td>\n",
       "    </tr>\n",
       "    <tr>\n",
       "      <th>18</th>\n",
       "      <td>1928</td>\n",
       "      <td>Gold</td>\n",
       "      <td>21</td>\n",
       "    </tr>\n",
       "    <tr>\n",
       "      <th>19</th>\n",
       "      <td>1928</td>\n",
       "      <td>Silver</td>\n",
       "      <td>15</td>\n",
       "    </tr>\n",
       "    <tr>\n",
       "      <th>20</th>\n",
       "      <td>1932</td>\n",
       "      <td>Bronze</td>\n",
       "      <td>17</td>\n",
       "    </tr>\n",
       "    <tr>\n",
       "      <th>21</th>\n",
       "      <td>1932</td>\n",
       "      <td>Gold</td>\n",
       "      <td>10</td>\n",
       "    </tr>\n",
       "    <tr>\n",
       "      <th>22</th>\n",
       "      <td>1932</td>\n",
       "      <td>Silver</td>\n",
       "      <td>26</td>\n",
       "    </tr>\n",
       "    <tr>\n",
       "      <th>23</th>\n",
       "      <td>1936</td>\n",
       "      <td>Bronze</td>\n",
       "      <td>55</td>\n",
       "    </tr>\n",
       "    <tr>\n",
       "      <th>24</th>\n",
       "      <td>1936</td>\n",
       "      <td>Gold</td>\n",
       "      <td>93</td>\n",
       "    </tr>\n",
       "    <tr>\n",
       "      <th>25</th>\n",
       "      <td>1936</td>\n",
       "      <td>Silver</td>\n",
       "      <td>72</td>\n",
       "    </tr>\n",
       "    <tr>\n",
       "      <th>26</th>\n",
       "      <td>1952</td>\n",
       "      <td>Bronze</td>\n",
       "      <td>25</td>\n",
       "    </tr>\n",
       "    <tr>\n",
       "      <th>27</th>\n",
       "      <td>1952</td>\n",
       "      <td>Gold</td>\n",
       "      <td>4</td>\n",
       "    </tr>\n",
       "    <tr>\n",
       "      <th>28</th>\n",
       "      <td>1952</td>\n",
       "      <td>Silver</td>\n",
       "      <td>16</td>\n",
       "    </tr>\n",
       "    <tr>\n",
       "      <th>29</th>\n",
       "      <td>1956</td>\n",
       "      <td>Bronze</td>\n",
       "      <td>24</td>\n",
       "    </tr>\n",
       "  </tbody>\n",
       "</table>\n",
       "</div>"
      ],
      "text/plain": [
       "    Year   Medal  Count\n",
       "0   1896  Bronze      2\n",
       "1   1896    Gold     24\n",
       "2   1896  Silver      5\n",
       "3   1900    Gold      1\n",
       "4   1900  Silver      1\n",
       "5   1904  Bronze      6\n",
       "6   1904    Gold      4\n",
       "7   1904  Silver      5\n",
       "8   1906  Bronze      6\n",
       "9   1906    Gold     14\n",
       "10  1906  Silver     10\n",
       "11  1908  Bronze      4\n",
       "12  1908    Gold      4\n",
       "13  1908  Silver     11\n",
       "14  1912  Bronze     14\n",
       "15  1912    Gold      6\n",
       "16  1912  Silver     19\n",
       "17  1928  Bronze     41\n",
       "18  1928    Gold     21\n",
       "19  1928  Silver     15\n",
       "20  1932  Bronze     17\n",
       "21  1932    Gold     10\n",
       "22  1932  Silver     26\n",
       "23  1936  Bronze     55\n",
       "24  1936    Gold     93\n",
       "25  1936  Silver     72\n",
       "26  1952  Bronze     25\n",
       "27  1952    Gold      4\n",
       "28  1952  Silver     16\n",
       "29  1956  Bronze     24"
      ]
     },
     "execution_count": 100,
     "metadata": {},
     "output_type": "execute_result"
    }
   ],
   "source": [
    "# make subset for germany \n",
    "germany_medals = olympic_subset.loc[olympic_subset['Team'] == 'Germany'].groupby([pd.Grouper(key = 'Year'),\n",
    "                                                                              pd.Grouper(key = 'Medal')]).count().reset_index()\n",
    "\n",
    "germany_hist = germany_medals[['Year', 'Medal', 'Name']].rename(columns={'Name' : 'Count'})\n",
    "\n",
    "\n",
    "# make subset for denmark\n",
    "denmark_medals = olympic_subset.loc[olympic_subset['Team'] == 'Denmark'].groupby([pd.Grouper(key = 'Year'),\n",
    "                                                                              pd.Grouper(key = 'Medal')]).count().reset_index()\n",
    "\n",
    "denmark_hist = denmark_medals[['Year', 'Medal', 'Name']].rename(columns={'Name' : 'Count'})\n",
    "\n",
    "# make subset for greece\n",
    "greece_medals = olympic_subset.loc[olympic_subset['Team'] == 'Greece'].groupby([pd.Grouper(key = 'Year'),\n",
    "                                                                              pd.Grouper(key = 'Medal')]).count().reset_index()\n",
    "\n",
    "greece_hist = greece_medals[['Year', 'Medal', 'Name']].rename(columns={'Name' : 'Count'})\n"
   ]
  },
  {
   "cell_type": "markdown",
   "metadata": {},
   "source": [
    "## Simple Histogram"
   ]
  },
  {
   "cell_type": "code",
   "execution_count": null,
   "metadata": {},
   "outputs": [],
   "source": [
    "# Function to map values to colors\n",
    "def assign_color(Medal):\n",
    "    if Medal == \"Gold\":\n",
    "        return \"#FFD700\"\n",
    "    elif Medal == \"Silver\":\n",
    "        return \"#C0C0C0\"\n",
    "    else:\n",
    "        return \"#CD7F32\"\n",
    "\n",
    "# Apply the function to create the \"Color\" column\n",
    "germany_hist['Color'] = germany_hist['Medal'].apply(assign_color)\n",
    "denmark_hist['Color'] = germany_hist['Medal'].apply(assign_color)\n",
    "greece_hist['Color'] = germany_hist['Medal'].apply(assign_color)\n",
    "    \n"
   ]
  },
  {
   "cell_type": "code",
   "execution_count": null,
   "metadata": {},
   "outputs": [
    {
     "data": {
      "text/html": [
       "<style>\n",
       "        .bk-notebook-logo {\n",
       "            display: block;\n",
       "            width: 20px;\n",
       "            height: 20px;\n",
       "            background-image: url(data:image/png;base64,iVBORw0KGgoAAAANSUhEUgAAABQAAAAUCAYAAACNiR0NAAAABHNCSVQICAgIfAhkiAAAAAlwSFlzAAALEgAACxIB0t1+/AAAABx0RVh0U29mdHdhcmUAQWRvYmUgRmlyZXdvcmtzIENTNui8sowAAAOkSURBVDiNjZRtaJVlGMd/1/08zzln5zjP1LWcU9N0NkN8m2CYjpgQYQXqSs0I84OLIC0hkEKoPtiH3gmKoiJDU7QpLgoLjLIQCpEsNJ1vqUOdO7ppbuec5+V+rj4ctwzd8IIbbi6u+8f1539dt3A78eXC7QizUF7gyV1fD1Yqg4JWz84yffhm0qkFqBogB9rM8tZdtwVsPUhWhGcFJngGeWrPzHm5oaMmkfEg1usvLFyc8jLRqDOMru7AyC8saQr7GG7f5fvDeH7Ej8CM66nIF+8yngt6HWaKh7k49Soy9nXurCi1o3qUbS3zWfrYeQDTB/Qj6kX6Ybhw4B+bOYoLKCC9H3Nu/leUTZ1JdRWkkn2ldcCamzrcf47KKXdAJllSlxAOkRgyHsGC/zRday5Qld9DyoM4/q/rUoy/CXh3jzOu3bHUVZeU+DEn8FInkPBFlu3+nW3Nw0mk6vCDiWg8CeJaxEwuHS3+z5RgY+YBR6V1Z1nxSOfoaPa4LASWxxdNp+VWTk7+4vzaou8v8PN+xo+KY2xsw6une2frhw05CTYOmQvsEhjhWjn0bmXPjpE1+kplmmkP3suftwTubK9Vq22qKmrBhpY4jvd5afdRA3wGjFAgcnTK2s4hY0/GPNIb0nErGMCRxWOOX64Z8RAC4oCXdklmEvcL8o0BfkNK4lUg9HTl+oPlQxdNo3Mg4Nv175e/1LDGzZen30MEjRUtmXSfiTVu1kK8W4txyV6BMKlbgk3lMwYCiusNy9fVfvvwMxv8Ynl6vxoByANLTWplvuj/nF9m2+PDtt1eiHPBr1oIfhCChQMBw6Aw0UulqTKZdfVvfG7VcfIqLG9bcldL/+pdWTLxLUy8Qq38heUIjh4XlzZxzQm19lLFlr8vdQ97rjZVOLf8nclzckbcD4wxXMidpX30sFd37Fv/GtwwhzhxGVAprjbg0gCAEeIgwCZyTV2Z1REEW8O4py0wsjeloKoMr6iCY6dP92H6Vw/oTyICIthibxjm/DfN9lVz8IqtqKYLUXfoKVMVQVVJOElGjrnnUt9T9wbgp8AyYKaGlqingHZU/uG2NTZSVqwHQTWkx9hxjkpWDaCg6Ckj5qebgBVbT3V3NNXMSiWSDdGV3hrtzla7J+duwPOToIg42ChPQOQjspnSlp1V+Gjdged7+8UN5CRAV7a5EdFNwCjEaBR27b3W890TE7g24NAP/mMDXRWrGoFPQI9ls/MWO2dWFAar/xcOIImbbpA3zgAAAABJRU5ErkJggg==);\n",
       "        }\n",
       "    </style>\n",
       "    <div>\n",
       "        <a href=\"https://bokeh.org\" target=\"_blank\" class=\"bk-notebook-logo\"></a>\n",
       "        <span id=\"c57b3e02-6b67-4c99-a3ba-f3f7c798ab81\">Loading BokehJS ...</span>\n",
       "    </div>\n"
      ]
     },
     "metadata": {},
     "output_type": "display_data"
    },
    {
     "data": {
      "application/javascript": "(function(root) {\n  function now() {\n    return new Date();\n  }\n\n  const force = true;\n\n  if (typeof root._bokeh_onload_callbacks === \"undefined\" || force === true) {\n    root._bokeh_onload_callbacks = [];\n    root._bokeh_is_loading = undefined;\n  }\n\nconst JS_MIME_TYPE = 'application/javascript';\n  const HTML_MIME_TYPE = 'text/html';\n  const EXEC_MIME_TYPE = 'application/vnd.bokehjs_exec.v0+json';\n  const CLASS_NAME = 'output_bokeh rendered_html';\n\n  /**\n   * Render data to the DOM node\n   */\n  function render(props, node) {\n    const script = document.createElement(\"script\");\n    node.appendChild(script);\n  }\n\n  /**\n   * Handle when an output is cleared or removed\n   */\n  function handleClearOutput(event, handle) {\n    const cell = handle.cell;\n\n    const id = cell.output_area._bokeh_element_id;\n    const server_id = cell.output_area._bokeh_server_id;\n    // Clean up Bokeh references\n    if (id != null && id in Bokeh.index) {\n      Bokeh.index[id].model.document.clear();\n      delete Bokeh.index[id];\n    }\n\n    if (server_id !== undefined) {\n      // Clean up Bokeh references\n      const cmd_clean = \"from bokeh.io.state import curstate; print(curstate().uuid_to_server['\" + server_id + \"'].get_sessions()[0].document.roots[0]._id)\";\n      cell.notebook.kernel.execute(cmd_clean, {\n        iopub: {\n          output: function(msg) {\n            const id = msg.content.text.trim();\n            if (id in Bokeh.index) {\n              Bokeh.index[id].model.document.clear();\n              delete Bokeh.index[id];\n            }\n          }\n        }\n      });\n      // Destroy server and session\n      const cmd_destroy = \"import bokeh.io.notebook as ion; ion.destroy_server('\" + server_id + \"')\";\n      cell.notebook.kernel.execute(cmd_destroy);\n    }\n  }\n\n  /**\n   * Handle when a new output is added\n   */\n  function handleAddOutput(event, handle) {\n    const output_area = handle.output_area;\n    const output = handle.output;\n\n    // limit handleAddOutput to display_data with EXEC_MIME_TYPE content only\n    if ((output.output_type != \"display_data\") || (!Object.prototype.hasOwnProperty.call(output.data, EXEC_MIME_TYPE))) {\n      return\n    }\n\n    const toinsert = output_area.element.find(\".\" + CLASS_NAME.split(' ')[0]);\n\n    if (output.metadata[EXEC_MIME_TYPE][\"id\"] !== undefined) {\n      toinsert[toinsert.length - 1].firstChild.textContent = output.data[JS_MIME_TYPE];\n      // store reference to embed id on output_area\n      output_area._bokeh_element_id = output.metadata[EXEC_MIME_TYPE][\"id\"];\n    }\n    if (output.metadata[EXEC_MIME_TYPE][\"server_id\"] !== undefined) {\n      const bk_div = document.createElement(\"div\");\n      bk_div.innerHTML = output.data[HTML_MIME_TYPE];\n      const script_attrs = bk_div.children[0].attributes;\n      for (let i = 0; i < script_attrs.length; i++) {\n        toinsert[toinsert.length - 1].firstChild.setAttribute(script_attrs[i].name, script_attrs[i].value);\n        toinsert[toinsert.length - 1].firstChild.textContent = bk_div.children[0].textContent\n      }\n      // store reference to server id on output_area\n      output_area._bokeh_server_id = output.metadata[EXEC_MIME_TYPE][\"server_id\"];\n    }\n  }\n\n  function register_renderer(events, OutputArea) {\n\n    function append_mime(data, metadata, element) {\n      // create a DOM node to render to\n      const toinsert = this.create_output_subarea(\n        metadata,\n        CLASS_NAME,\n        EXEC_MIME_TYPE\n      );\n      this.keyboard_manager.register_events(toinsert);\n      // Render to node\n      const props = {data: data, metadata: metadata[EXEC_MIME_TYPE]};\n      render(props, toinsert[toinsert.length - 1]);\n      element.append(toinsert);\n      return toinsert\n    }\n\n    /* Handle when an output is cleared or removed */\n    events.on('clear_output.CodeCell', handleClearOutput);\n    events.on('delete.Cell', handleClearOutput);\n\n    /* Handle when a new output is added */\n    events.on('output_added.OutputArea', handleAddOutput);\n\n    /**\n     * Register the mime type and append_mime function with output_area\n     */\n    OutputArea.prototype.register_mime_type(EXEC_MIME_TYPE, append_mime, {\n      /* Is output safe? */\n      safe: true,\n      /* Index of renderer in `output_area.display_order` */\n      index: 0\n    });\n  }\n\n  // register the mime type if in Jupyter Notebook environment and previously unregistered\n  if (root.Jupyter !== undefined) {\n    const events = require('base/js/events');\n    const OutputArea = require('notebook/js/outputarea').OutputArea;\n\n    if (OutputArea.prototype.mime_types().indexOf(EXEC_MIME_TYPE) == -1) {\n      register_renderer(events, OutputArea);\n    }\n  }\n  if (typeof (root._bokeh_timeout) === \"undefined\" || force === true) {\n    root._bokeh_timeout = Date.now() + 5000;\n    root._bokeh_failed_load = false;\n  }\n\n  const NB_LOAD_WARNING = {'data': {'text/html':\n     \"<div style='background-color: #fdd'>\\n\"+\n     \"<p>\\n\"+\n     \"BokehJS does not appear to have successfully loaded. If loading BokehJS from CDN, this \\n\"+\n     \"may be due to a slow or bad network connection. Possible fixes:\\n\"+\n     \"</p>\\n\"+\n     \"<ul>\\n\"+\n     \"<li>re-rerun `output_notebook()` to attempt to load from CDN again, or</li>\\n\"+\n     \"<li>use INLINE resources instead, as so:</li>\\n\"+\n     \"</ul>\\n\"+\n     \"<code>\\n\"+\n     \"from bokeh.resources import INLINE\\n\"+\n     \"output_notebook(resources=INLINE)\\n\"+\n     \"</code>\\n\"+\n     \"</div>\"}};\n\n  function display_loaded() {\n    const el = document.getElementById(\"c57b3e02-6b67-4c99-a3ba-f3f7c798ab81\");\n    if (el != null) {\n      el.textContent = \"BokehJS is loading...\";\n    }\n    if (root.Bokeh !== undefined) {\n      if (el != null) {\n        el.textContent = \"BokehJS \" + root.Bokeh.version + \" successfully loaded.\";\n      }\n    } else if (Date.now() < root._bokeh_timeout) {\n      setTimeout(display_loaded, 100)\n    }\n  }\n\n  function run_callbacks() {\n    try {\n      root._bokeh_onload_callbacks.forEach(function(callback) {\n        if (callback != null)\n          callback();\n      });\n    } finally {\n      delete root._bokeh_onload_callbacks\n    }\n    console.debug(\"Bokeh: all callbacks have finished\");\n  }\n\n  function load_libs(css_urls, js_urls, callback) {\n    if (css_urls == null) css_urls = [];\n    if (js_urls == null) js_urls = [];\n\n    root._bokeh_onload_callbacks.push(callback);\n    if (root._bokeh_is_loading > 0) {\n      console.debug(\"Bokeh: BokehJS is being loaded, scheduling callback at\", now());\n      return null;\n    }\n    if (js_urls == null || js_urls.length === 0) {\n      run_callbacks();\n      return null;\n    }\n    console.debug(\"Bokeh: BokehJS not loaded, scheduling load and callback at\", now());\n    root._bokeh_is_loading = css_urls.length + js_urls.length;\n\n    function on_load() {\n      root._bokeh_is_loading--;\n      if (root._bokeh_is_loading === 0) {\n        console.debug(\"Bokeh: all BokehJS libraries/stylesheets loaded\");\n        run_callbacks()\n      }\n    }\n\n    function on_error(url) {\n      console.error(\"failed to load \" + url);\n    }\n\n    for (let i = 0; i < css_urls.length; i++) {\n      const url = css_urls[i];\n      const element = document.createElement(\"link\");\n      element.onload = on_load;\n      element.onerror = on_error.bind(null, url);\n      element.rel = \"stylesheet\";\n      element.type = \"text/css\";\n      element.href = url;\n      console.debug(\"Bokeh: injecting link tag for BokehJS stylesheet: \", url);\n      document.body.appendChild(element);\n    }\n\n    for (let i = 0; i < js_urls.length; i++) {\n      const url = js_urls[i];\n      const element = document.createElement('script');\n      element.onload = on_load;\n      element.onerror = on_error.bind(null, url);\n      element.async = false;\n      element.src = url;\n      console.debug(\"Bokeh: injecting script tag for BokehJS library: \", url);\n      document.head.appendChild(element);\n    }\n  };\n\n  function inject_raw_css(css) {\n    const element = document.createElement(\"style\");\n    element.appendChild(document.createTextNode(css));\n    document.body.appendChild(element);\n  }\n\n  const js_urls = [\"https://cdn.bokeh.org/bokeh/release/bokeh-3.2.1.min.js\", \"https://cdn.bokeh.org/bokeh/release/bokeh-gl-3.2.1.min.js\", \"https://cdn.bokeh.org/bokeh/release/bokeh-widgets-3.2.1.min.js\", \"https://cdn.bokeh.org/bokeh/release/bokeh-tables-3.2.1.min.js\", \"https://cdn.bokeh.org/bokeh/release/bokeh-mathjax-3.2.1.min.js\"];\n  const css_urls = [];\n\n  const inline_js = [    function(Bokeh) {\n      Bokeh.set_log_level(\"info\");\n    },\nfunction(Bokeh) {\n    }\n  ];\n\n  function run_inline_js() {\n    if (root.Bokeh !== undefined || force === true) {\n          for (let i = 0; i < inline_js.length; i++) {\n      inline_js[i].call(root, root.Bokeh);\n    }\nif (force === true) {\n        display_loaded();\n      }} else if (Date.now() < root._bokeh_timeout) {\n      setTimeout(run_inline_js, 100);\n    } else if (!root._bokeh_failed_load) {\n      console.log(\"Bokeh: BokehJS failed to load within specified timeout.\");\n      root._bokeh_failed_load = true;\n    } else if (force !== true) {\n      const cell = $(document.getElementById(\"c57b3e02-6b67-4c99-a3ba-f3f7c798ab81\")).parents('.cell').data().cell;\n      cell.output_area.append_execute_result(NB_LOAD_WARNING)\n    }\n  }\n\n  if (root._bokeh_is_loading === 0) {\n    console.debug(\"Bokeh: BokehJS loaded, going straight to plotting\");\n    run_inline_js();\n  } else {\n    load_libs(css_urls, js_urls, function() {\n      console.debug(\"Bokeh: BokehJS plotting callback run at\", now());\n      run_inline_js();\n    });\n  }\n}(window));",
      "application/vnd.bokehjs_load.v0+json": ""
     },
     "metadata": {},
     "output_type": "display_data"
    },
    {
     "data": {
      "text/html": [
       "\n",
       "  <div id=\"d6b739d0-36af-4471-8842-5f544c2b61d8\" data-root-id=\"p5494\" style=\"display: contents;\"></div>\n"
      ]
     },
     "metadata": {},
     "output_type": "display_data"
    },
    {
     "data": {
      "application/javascript": "(function(root) {\n  function embed_document(root) {\n  const docs_json = {\"8c4b43fe-b326-41e7-ad30-9769b51bdf0c\":{\"version\":\"3.2.1\",\"title\":\"Bokeh Application\",\"roots\":[{\"type\":\"object\",\"name\":\"Figure\",\"id\":\"p5494\",\"attributes\":{\"x_range\":{\"type\":\"object\",\"name\":\"DataRange1d\",\"id\":\"p5495\"},\"y_range\":{\"type\":\"object\",\"name\":\"DataRange1d\",\"id\":\"p5496\"},\"x_scale\":{\"type\":\"object\",\"name\":\"LinearScale\",\"id\":\"p5503\"},\"y_scale\":{\"type\":\"object\",\"name\":\"LinearScale\",\"id\":\"p5504\"},\"title\":{\"type\":\"object\",\"name\":\"Title\",\"id\":\"p5501\"},\"renderers\":[{\"type\":\"object\",\"name\":\"GlyphRenderer\",\"id\":\"p5531\",\"attributes\":{\"data_source\":{\"type\":\"object\",\"name\":\"ColumnDataSource\",\"id\":\"p5522\",\"attributes\":{\"selected\":{\"type\":\"object\",\"name\":\"Selection\",\"id\":\"p5523\",\"attributes\":{\"indices\":[],\"line_indices\":[]}},\"selection_policy\":{\"type\":\"object\",\"name\":\"UnionRenderers\",\"id\":\"p5524\"},\"data\":{\"type\":\"map\",\"entries\":[[\"index\",{\"type\":\"ndarray\",\"array\":{\"type\":\"bytes\",\"data\":\"AAAAAAEAAAACAAAAAwAAAAQAAAAFAAAABgAAAAcAAAAIAAAACQAAAAoAAAALAAAADAAAAA0AAAAOAAAADwAAABAAAAARAAAAEgAAABMAAAAUAAAAFQAAABYAAAAXAAAAGAAAABkAAAAaAAAAGwAAABwAAAAdAAAAHgAAAB8AAAAgAAAAIQAAACIAAAAjAAAAJAAAACUAAAAmAAAAJwAAACgAAAApAAAAKgAAACsAAAAsAAAALQAAAC4AAAAvAAAAMAAAADEAAAAyAAAAMwAAADQAAAA1AAAANgAAADcAAAA4AAAAOQAAADoAAAA7AAAAPAAAAD0AAAA+AAAAPwAAAEAAAABBAAAAQgAAAEMAAABEAAAARQAAAEYAAABHAAAASAAAAEkAAABKAAAASwAAAEwAAAA=\"},\"shape\":[77],\"dtype\":\"int32\",\"order\":\"little\"}],[\"Year\",{\"type\":\"ndarray\",\"array\":{\"type\":\"bytes\",\"data\":\"aAcAAGgHAABoBwAAbAcAAGwHAABwBwAAcAcAAHAHAAByBwAAcgcAAHIHAAB0BwAAdAcAAHQHAAB4BwAAeAcAAHgHAACIBwAAiAcAAIgHAACMBwAAjAcAAIwHAACQBwAAkAcAAJAHAACgBwAAoAcAAKAHAACkBwAApAcAAKQHAACoBwAAqAcAAKgHAACsBwAArAcAAKwHAADIBwAAyAcAAMgHAADKBwAAygcAAMoHAADMBwAAzAcAAMwHAADOBwAAzgcAAM4HAADQBwAA0AcAANAHAADSBwAA0gcAANIHAADUBwAA1AcAANQHAADWBwAA1gcAANYHAADYBwAA2AcAANgHAADaBwAA2gcAANoHAADcBwAA3AcAANwHAADeBwAA3gcAAN4HAADgBwAA4AcAAOAHAAA=\"},\"shape\":[77],\"dtype\":\"int32\",\"order\":\"little\"}],[\"Medal\",{\"type\":\"ndarray\",\"array\":[\"Bronze\",\"Gold\",\"Silver\",\"Gold\",\"Silver\",\"Bronze\",\"Gold\",\"Silver\",\"Bronze\",\"Gold\",\"Silver\",\"Bronze\",\"Gold\",\"Silver\",\"Bronze\",\"Gold\",\"Silver\",\"Bronze\",\"Gold\",\"Silver\",\"Bronze\",\"Gold\",\"Silver\",\"Bronze\",\"Gold\",\"Silver\",\"Bronze\",\"Gold\",\"Silver\",\"Bronze\",\"Gold\",\"Silver\",\"Bronze\",\"Gold\",\"Silver\",\"Bronze\",\"Gold\",\"Silver\",\"Bronze\",\"Gold\",\"Silver\",\"Bronze\",\"Gold\",\"Silver\",\"Bronze\",\"Gold\",\"Silver\",\"Bronze\",\"Gold\",\"Silver\",\"Bronze\",\"Gold\",\"Silver\",\"Bronze\",\"Gold\",\"Silver\",\"Bronze\",\"Gold\",\"Silver\",\"Bronze\",\"Gold\",\"Silver\",\"Bronze\",\"Gold\",\"Silver\",\"Bronze\",\"Gold\",\"Silver\",\"Bronze\",\"Gold\",\"Silver\",\"Bronze\",\"Gold\",\"Silver\",\"Bronze\",\"Gold\",\"Silver\"],\"shape\":[77],\"dtype\":\"object\",\"order\":\"little\"}],[\"Count\",{\"type\":\"ndarray\",\"array\":{\"type\":\"bytes\",\"data\":\"AgAAABgAAAAFAAAAAQAAAAEAAAAGAAAABAAAAAUAAAAGAAAADgAAAAoAAAAEAAAABAAAAAsAAAAOAAAABgAAABMAAAApAAAAFQAAAA8AAAARAAAACgAAABoAAAA3AAAAXQAAAEgAAAAZAAAABAAAABAAAAAYAAAACgAAABQAAAAUAAAAJgAAACMAAAA1AAAAGQAAACsAAABBAAAAXQAAAEIAAAAGAAAADgAAAAoAAAAtAAAAKgAAACMAAAAGAAAAEAAAAAwAAAA+AAAAHwAAABcAAAAKAAAAEgAAABUAAAA/AAAAKQAAACsAAAAGAAAADwAAABcAAAApAAAAJwAAABAAAAALAAAADQAAABIAAAAWAAAAKwAAABsAAAAHAAAADQAAAAwAAABDAAAALwAAACsAAAA=\"},\"shape\":[77],\"dtype\":\"int32\",\"order\":\"little\"}],[\"Color\",{\"type\":\"ndarray\",\"array\":[\"#CD7F32\",\"#FFD700\",\"#C0C0C0\",\"#FFD700\",\"#C0C0C0\",\"#CD7F32\",\"#FFD700\",\"#C0C0C0\",\"#CD7F32\",\"#FFD700\",\"#C0C0C0\",\"#CD7F32\",\"#FFD700\",\"#C0C0C0\",\"#CD7F32\",\"#FFD700\",\"#C0C0C0\",\"#CD7F32\",\"#FFD700\",\"#C0C0C0\",\"#CD7F32\",\"#FFD700\",\"#C0C0C0\",\"#CD7F32\",\"#FFD700\",\"#C0C0C0\",\"#CD7F32\",\"#FFD700\",\"#C0C0C0\",\"#CD7F32\",\"#FFD700\",\"#C0C0C0\",\"#CD7F32\",\"#FFD700\",\"#C0C0C0\",\"#CD7F32\",\"#FFD700\",\"#C0C0C0\",\"#CD7F32\",\"#FFD700\",\"#C0C0C0\",\"#CD7F32\",\"#FFD700\",\"#C0C0C0\",\"#CD7F32\",\"#FFD700\",\"#C0C0C0\",\"#CD7F32\",\"#FFD700\",\"#C0C0C0\",\"#CD7F32\",\"#FFD700\",\"#C0C0C0\",\"#CD7F32\",\"#FFD700\",\"#C0C0C0\",\"#CD7F32\",\"#FFD700\",\"#C0C0C0\",\"#CD7F32\",\"#FFD700\",\"#C0C0C0\",\"#CD7F32\",\"#FFD700\",\"#C0C0C0\",\"#CD7F32\",\"#FFD700\",\"#C0C0C0\",\"#CD7F32\",\"#FFD700\",\"#C0C0C0\",\"#CD7F32\",\"#FFD700\",\"#C0C0C0\",\"#CD7F32\",\"#FFD700\",\"#C0C0C0\"],\"shape\":[77],\"dtype\":\"object\",\"order\":\"little\"}]]}}},\"view\":{\"type\":\"object\",\"name\":\"CDSView\",\"id\":\"p5532\",\"attributes\":{\"filter\":{\"type\":\"object\",\"name\":\"AllIndices\",\"id\":\"p5533\"}}},\"glyph\":{\"type\":\"object\",\"name\":\"VBar\",\"id\":\"p5528\",\"attributes\":{\"x\":{\"type\":\"field\",\"field\":\"Year\"},\"width\":{\"type\":\"value\",\"value\":0.75},\"top\":{\"type\":\"field\",\"field\":\"Count\"},\"line_color\":{\"type\":\"field\",\"field\":\"Color\"},\"fill_color\":{\"type\":\"field\",\"field\":\"Color\"},\"hatch_color\":{\"type\":\"field\",\"field\":\"Color\"}}},\"nonselection_glyph\":{\"type\":\"object\",\"name\":\"VBar\",\"id\":\"p5529\",\"attributes\":{\"x\":{\"type\":\"field\",\"field\":\"Year\"},\"width\":{\"type\":\"value\",\"value\":0.75},\"top\":{\"type\":\"field\",\"field\":\"Count\"},\"line_color\":{\"type\":\"field\",\"field\":\"Color\"},\"line_alpha\":{\"type\":\"value\",\"value\":0.1},\"fill_color\":{\"type\":\"field\",\"field\":\"Color\"},\"fill_alpha\":{\"type\":\"value\",\"value\":0.1},\"hatch_color\":{\"type\":\"field\",\"field\":\"Color\"},\"hatch_alpha\":{\"type\":\"value\",\"value\":0.1}}},\"muted_glyph\":{\"type\":\"object\",\"name\":\"VBar\",\"id\":\"p5530\",\"attributes\":{\"x\":{\"type\":\"field\",\"field\":\"Year\"},\"width\":{\"type\":\"value\",\"value\":0.75},\"top\":{\"type\":\"field\",\"field\":\"Count\"},\"line_color\":{\"type\":\"field\",\"field\":\"Color\"},\"line_alpha\":{\"type\":\"value\",\"value\":0.2},\"fill_color\":{\"type\":\"field\",\"field\":\"Color\"},\"fill_alpha\":{\"type\":\"value\",\"value\":0.2},\"hatch_color\":{\"type\":\"field\",\"field\":\"Color\"},\"hatch_alpha\":{\"type\":\"value\",\"value\":0.2}}}}}],\"toolbar\":{\"type\":\"object\",\"name\":\"Toolbar\",\"id\":\"p5502\",\"attributes\":{\"tools\":[{\"type\":\"object\",\"name\":\"PanTool\",\"id\":\"p5515\"},{\"type\":\"object\",\"name\":\"WheelZoomTool\",\"id\":\"p5516\"},{\"type\":\"object\",\"name\":\"BoxZoomTool\",\"id\":\"p5517\",\"attributes\":{\"overlay\":{\"type\":\"object\",\"name\":\"BoxAnnotation\",\"id\":\"p5518\",\"attributes\":{\"syncable\":false,\"level\":\"overlay\",\"visible\":false,\"left_units\":\"canvas\",\"right_units\":\"canvas\",\"bottom_units\":\"canvas\",\"top_units\":\"canvas\",\"line_color\":\"black\",\"line_alpha\":1.0,\"line_width\":2,\"line_dash\":[4,4],\"fill_color\":\"lightgrey\",\"fill_alpha\":0.5}}}},{\"type\":\"object\",\"name\":\"SaveTool\",\"id\":\"p5519\"},{\"type\":\"object\",\"name\":\"ResetTool\",\"id\":\"p5520\"},{\"type\":\"object\",\"name\":\"HelpTool\",\"id\":\"p5521\"}]}},\"left\":[{\"type\":\"object\",\"name\":\"LinearAxis\",\"id\":\"p5510\",\"attributes\":{\"ticker\":{\"type\":\"object\",\"name\":\"BasicTicker\",\"id\":\"p5511\",\"attributes\":{\"mantissas\":[1,2,5]}},\"formatter\":{\"type\":\"object\",\"name\":\"BasicTickFormatter\",\"id\":\"p5512\"},\"major_label_policy\":{\"type\":\"object\",\"name\":\"AllLabels\",\"id\":\"p5513\"}}}],\"below\":[{\"type\":\"object\",\"name\":\"LinearAxis\",\"id\":\"p5505\",\"attributes\":{\"ticker\":{\"type\":\"object\",\"name\":\"BasicTicker\",\"id\":\"p5506\",\"attributes\":{\"mantissas\":[1,2,5]}},\"formatter\":{\"type\":\"object\",\"name\":\"BasicTickFormatter\",\"id\":\"p5507\"},\"major_label_policy\":{\"type\":\"object\",\"name\":\"AllLabels\",\"id\":\"p5508\"}}}],\"center\":[{\"type\":\"object\",\"name\":\"Grid\",\"id\":\"p5509\",\"attributes\":{\"axis\":{\"id\":\"p5505\"}}},{\"type\":\"object\",\"name\":\"Grid\",\"id\":\"p5514\",\"attributes\":{\"dimension\":1,\"axis\":{\"id\":\"p5510\"}}}]}}]}};\n  const render_items = [{\"docid\":\"8c4b43fe-b326-41e7-ad30-9769b51bdf0c\",\"roots\":{\"p5494\":\"d6b739d0-36af-4471-8842-5f544c2b61d8\"},\"root_ids\":[\"p5494\"]}];\n  root.Bokeh.embed.embed_items_notebook(docs_json, render_items);\n  }\n  if (root.Bokeh !== undefined) {\n    embed_document(root);\n  } else {\n    let attempts = 0;\n    const timer = setInterval(function(root) {\n      if (root.Bokeh !== undefined) {\n        clearInterval(timer);\n        embed_document(root);\n      } else {\n        attempts++;\n        if (attempts > 100) {\n          clearInterval(timer);\n          console.log(\"Bokeh: ERROR: Unable to run BokehJS code because BokehJS library is missing\");\n        }\n      }\n    }, 10, root)\n  }\n})(window);",
      "application/vnd.bokehjs_exec.v0+json": ""
     },
     "metadata": {
      "application/vnd.bokehjs_exec.v0+json": {
       "id": "p5494"
      }
     },
     "output_type": "display_data"
    }
   ],
   "source": [
    "# Importing library's\n",
    "import numpy as np\n",
    "from bokeh.plotting import figure, show, output_notebook\n",
    "output_notebook()\n",
    "\n",
    "p = figure()\n",
    "p.vbar('Year', top='Count', width=0.75, fill_alpha=1, color = 'Color', source = germany_hist)\n",
    "\n",
    "show(p)\n"
   ]
  },
  {
   "cell_type": "code",
   "execution_count": null,
   "metadata": {},
   "outputs": [],
   "source": []
  },
  {
   "cell_type": "markdown",
   "metadata": {},
   "source": [
    "# Better Histogram"
   ]
  },
  {
   "cell_type": "code",
   "execution_count": null,
   "metadata": {},
   "outputs": [
    {
     "data": {
      "text/html": [
       "\n",
       "  <div id=\"fd73b6da-3dda-4c54-87cf-1e1f7c2a29c8\" data-root-id=\"p3118\" style=\"display: contents;\"></div>\n"
      ]
     },
     "metadata": {},
     "output_type": "display_data"
    },
    {
     "data": {
      "application/javascript": "(function(root) {\n  function embed_document(root) {\n  const docs_json = {\"4efc37fe-bb1f-4167-99fa-5916889bbdd7\":{\"version\":\"3.2.1\",\"title\":\"Bokeh Application\",\"roots\":[{\"type\":\"object\",\"name\":\"Figure\",\"id\":\"p3118\",\"attributes\":{\"width\":2000,\"x_range\":{\"type\":\"object\",\"name\":\"DataRange1d\",\"id\":\"p3119\"},\"y_range\":{\"type\":\"object\",\"name\":\"DataRange1d\",\"id\":\"p3120\"},\"x_scale\":{\"type\":\"object\",\"name\":\"LinearScale\",\"id\":\"p3128\"},\"y_scale\":{\"type\":\"object\",\"name\":\"LinearScale\",\"id\":\"p3129\"},\"title\":{\"type\":\"object\",\"name\":\"Title\",\"id\":\"p3121\",\"attributes\":{\"text\":\"Medals Won at the Olympics by Germany\"}},\"renderers\":[{\"type\":\"object\",\"name\":\"GlyphRenderer\",\"id\":\"p3151\",\"attributes\":{\"data_source\":{\"type\":\"object\",\"name\":\"ColumnDataSource\",\"id\":\"p3142\",\"attributes\":{\"selected\":{\"type\":\"object\",\"name\":\"Selection\",\"id\":\"p3143\",\"attributes\":{\"indices\":[],\"line_indices\":[]}},\"selection_policy\":{\"type\":\"object\",\"name\":\"UnionRenderers\",\"id\":\"p3144\"},\"data\":{\"type\":\"map\",\"entries\":[[\"index\",{\"type\":\"ndarray\",\"array\":{\"type\":\"bytes\",\"data\":\"AAAAAAEAAAACAAAAAwAAAAQAAAAFAAAABgAAAAcAAAAIAAAACQAAAAoAAAALAAAADAAAAA0AAAAOAAAADwAAABAAAAARAAAAEgAAABMAAAAUAAAAFQAAABYAAAAXAAAAGAAAABkAAAAaAAAAGwAAABwAAAAdAAAAHgAAAB8AAAAgAAAAIQAAACIAAAAjAAAAJAAAACUAAAAmAAAAJwAAACgAAAApAAAAKgAAACsAAAAsAAAALQAAAC4AAAAvAAAAMAAAADEAAAAyAAAAMwAAADQAAAA1AAAANgAAADcAAAA4AAAAOQAAADoAAAA7AAAAPAAAAD0AAAA+AAAAPwAAAEAAAABBAAAAQgAAAEMAAABEAAAARQAAAEYAAABHAAAASAAAAEkAAABKAAAASwAAAEwAAAA=\"},\"shape\":[77],\"dtype\":\"int32\",\"order\":\"little\"}],[\"Year\",{\"type\":\"ndarray\",\"array\":{\"type\":\"bytes\",\"data\":\"aAcAAGgHAABoBwAAbAcAAGwHAABwBwAAcAcAAHAHAAByBwAAcgcAAHIHAAB0BwAAdAcAAHQHAAB4BwAAeAcAAHgHAACIBwAAiAcAAIgHAACMBwAAjAcAAIwHAACQBwAAkAcAAJAHAACgBwAAoAcAAKAHAACkBwAApAcAAKQHAACoBwAAqAcAAKgHAACsBwAArAcAAKwHAADIBwAAyAcAAMgHAADKBwAAygcAAMoHAADMBwAAzAcAAMwHAADOBwAAzgcAAM4HAADQBwAA0AcAANAHAADSBwAA0gcAANIHAADUBwAA1AcAANQHAADWBwAA1gcAANYHAADYBwAA2AcAANgHAADaBwAA2gcAANoHAADcBwAA3AcAANwHAADeBwAA3gcAAN4HAADgBwAA4AcAAOAHAAA=\"},\"shape\":[77],\"dtype\":\"int32\",\"order\":\"little\"}],[\"Medal\",{\"type\":\"ndarray\",\"array\":[\"Bronze\",\"Gold\",\"Silver\",\"Gold\",\"Silver\",\"Bronze\",\"Gold\",\"Silver\",\"Bronze\",\"Gold\",\"Silver\",\"Bronze\",\"Gold\",\"Silver\",\"Bronze\",\"Gold\",\"Silver\",\"Bronze\",\"Gold\",\"Silver\",\"Bronze\",\"Gold\",\"Silver\",\"Bronze\",\"Gold\",\"Silver\",\"Bronze\",\"Gold\",\"Silver\",\"Bronze\",\"Gold\",\"Silver\",\"Bronze\",\"Gold\",\"Silver\",\"Bronze\",\"Gold\",\"Silver\",\"Bronze\",\"Gold\",\"Silver\",\"Bronze\",\"Gold\",\"Silver\",\"Bronze\",\"Gold\",\"Silver\",\"Bronze\",\"Gold\",\"Silver\",\"Bronze\",\"Gold\",\"Silver\",\"Bronze\",\"Gold\",\"Silver\",\"Bronze\",\"Gold\",\"Silver\",\"Bronze\",\"Gold\",\"Silver\",\"Bronze\",\"Gold\",\"Silver\",\"Bronze\",\"Gold\",\"Silver\",\"Bronze\",\"Gold\",\"Silver\",\"Bronze\",\"Gold\",\"Silver\",\"Bronze\",\"Gold\",\"Silver\"],\"shape\":[77],\"dtype\":\"object\",\"order\":\"little\"}],[\"Count\",{\"type\":\"ndarray\",\"array\":{\"type\":\"bytes\",\"data\":\"AgAAABgAAAAFAAAAAQAAAAEAAAAGAAAABAAAAAUAAAAGAAAADgAAAAoAAAAEAAAABAAAAAsAAAAOAAAABgAAABMAAAApAAAAFQAAAA8AAAARAAAACgAAABoAAAA3AAAAXQAAAEgAAAAZAAAABAAAABAAAAAYAAAACgAAABQAAAAUAAAAJgAAACMAAAA1AAAAGQAAACsAAABBAAAAXQAAAEIAAAAGAAAADgAAAAoAAAAtAAAAKgAAACMAAAAGAAAAEAAAAAwAAAA+AAAAHwAAABcAAAAKAAAAEgAAABUAAAA/AAAAKQAAACsAAAAGAAAADwAAABcAAAApAAAAJwAAABAAAAALAAAADQAAABIAAAAWAAAAKwAAABsAAAAHAAAADQAAAAwAAABDAAAALwAAACsAAAA=\"},\"shape\":[77],\"dtype\":\"int32\",\"order\":\"little\"}],[\"Color\",{\"type\":\"ndarray\",\"array\":[\"#CD7F32\",\"#FFD700\",\"#C0C0C0\",\"#FFD700\",\"#C0C0C0\",\"#CD7F32\",\"#FFD700\",\"#C0C0C0\",\"#CD7F32\",\"#FFD700\",\"#C0C0C0\",\"#CD7F32\",\"#FFD700\",\"#C0C0C0\",\"#CD7F32\",\"#FFD700\",\"#C0C0C0\",\"#CD7F32\",\"#FFD700\",\"#C0C0C0\",\"#CD7F32\",\"#FFD700\",\"#C0C0C0\",\"#CD7F32\",\"#FFD700\",\"#C0C0C0\",\"#CD7F32\",\"#FFD700\",\"#C0C0C0\",\"#CD7F32\",\"#FFD700\",\"#C0C0C0\",\"#CD7F32\",\"#FFD700\",\"#C0C0C0\",\"#CD7F32\",\"#FFD700\",\"#C0C0C0\",\"#CD7F32\",\"#FFD700\",\"#C0C0C0\",\"#CD7F32\",\"#FFD700\",\"#C0C0C0\",\"#CD7F32\",\"#FFD700\",\"#C0C0C0\",\"#CD7F32\",\"#FFD700\",\"#C0C0C0\",\"#CD7F32\",\"#FFD700\",\"#C0C0C0\",\"#CD7F32\",\"#FFD700\",\"#C0C0C0\",\"#CD7F32\",\"#FFD700\",\"#C0C0C0\",\"#CD7F32\",\"#FFD700\",\"#C0C0C0\",\"#CD7F32\",\"#FFD700\",\"#C0C0C0\",\"#CD7F32\",\"#FFD700\",\"#C0C0C0\",\"#CD7F32\",\"#FFD700\",\"#C0C0C0\",\"#CD7F32\",\"#FFD700\",\"#C0C0C0\",\"#CD7F32\",\"#FFD700\",\"#C0C0C0\"],\"shape\":[77],\"dtype\":\"object\",\"order\":\"little\"}]]}}},\"view\":{\"type\":\"object\",\"name\":\"CDSView\",\"id\":\"p3152\",\"attributes\":{\"filter\":{\"type\":\"object\",\"name\":\"AllIndices\",\"id\":\"p3153\"}}},\"glyph\":{\"type\":\"object\",\"name\":\"VBar\",\"id\":\"p3148\",\"attributes\":{\"x\":{\"type\":\"field\",\"field\":\"Year\"},\"width\":{\"type\":\"value\",\"value\":0.75},\"top\":{\"type\":\"field\",\"field\":\"Count\"},\"line_color\":{\"type\":\"field\",\"field\":\"Color\"},\"fill_color\":{\"type\":\"field\",\"field\":\"Color\"},\"fill_alpha\":{\"type\":\"value\",\"value\":0.5},\"hatch_color\":{\"type\":\"field\",\"field\":\"Color\"}}},\"nonselection_glyph\":{\"type\":\"object\",\"name\":\"VBar\",\"id\":\"p3149\",\"attributes\":{\"x\":{\"type\":\"field\",\"field\":\"Year\"},\"width\":{\"type\":\"value\",\"value\":0.75},\"top\":{\"type\":\"field\",\"field\":\"Count\"},\"line_color\":{\"type\":\"field\",\"field\":\"Color\"},\"line_alpha\":{\"type\":\"value\",\"value\":0.1},\"fill_color\":{\"type\":\"field\",\"field\":\"Color\"},\"fill_alpha\":{\"type\":\"value\",\"value\":0.1},\"hatch_color\":{\"type\":\"field\",\"field\":\"Color\"},\"hatch_alpha\":{\"type\":\"value\",\"value\":0.1}}},\"muted_glyph\":{\"type\":\"object\",\"name\":\"VBar\",\"id\":\"p3150\",\"attributes\":{\"x\":{\"type\":\"field\",\"field\":\"Year\"},\"width\":{\"type\":\"value\",\"value\":0.75},\"top\":{\"type\":\"field\",\"field\":\"Count\"},\"line_color\":{\"type\":\"field\",\"field\":\"Color\"},\"line_alpha\":{\"type\":\"value\",\"value\":0.2},\"fill_color\":{\"type\":\"field\",\"field\":\"Color\"},\"fill_alpha\":{\"type\":\"value\",\"value\":0.2},\"hatch_color\":{\"type\":\"field\",\"field\":\"Color\"},\"hatch_alpha\":{\"type\":\"value\",\"value\":0.2}}}}}],\"toolbar\":{\"type\":\"object\",\"name\":\"Toolbar\",\"id\":\"p3127\",\"attributes\":{\"tools\":[{\"type\":\"object\",\"name\":\"PanTool\",\"id\":\"p3135\"},{\"type\":\"object\",\"name\":\"WheelZoomTool\",\"id\":\"p3136\"},{\"type\":\"object\",\"name\":\"BoxZoomTool\",\"id\":\"p3137\",\"attributes\":{\"overlay\":{\"type\":\"object\",\"name\":\"BoxAnnotation\",\"id\":\"p3138\",\"attributes\":{\"syncable\":false,\"level\":\"overlay\",\"visible\":false,\"left_units\":\"canvas\",\"right_units\":\"canvas\",\"bottom_units\":\"canvas\",\"top_units\":\"canvas\",\"line_color\":\"black\",\"line_alpha\":1.0,\"line_width\":2,\"line_dash\":[4,4],\"fill_color\":\"lightgrey\",\"fill_alpha\":0.5}}}},{\"type\":\"object\",\"name\":\"SaveTool\",\"id\":\"p3139\"},{\"type\":\"object\",\"name\":\"ResetTool\",\"id\":\"p3140\"},{\"type\":\"object\",\"name\":\"HelpTool\",\"id\":\"p3141\"}]}},\"left\":[{\"type\":\"object\",\"name\":\"LinearAxis\",\"id\":\"p3130\",\"attributes\":{\"ticker\":{\"type\":\"object\",\"name\":\"BasicTicker\",\"id\":\"p3131\",\"attributes\":{\"mantissas\":[1,2,5]}},\"formatter\":{\"type\":\"object\",\"name\":\"BasicTickFormatter\",\"id\":\"p3132\"},\"axis_label\":\"Number of Medals\",\"major_label_policy\":{\"type\":\"object\",\"name\":\"AllLabels\",\"id\":\"p3133\"}}}],\"below\":[{\"type\":\"object\",\"name\":\"LinearAxis\",\"id\":\"p3157\",\"attributes\":{\"ticker\":{\"type\":\"object\",\"name\":\"SingleIntervalTicker\",\"id\":\"p3156\",\"attributes\":{\"num_minor_ticks\":0,\"interval\":2}},\"formatter\":{\"type\":\"object\",\"name\":\"BasicTickFormatter\",\"id\":\"p3159\",\"attributes\":{\"use_scientific\":false}},\"major_label_policy\":{\"type\":\"object\",\"name\":\"AllLabels\",\"id\":\"p3160\"}}}],\"center\":[{\"type\":\"object\",\"name\":\"Grid\",\"id\":\"p3134\",\"attributes\":{\"dimension\":1,\"axis\":{\"id\":\"p3130\"}}},{\"type\":\"object\",\"name\":\"Legend\",\"id\":\"p3154\",\"attributes\":{\"items\":[{\"type\":\"object\",\"name\":\"LegendItem\",\"id\":\"p3155\",\"attributes\":{\"label\":{\"type\":\"field\",\"field\":\"Medal\"},\"renderers\":[{\"id\":\"p3151\"}]}}]}}]}}]}};\n  const render_items = [{\"docid\":\"4efc37fe-bb1f-4167-99fa-5916889bbdd7\",\"roots\":{\"p3118\":\"fd73b6da-3dda-4c54-87cf-1e1f7c2a29c8\"},\"root_ids\":[\"p3118\"]}];\n  root.Bokeh.embed.embed_items_notebook(docs_json, render_items);\n  }\n  if (root.Bokeh !== undefined) {\n    embed_document(root);\n  } else {\n    let attempts = 0;\n    const timer = setInterval(function(root) {\n      if (root.Bokeh !== undefined) {\n        clearInterval(timer);\n        embed_document(root);\n      } else {\n        attempts++;\n        if (attempts > 100) {\n          clearInterval(timer);\n          console.log(\"Bokeh: ERROR: Unable to run BokehJS code because BokehJS library is missing\");\n        }\n      }\n    }, 10, root)\n  }\n})(window);",
      "application/vnd.bokehjs_exec.v0+json": ""
     },
     "metadata": {
      "application/vnd.bokehjs_exec.v0+json": {
       "id": "p3118"
      }
     },
     "output_type": "display_data"
    }
   ],
   "source": [
    "# germany \n",
    "p1 = figure(title=\"Medals Won at the Olympics by Germany\", \n",
    "           x_axis_label='Year', \n",
    "           y_axis_label='Number of Medals',\n",
    "           x_axis_type = None, # remove default x axis\n",
    "           width = 2000) # make width of figure larger\n",
    "\n",
    "p1.vbar('Year', # the column that we want to have on the x axis\n",
    "       top='Count', # the column with the values we want to plot\n",
    "       width=0.75, # width of the bars \n",
    "       fill_alpha= 0.5, \n",
    "       color='Color', # the column that we want to color in \n",
    "       source = germany_hist,\n",
    "       legend_field='Medal')\n",
    "\n",
    "# change axis ticks\n",
    "ticker = SingleIntervalTicker(interval = 2, # make year interval on new axis 2\n",
    "                              num_minor_ticks = 0) # set number of ticks between major ticks\n",
    "xaxis = LinearAxis(ticker = ticker)\n",
    "xaxis.formatter.use_scientific = False # turns x axis into non-scientific format\n",
    "p1.add_layout(xaxis, 'below') # identify where new axis should lay\n",
    "\n",
    "\n",
    "show(p1)"
   ]
  },
  {
   "cell_type": "code",
   "execution_count": null,
   "metadata": {},
   "outputs": [
    {
     "data": {
      "text/html": [
       "\n",
       "  <div id=\"a07f93ab-cf07-4fe8-9723-3e815a77f234\" data-root-id=\"p3164\" style=\"display: contents;\"></div>\n"
      ]
     },
     "metadata": {},
     "output_type": "display_data"
    },
    {
     "data": {
      "application/javascript": "(function(root) {\n  function embed_document(root) {\n  const docs_json = {\"bd699954-9c10-4147-a77d-82b19c94b79e\":{\"version\":\"3.2.1\",\"title\":\"Bokeh Application\",\"roots\":[{\"type\":\"object\",\"name\":\"Figure\",\"id\":\"p3164\",\"attributes\":{\"width\":2000,\"x_range\":{\"type\":\"object\",\"name\":\"DataRange1d\",\"id\":\"p3165\"},\"y_range\":{\"type\":\"object\",\"name\":\"DataRange1d\",\"id\":\"p3166\"},\"x_scale\":{\"type\":\"object\",\"name\":\"LinearScale\",\"id\":\"p3174\"},\"y_scale\":{\"type\":\"object\",\"name\":\"LinearScale\",\"id\":\"p3175\"},\"title\":{\"type\":\"object\",\"name\":\"Title\",\"id\":\"p3167\",\"attributes\":{\"text\":\"Medals Won at the Olympics by Denmark\"}},\"renderers\":[{\"type\":\"object\",\"name\":\"GlyphRenderer\",\"id\":\"p3197\",\"attributes\":{\"data_source\":{\"type\":\"object\",\"name\":\"ColumnDataSource\",\"id\":\"p3188\",\"attributes\":{\"selected\":{\"type\":\"object\",\"name\":\"Selection\",\"id\":\"p3189\",\"attributes\":{\"indices\":[],\"line_indices\":[]}},\"selection_policy\":{\"type\":\"object\",\"name\":\"UnionRenderers\",\"id\":\"p3190\"},\"data\":{\"type\":\"map\",\"entries\":[[\"index\",{\"type\":\"ndarray\",\"array\":{\"type\":\"bytes\",\"data\":\"AAAAAAEAAAACAAAAAwAAAAQAAAAFAAAABgAAAAcAAAAIAAAACQAAAAoAAAALAAAADAAAAA0AAAAOAAAADwAAABAAAAARAAAAEgAAABMAAAAUAAAAFQAAABYAAAAXAAAAGAAAABkAAAAaAAAAGwAAABwAAAAdAAAAHgAAAB8AAAAgAAAAIQAAACIAAAAjAAAAJAAAACUAAAAmAAAAJwAAACgAAAApAAAAKgAAACsAAAAsAAAALQAAAC4AAAAvAAAAMAAAADEAAAAyAAAAMwAAADQAAAA1AAAANgAAADcAAAA4AAAAOQAAADoAAAA7AAAAPAAAAD0AAAA+AAAAPwAAAEAAAABBAAAAQgAAAEMAAABEAAAARQAAAEYAAABHAAAASAAAAEkAAABKAAAASwAAAEwAAAA=\"},\"shape\":[77],\"dtype\":\"int32\",\"order\":\"little\"}],[\"Year\",{\"type\":\"ndarray\",\"array\":{\"type\":\"bytes\",\"data\":\"aAcAAGgHAABoBwAAbAcAAGwHAABsBwAAcgcAAHIHAAByBwAAdAcAAHQHAAB4BwAAeAcAAIAHAACABwAAgAcAAIQHAACEBwAAhAcAAIgHAACIBwAAiAcAAIwHAACMBwAAkAcAAJAHAACcBwAAnAcAAJwHAACgBwAAoAcAAKAHAACkBwAApAcAAKQHAACoBwAAqAcAAKgHAACsBwAArAcAAKwHAACwBwAAsAcAALAHAAC0BwAAuAcAALgHAAC8BwAAvAcAALwHAADABwAAwAcAAMQHAADEBwAAxAcAAMgHAADIBwAAyAcAAMwHAADMBwAAzAcAAM4HAADQBwAA0AcAANAHAADUBwAA1AcAANQHAADYBwAA2AcAANgHAADcBwAA3AcAANwHAADgBwAA4AcAAOAHAAA=\"},\"shape\":[77],\"dtype\":\"int32\",\"order\":\"little\"}],[\"Medal\",{\"type\":\"ndarray\",\"array\":[\"Bronze\",\"Gold\",\"Silver\",\"Bronze\",\"Gold\",\"Silver\",\"Bronze\",\"Gold\",\"Silver\",\"Bronze\",\"Silver\",\"Bronze\",\"Silver\",\"Bronze\",\"Gold\",\"Silver\",\"Bronze\",\"Gold\",\"Silver\",\"Bronze\",\"Gold\",\"Silver\",\"Bronze\",\"Silver\",\"Bronze\",\"Silver\",\"Bronze\",\"Gold\",\"Silver\",\"Bronze\",\"Gold\",\"Silver\",\"Bronze\",\"Gold\",\"Silver\",\"Bronze\",\"Gold\",\"Silver\",\"Bronze\",\"Gold\",\"Silver\",\"Bronze\",\"Gold\",\"Silver\",\"Gold\",\"Bronze\",\"Gold\",\"Bronze\",\"Gold\",\"Silver\",\"Bronze\",\"Silver\",\"Bronze\",\"Gold\",\"Silver\",\"Bronze\",\"Gold\",\"Silver\",\"Bronze\",\"Gold\",\"Silver\",\"Silver\",\"Bronze\",\"Gold\",\"Silver\",\"Bronze\",\"Gold\",\"Silver\",\"Bronze\",\"Gold\",\"Silver\",\"Bronze\",\"Gold\",\"Silver\",\"Bronze\",\"Gold\",\"Silver\"],\"shape\":[77],\"dtype\":\"object\",\"order\":\"little\"}],[\"Count\",{\"type\":\"ndarray\",\"array\":{\"type\":\"bytes\",\"data\":\"AwAAAAEAAAACAAAAAgAAAAEAAAADAAAAAQAAAA4AAAATAAAAAwAAAA4AAAAcAAAALgAAAAEAAAAaAAAALAAAAAMAAAACAAAABgAAAAQAAAAGAAAAAQAAAAQAAAAHAAAAAwAAAAMAAAAYAAAABwAAABEAAAAFAAAAAwAAAAEAAAABAAAAAQAAAAEAAAAEAAAAAgAAAAwAAAAEAAAABAAAAAEAAAAGAAAABQAAAAYAAAABAAAABQAAAAMAAAACAAAABAAAAAIAAAAKAAAAAwAAAAMAAAADAAAAAQAAAAkAAAADAAAAAgAAAAEAAAAVAAAAAQAAAAUAAAAEAAAAEgAAAAMAAAAHAAAAEwAAAAEAAAADAAAABgAAAAcAAAAGAAAAAwAAAAUAAAAQAAAADwAAAAoAAAA=\"},\"shape\":[77],\"dtype\":\"int32\",\"order\":\"little\"}],[\"Color\",{\"type\":\"ndarray\",\"array\":[\"#CD7F32\",\"#FFD700\",\"#C0C0C0\",\"#FFD700\",\"#C0C0C0\",\"#CD7F32\",\"#FFD700\",\"#C0C0C0\",\"#CD7F32\",\"#FFD700\",\"#C0C0C0\",\"#CD7F32\",\"#FFD700\",\"#C0C0C0\",\"#CD7F32\",\"#FFD700\",\"#C0C0C0\",\"#CD7F32\",\"#FFD700\",\"#C0C0C0\",\"#CD7F32\",\"#FFD700\",\"#C0C0C0\",\"#CD7F32\",\"#FFD700\",\"#C0C0C0\",\"#CD7F32\",\"#FFD700\",\"#C0C0C0\",\"#CD7F32\",\"#FFD700\",\"#C0C0C0\",\"#CD7F32\",\"#FFD700\",\"#C0C0C0\",\"#CD7F32\",\"#FFD700\",\"#C0C0C0\",\"#CD7F32\",\"#FFD700\",\"#C0C0C0\",\"#CD7F32\",\"#FFD700\",\"#C0C0C0\",\"#CD7F32\",\"#FFD700\",\"#C0C0C0\",\"#CD7F32\",\"#FFD700\",\"#C0C0C0\",\"#CD7F32\",\"#FFD700\",\"#C0C0C0\",\"#CD7F32\",\"#FFD700\",\"#C0C0C0\",\"#CD7F32\",\"#FFD700\",\"#C0C0C0\",\"#CD7F32\",\"#FFD700\",\"#C0C0C0\",\"#CD7F32\",\"#FFD700\",\"#C0C0C0\",\"#CD7F32\",\"#FFD700\",\"#C0C0C0\",\"#CD7F32\",\"#FFD700\",\"#C0C0C0\",\"#CD7F32\",\"#FFD700\",\"#C0C0C0\",\"#CD7F32\",\"#FFD700\",\"#C0C0C0\"],\"shape\":[77],\"dtype\":\"object\",\"order\":\"little\"}]]}}},\"view\":{\"type\":\"object\",\"name\":\"CDSView\",\"id\":\"p3198\",\"attributes\":{\"filter\":{\"type\":\"object\",\"name\":\"AllIndices\",\"id\":\"p3199\"}}},\"glyph\":{\"type\":\"object\",\"name\":\"VBar\",\"id\":\"p3194\",\"attributes\":{\"x\":{\"type\":\"field\",\"field\":\"Year\"},\"width\":{\"type\":\"value\",\"value\":0.75},\"top\":{\"type\":\"field\",\"field\":\"Count\"},\"line_color\":{\"type\":\"field\",\"field\":\"Color\"},\"fill_color\":{\"type\":\"field\",\"field\":\"Color\"},\"fill_alpha\":{\"type\":\"value\",\"value\":0.5},\"hatch_color\":{\"type\":\"field\",\"field\":\"Color\"}}},\"nonselection_glyph\":{\"type\":\"object\",\"name\":\"VBar\",\"id\":\"p3195\",\"attributes\":{\"x\":{\"type\":\"field\",\"field\":\"Year\"},\"width\":{\"type\":\"value\",\"value\":0.75},\"top\":{\"type\":\"field\",\"field\":\"Count\"},\"line_color\":{\"type\":\"field\",\"field\":\"Color\"},\"line_alpha\":{\"type\":\"value\",\"value\":0.1},\"fill_color\":{\"type\":\"field\",\"field\":\"Color\"},\"fill_alpha\":{\"type\":\"value\",\"value\":0.1},\"hatch_color\":{\"type\":\"field\",\"field\":\"Color\"},\"hatch_alpha\":{\"type\":\"value\",\"value\":0.1}}},\"muted_glyph\":{\"type\":\"object\",\"name\":\"VBar\",\"id\":\"p3196\",\"attributes\":{\"x\":{\"type\":\"field\",\"field\":\"Year\"},\"width\":{\"type\":\"value\",\"value\":0.75},\"top\":{\"type\":\"field\",\"field\":\"Count\"},\"line_color\":{\"type\":\"field\",\"field\":\"Color\"},\"line_alpha\":{\"type\":\"value\",\"value\":0.2},\"fill_color\":{\"type\":\"field\",\"field\":\"Color\"},\"fill_alpha\":{\"type\":\"value\",\"value\":0.2},\"hatch_color\":{\"type\":\"field\",\"field\":\"Color\"},\"hatch_alpha\":{\"type\":\"value\",\"value\":0.2}}}}}],\"toolbar\":{\"type\":\"object\",\"name\":\"Toolbar\",\"id\":\"p3173\",\"attributes\":{\"tools\":[{\"type\":\"object\",\"name\":\"PanTool\",\"id\":\"p3181\"},{\"type\":\"object\",\"name\":\"WheelZoomTool\",\"id\":\"p3182\"},{\"type\":\"object\",\"name\":\"BoxZoomTool\",\"id\":\"p3183\",\"attributes\":{\"overlay\":{\"type\":\"object\",\"name\":\"BoxAnnotation\",\"id\":\"p3184\",\"attributes\":{\"syncable\":false,\"level\":\"overlay\",\"visible\":false,\"left_units\":\"canvas\",\"right_units\":\"canvas\",\"bottom_units\":\"canvas\",\"top_units\":\"canvas\",\"line_color\":\"black\",\"line_alpha\":1.0,\"line_width\":2,\"line_dash\":[4,4],\"fill_color\":\"lightgrey\",\"fill_alpha\":0.5}}}},{\"type\":\"object\",\"name\":\"SaveTool\",\"id\":\"p3185\"},{\"type\":\"object\",\"name\":\"ResetTool\",\"id\":\"p3186\"},{\"type\":\"object\",\"name\":\"HelpTool\",\"id\":\"p3187\"}]}},\"left\":[{\"type\":\"object\",\"name\":\"LinearAxis\",\"id\":\"p3176\",\"attributes\":{\"ticker\":{\"type\":\"object\",\"name\":\"BasicTicker\",\"id\":\"p3177\",\"attributes\":{\"mantissas\":[1,2,5]}},\"formatter\":{\"type\":\"object\",\"name\":\"BasicTickFormatter\",\"id\":\"p3178\"},\"axis_label\":\"Number of Medals\",\"major_label_policy\":{\"type\":\"object\",\"name\":\"AllLabels\",\"id\":\"p3179\"}}}],\"below\":[{\"type\":\"object\",\"name\":\"LinearAxis\",\"id\":\"p3203\",\"attributes\":{\"ticker\":{\"type\":\"object\",\"name\":\"SingleIntervalTicker\",\"id\":\"p3202\",\"attributes\":{\"num_minor_ticks\":0,\"interval\":2}},\"formatter\":{\"type\":\"object\",\"name\":\"BasicTickFormatter\",\"id\":\"p3205\",\"attributes\":{\"use_scientific\":false}},\"major_label_policy\":{\"type\":\"object\",\"name\":\"AllLabels\",\"id\":\"p3206\"}}}],\"center\":[{\"type\":\"object\",\"name\":\"Grid\",\"id\":\"p3180\",\"attributes\":{\"dimension\":1,\"axis\":{\"id\":\"p3176\"}}},{\"type\":\"object\",\"name\":\"Legend\",\"id\":\"p3200\",\"attributes\":{\"items\":[{\"type\":\"object\",\"name\":\"LegendItem\",\"id\":\"p3201\",\"attributes\":{\"label\":{\"type\":\"field\",\"field\":\"Medal\"},\"renderers\":[{\"id\":\"p3197\"}]}}]}}]}}]}};\n  const render_items = [{\"docid\":\"bd699954-9c10-4147-a77d-82b19c94b79e\",\"roots\":{\"p3164\":\"a07f93ab-cf07-4fe8-9723-3e815a77f234\"},\"root_ids\":[\"p3164\"]}];\n  root.Bokeh.embed.embed_items_notebook(docs_json, render_items);\n  }\n  if (root.Bokeh !== undefined) {\n    embed_document(root);\n  } else {\n    let attempts = 0;\n    const timer = setInterval(function(root) {\n      if (root.Bokeh !== undefined) {\n        clearInterval(timer);\n        embed_document(root);\n      } else {\n        attempts++;\n        if (attempts > 100) {\n          clearInterval(timer);\n          console.log(\"Bokeh: ERROR: Unable to run BokehJS code because BokehJS library is missing\");\n        }\n      }\n    }, 10, root)\n  }\n})(window);",
      "application/vnd.bokehjs_exec.v0+json": ""
     },
     "metadata": {
      "application/vnd.bokehjs_exec.v0+json": {
       "id": "p3164"
      }
     },
     "output_type": "display_data"
    }
   ],
   "source": [
    "# denmark\n",
    "p2 = figure(title=\"Medals Won at the Olympics by Denmark\", \n",
    "           x_axis_label='Year', \n",
    "           y_axis_label='Number of Medals',\n",
    "           x_axis_type = None, # remove default x axis\n",
    "           width = 2000) # make width of figure larger\n",
    "\n",
    "p2.vbar('Year', # the column that we want to have on the x axis\n",
    "       top='Count', # the column with the values we want to plot\n",
    "       width=0.75, # width of the bars \n",
    "       fill_alpha = 0.5, \n",
    "       color='Color', # the column that we want to color in \n",
    "       source = denmark_hist,\n",
    "       legend_field='Medal')\n",
    "\n",
    "# change axis ticks\n",
    "ticker = SingleIntervalTicker(interval = 2, # make year interval on new axis 2\n",
    "                              num_minor_ticks = 0) # set number of ticks between major ticks\n",
    "xaxis = LinearAxis(ticker = ticker)\n",
    "xaxis.formatter.use_scientific = False # turns x axis into non-scientific format\n",
    "p2.add_layout(xaxis, 'below') # identify where new axis should lay\n",
    "\n",
    "\n",
    "show(p2)"
   ]
  },
  {
   "cell_type": "code",
   "execution_count": null,
   "metadata": {},
   "outputs": [
    {
     "data": {
      "text/html": [
       "\n",
       "  <div id=\"d0b4ab01-65b4-41cc-9ed0-0b0cf7fe3dd3\" data-root-id=\"p2611\" style=\"display: contents;\"></div>\n"
      ]
     },
     "metadata": {},
     "output_type": "display_data"
    },
    {
     "data": {
      "application/javascript": "(function(root) {\n  function embed_document(root) {\n  const docs_json = {\"172e8e2b-58a8-4eb7-8acd-a413e35eda63\":{\"version\":\"3.2.1\",\"title\":\"Bokeh Application\",\"roots\":[{\"type\":\"object\",\"name\":\"Figure\",\"id\":\"p2611\",\"attributes\":{\"width\":2000,\"x_range\":{\"type\":\"object\",\"name\":\"DataRange1d\",\"id\":\"p2612\"},\"y_range\":{\"type\":\"object\",\"name\":\"DataRange1d\",\"id\":\"p2613\"},\"x_scale\":{\"type\":\"object\",\"name\":\"LinearScale\",\"id\":\"p2621\"},\"y_scale\":{\"type\":\"object\",\"name\":\"LinearScale\",\"id\":\"p2622\"},\"title\":{\"type\":\"object\",\"name\":\"Title\",\"id\":\"p2614\",\"attributes\":{\"text\":\"Medals Won at the Olympics by Greece\"}},\"renderers\":[{\"type\":\"object\",\"name\":\"GlyphRenderer\",\"id\":\"p2644\",\"attributes\":{\"data_source\":{\"type\":\"object\",\"name\":\"ColumnDataSource\",\"id\":\"p2635\",\"attributes\":{\"selected\":{\"type\":\"object\",\"name\":\"Selection\",\"id\":\"p2636\",\"attributes\":{\"indices\":[],\"line_indices\":[]}},\"selection_policy\":{\"type\":\"object\",\"name\":\"UnionRenderers\",\"id\":\"p2637\"},\"data\":{\"type\":\"map\",\"entries\":[[\"index\",{\"type\":\"ndarray\",\"array\":{\"type\":\"bytes\",\"data\":\"AAAAAAEAAAACAAAAAwAAAAQAAAAFAAAABgAAAAcAAAAIAAAACQAAAAoAAAALAAAADAAAAA0AAAAOAAAADwAAABAAAAARAAAAEgAAABMAAAAUAAAAFQAAABYAAAAXAAAAGAAAABkAAAAaAAAAGwAAABwAAAAdAAAAHgAAAB8AAAAgAAAAIQAAACIAAAAjAAAAJAAAAA==\"},\"shape\":[37],\"dtype\":\"int32\",\"order\":\"little\"}],[\"Year\",{\"type\":\"ndarray\",\"array\":{\"type\":\"bytes\",\"data\":\"aAcAAGgHAABoBwAAcAcAAHAHAAByBwAAcgcAAHIHAAB0BwAAdAcAAHgHAAB4BwAAgAcAAIQHAACkBwAAsAcAALQHAAC8BwAAvAcAAMAHAADABwAAxAcAAMgHAADMBwAAzAcAANAHAADQBwAA0AcAANQHAADUBwAA1AcAANgHAADYBwAA3AcAAOAHAADgBwAA4AcAAA==\"},\"shape\":[37],\"dtype\":\"int32\",\"order\":\"little\"}],[\"Medal\",{\"type\":\"ndarray\",\"array\":[\"Bronze\",\"Gold\",\"Silver\",\"Bronze\",\"Gold\",\"Bronze\",\"Gold\",\"Silver\",\"Bronze\",\"Silver\",\"Bronze\",\"Gold\",\"Silver\",\"Gold\",\"Bronze\",\"Bronze\",\"Silver\",\"Bronze\",\"Gold\",\"Bronze\",\"Silver\",\"Bronze\",\"Gold\",\"Gold\",\"Silver\",\"Bronze\",\"Gold\",\"Silver\",\"Bronze\",\"Gold\",\"Silver\",\"Bronze\",\"Silver\",\"Bronze\",\"Bronze\",\"Gold\",\"Silver\"],\"shape\":[37],\"dtype\":\"object\",\"order\":\"little\"}],[\"Count\",{\"type\":\"ndarray\",\"array\":{\"type\":\"bytes\",\"data\":\"EgAAAAoAAAAQAAAAAQAAAAEAAAAKAAAABwAAAAsAAAABAAAAAwAAAAEAAAABAAAABQAAAAEAAAABAAAAAQAAAAIAAAAEAAAAAQAAAAEAAAABAAAAAQAAAAIAAAAEAAAABAAAAAgAAAAEAAAABgAAAAUAAAAIAAAAEgAAAAQAAAADAAAAAwAAAAMAAAADAAAAAQAAAA==\"},\"shape\":[37],\"dtype\":\"int32\",\"order\":\"little\"}]]}}},\"view\":{\"type\":\"object\",\"name\":\"CDSView\",\"id\":\"p2645\",\"attributes\":{\"filter\":{\"type\":\"object\",\"name\":\"AllIndices\",\"id\":\"p2646\"}}},\"glyph\":{\"type\":\"object\",\"name\":\"VBar\",\"id\":\"p2641\",\"attributes\":{\"x\":{\"type\":\"field\",\"field\":\"Year\"},\"width\":{\"type\":\"value\",\"value\":0.75},\"top\":{\"type\":\"field\",\"field\":\"Count\"},\"line_color\":{\"type\":\"field\",\"field\":\"Medal\"},\"fill_color\":{\"type\":\"field\",\"field\":\"Medal\"},\"fill_alpha\":{\"type\":\"value\",\"value\":0.5},\"hatch_color\":{\"type\":\"field\",\"field\":\"Medal\"}}},\"nonselection_glyph\":{\"type\":\"object\",\"name\":\"VBar\",\"id\":\"p2642\",\"attributes\":{\"x\":{\"type\":\"field\",\"field\":\"Year\"},\"width\":{\"type\":\"value\",\"value\":0.75},\"top\":{\"type\":\"field\",\"field\":\"Count\"},\"line_color\":{\"type\":\"field\",\"field\":\"Medal\"},\"line_alpha\":{\"type\":\"value\",\"value\":0.1},\"fill_color\":{\"type\":\"field\",\"field\":\"Medal\"},\"fill_alpha\":{\"type\":\"value\",\"value\":0.1},\"hatch_color\":{\"type\":\"field\",\"field\":\"Medal\"},\"hatch_alpha\":{\"type\":\"value\",\"value\":0.1}}},\"muted_glyph\":{\"type\":\"object\",\"name\":\"VBar\",\"id\":\"p2643\",\"attributes\":{\"x\":{\"type\":\"field\",\"field\":\"Year\"},\"width\":{\"type\":\"value\",\"value\":0.75},\"top\":{\"type\":\"field\",\"field\":\"Count\"},\"line_color\":{\"type\":\"field\",\"field\":\"Medal\"},\"line_alpha\":{\"type\":\"value\",\"value\":0.2},\"fill_color\":{\"type\":\"field\",\"field\":\"Medal\"},\"fill_alpha\":{\"type\":\"value\",\"value\":0.2},\"hatch_color\":{\"type\":\"field\",\"field\":\"Medal\"},\"hatch_alpha\":{\"type\":\"value\",\"value\":0.2}}}}}],\"toolbar\":{\"type\":\"object\",\"name\":\"Toolbar\",\"id\":\"p2620\",\"attributes\":{\"tools\":[{\"type\":\"object\",\"name\":\"PanTool\",\"id\":\"p2628\"},{\"type\":\"object\",\"name\":\"WheelZoomTool\",\"id\":\"p2629\"},{\"type\":\"object\",\"name\":\"BoxZoomTool\",\"id\":\"p2630\",\"attributes\":{\"overlay\":{\"type\":\"object\",\"name\":\"BoxAnnotation\",\"id\":\"p2631\",\"attributes\":{\"syncable\":false,\"level\":\"overlay\",\"visible\":false,\"left_units\":\"canvas\",\"right_units\":\"canvas\",\"bottom_units\":\"canvas\",\"top_units\":\"canvas\",\"line_color\":\"black\",\"line_alpha\":1.0,\"line_width\":2,\"line_dash\":[4,4],\"fill_color\":\"lightgrey\",\"fill_alpha\":0.5}}}},{\"type\":\"object\",\"name\":\"SaveTool\",\"id\":\"p2632\"},{\"type\":\"object\",\"name\":\"ResetTool\",\"id\":\"p2633\"},{\"type\":\"object\",\"name\":\"HelpTool\",\"id\":\"p2634\"}]}},\"left\":[{\"type\":\"object\",\"name\":\"LinearAxis\",\"id\":\"p2623\",\"attributes\":{\"ticker\":{\"type\":\"object\",\"name\":\"BasicTicker\",\"id\":\"p2624\",\"attributes\":{\"mantissas\":[1,2,5]}},\"formatter\":{\"type\":\"object\",\"name\":\"BasicTickFormatter\",\"id\":\"p2625\"},\"axis_label\":\"Number of Medals\",\"major_label_policy\":{\"type\":\"object\",\"name\":\"AllLabels\",\"id\":\"p2626\"}}}],\"below\":[{\"type\":\"object\",\"name\":\"LinearAxis\",\"id\":\"p2650\",\"attributes\":{\"ticker\":{\"type\":\"object\",\"name\":\"SingleIntervalTicker\",\"id\":\"p2649\",\"attributes\":{\"num_minor_ticks\":0,\"interval\":2}},\"formatter\":{\"type\":\"object\",\"name\":\"BasicTickFormatter\",\"id\":\"p2652\",\"attributes\":{\"use_scientific\":false}},\"major_label_policy\":{\"type\":\"object\",\"name\":\"AllLabels\",\"id\":\"p2653\"}}}],\"center\":[{\"type\":\"object\",\"name\":\"Grid\",\"id\":\"p2627\",\"attributes\":{\"dimension\":1,\"axis\":{\"id\":\"p2623\"}}},{\"type\":\"object\",\"name\":\"Legend\",\"id\":\"p2647\",\"attributes\":{\"items\":[{\"type\":\"object\",\"name\":\"LegendItem\",\"id\":\"p2648\",\"attributes\":{\"label\":{\"type\":\"field\",\"field\":\"Medal\"},\"renderers\":[{\"id\":\"p2644\"}]}}]}}]}}]}};\n  const render_items = [{\"docid\":\"172e8e2b-58a8-4eb7-8acd-a413e35eda63\",\"roots\":{\"p2611\":\"d0b4ab01-65b4-41cc-9ed0-0b0cf7fe3dd3\"},\"root_ids\":[\"p2611\"]}];\n  root.Bokeh.embed.embed_items_notebook(docs_json, render_items);\n  }\n  if (root.Bokeh !== undefined) {\n    embed_document(root);\n  } else {\n    let attempts = 0;\n    const timer = setInterval(function(root) {\n      if (root.Bokeh !== undefined) {\n        clearInterval(timer);\n        embed_document(root);\n      } else {\n        attempts++;\n        if (attempts > 100) {\n          clearInterval(timer);\n          console.log(\"Bokeh: ERROR: Unable to run BokehJS code because BokehJS library is missing\");\n        }\n      }\n    }, 10, root)\n  }\n})(window);",
      "application/vnd.bokehjs_exec.v0+json": ""
     },
     "metadata": {
      "application/vnd.bokehjs_exec.v0+json": {
       "id": "p2611"
      }
     },
     "output_type": "display_data"
    }
   ],
   "source": [
    "# greece\n",
    "p3 = figure(title=\"Medals Won at the Olympics by Greece\", \n",
    "           x_axis_label='Year', \n",
    "           y_axis_label='Number of Medals',\n",
    "           x_axis_type = None, # remove default x axis\n",
    "           width = 2000) # make width of figure larger\n",
    "\n",
    "p3.vbar('Year', # the column that we want to have on the x axis\n",
    "       top='Count', # the column with the values we want to plot\n",
    "       width=0.75, # width of the bars \n",
    "       fill_alpha=0.5, \n",
    "       color = 'Color', # the column that we want to color in \n",
    "       source = greece_hist,\n",
    "       legend_field='Medal')\n",
    "\n",
    "# change axis ticks\n",
    "ticker = SingleIntervalTicker(interval = 2, # make year interval on new axis 2\n",
    "                              num_minor_ticks = 0) # set number of ticks between major ticks\n",
    "xaxis = LinearAxis(ticker = ticker)\n",
    "xaxis.formatter.use_scientific = False # turns x axis into non-scientific format\n",
    "p3.add_layout(xaxis, 'below') # identify where new axis should lay\n",
    "\n",
    "\n",
    "show(p3)"
   ]
  },
  {
   "cell_type": "code",
   "execution_count": null,
   "metadata": {},
   "outputs": [
    {
     "data": {
      "text/html": [
       "\n",
       "  <div id=\"d9f153b6-118b-4afe-a16a-8327fcb956f2\" data-root-id=\"p2664\" style=\"display: contents;\"></div>\n"
      ]
     },
     "metadata": {},
     "output_type": "display_data"
    },
    {
     "data": {
      "application/javascript": "(function(root) {\n  function embed_document(root) {\n  const docs_json = {\"1cc9d08a-30b7-45b9-9bbb-65ffca20a31b\":{\"version\":\"3.2.1\",\"title\":\"Bokeh Application\",\"roots\":[{\"type\":\"object\",\"name\":\"GridPlot\",\"id\":\"p2664\",\"attributes\":{\"rows\":null,\"cols\":null,\"toolbar\":{\"type\":\"object\",\"name\":\"Toolbar\",\"id\":\"p2663\",\"attributes\":{\"tools\":[{\"type\":\"object\",\"name\":\"ToolProxy\",\"id\":\"p2657\",\"attributes\":{\"tools\":[{\"type\":\"object\",\"name\":\"PanTool\",\"id\":\"p2380\"},{\"type\":\"object\",\"name\":\"PanTool\",\"id\":\"p2426\"},{\"type\":\"object\",\"name\":\"PanTool\",\"id\":\"p2628\"}]}},{\"type\":\"object\",\"name\":\"ToolProxy\",\"id\":\"p2658\",\"attributes\":{\"tools\":[{\"type\":\"object\",\"name\":\"WheelZoomTool\",\"id\":\"p2381\"},{\"type\":\"object\",\"name\":\"WheelZoomTool\",\"id\":\"p2427\"},{\"type\":\"object\",\"name\":\"WheelZoomTool\",\"id\":\"p2629\"}]}},{\"type\":\"object\",\"name\":\"ToolProxy\",\"id\":\"p2659\",\"attributes\":{\"tools\":[{\"type\":\"object\",\"name\":\"BoxZoomTool\",\"id\":\"p2382\",\"attributes\":{\"overlay\":{\"type\":\"object\",\"name\":\"BoxAnnotation\",\"id\":\"p2383\",\"attributes\":{\"syncable\":false,\"level\":\"overlay\",\"visible\":false,\"left_units\":\"canvas\",\"right_units\":\"canvas\",\"bottom_units\":\"canvas\",\"top_units\":\"canvas\",\"line_color\":\"black\",\"line_alpha\":1.0,\"line_width\":2,\"line_dash\":[4,4],\"fill_color\":\"lightgrey\",\"fill_alpha\":0.5}}}},{\"type\":\"object\",\"name\":\"BoxZoomTool\",\"id\":\"p2428\",\"attributes\":{\"overlay\":{\"type\":\"object\",\"name\":\"BoxAnnotation\",\"id\":\"p2429\",\"attributes\":{\"syncable\":false,\"level\":\"overlay\",\"visible\":false,\"left_units\":\"canvas\",\"right_units\":\"canvas\",\"bottom_units\":\"canvas\",\"top_units\":\"canvas\",\"line_color\":\"black\",\"line_alpha\":1.0,\"line_width\":2,\"line_dash\":[4,4],\"fill_color\":\"lightgrey\",\"fill_alpha\":0.5}}}},{\"type\":\"object\",\"name\":\"BoxZoomTool\",\"id\":\"p2630\",\"attributes\":{\"overlay\":{\"type\":\"object\",\"name\":\"BoxAnnotation\",\"id\":\"p2631\",\"attributes\":{\"syncable\":false,\"level\":\"overlay\",\"visible\":false,\"left_units\":\"canvas\",\"right_units\":\"canvas\",\"bottom_units\":\"canvas\",\"top_units\":\"canvas\",\"line_color\":\"black\",\"line_alpha\":1.0,\"line_width\":2,\"line_dash\":[4,4],\"fill_color\":\"lightgrey\",\"fill_alpha\":0.5}}}}]}},{\"type\":\"object\",\"name\":\"SaveTool\",\"id\":\"p2660\"},{\"type\":\"object\",\"name\":\"ToolProxy\",\"id\":\"p2661\",\"attributes\":{\"tools\":[{\"type\":\"object\",\"name\":\"ResetTool\",\"id\":\"p2385\"},{\"type\":\"object\",\"name\":\"ResetTool\",\"id\":\"p2431\"},{\"type\":\"object\",\"name\":\"ResetTool\",\"id\":\"p2633\"}]}},{\"type\":\"object\",\"name\":\"ToolProxy\",\"id\":\"p2662\",\"attributes\":{\"tools\":[{\"type\":\"object\",\"name\":\"HelpTool\",\"id\":\"p2386\"},{\"type\":\"object\",\"name\":\"HelpTool\",\"id\":\"p2432\"},{\"type\":\"object\",\"name\":\"HelpTool\",\"id\":\"p2634\"}]}}]}},\"children\":[[{\"type\":\"object\",\"name\":\"Figure\",\"id\":\"p2363\",\"attributes\":{\"width\":2000,\"height\":500,\"x_range\":{\"type\":\"object\",\"name\":\"DataRange1d\",\"id\":\"p2364\"},\"y_range\":{\"type\":\"object\",\"name\":\"DataRange1d\",\"id\":\"p2365\"},\"x_scale\":{\"type\":\"object\",\"name\":\"LinearScale\",\"id\":\"p2373\"},\"y_scale\":{\"type\":\"object\",\"name\":\"LinearScale\",\"id\":\"p2374\"},\"title\":{\"type\":\"object\",\"name\":\"Title\",\"id\":\"p2366\",\"attributes\":{\"text\":\"Medals Won at the Olympics by Germany\"}},\"renderers\":[{\"type\":\"object\",\"name\":\"GlyphRenderer\",\"id\":\"p2396\",\"attributes\":{\"data_source\":{\"type\":\"object\",\"name\":\"ColumnDataSource\",\"id\":\"p2387\",\"attributes\":{\"selected\":{\"type\":\"object\",\"name\":\"Selection\",\"id\":\"p2388\",\"attributes\":{\"indices\":[],\"line_indices\":[]}},\"selection_policy\":{\"type\":\"object\",\"name\":\"UnionRenderers\",\"id\":\"p2389\"},\"data\":{\"type\":\"map\",\"entries\":[[\"index\",{\"type\":\"ndarray\",\"array\":{\"type\":\"bytes\",\"data\":\"AAAAAAEAAAACAAAAAwAAAAQAAAAFAAAABgAAAAcAAAAIAAAACQAAAAoAAAALAAAADAAAAA0AAAAOAAAADwAAABAAAAARAAAAEgAAABMAAAAUAAAAFQAAABYAAAAXAAAAGAAAABkAAAAaAAAAGwAAABwAAAAdAAAAHgAAAB8AAAAgAAAAIQAAACIAAAAjAAAAJAAAACUAAAAmAAAAJwAAACgAAAApAAAAKgAAACsAAAAsAAAALQAAAC4AAAAvAAAAMAAAADEAAAAyAAAAMwAAADQAAAA1AAAANgAAADcAAAA4AAAAOQAAADoAAAA7AAAAPAAAAD0AAAA+AAAAPwAAAEAAAABBAAAAQgAAAEMAAABEAAAARQAAAEYAAABHAAAASAAAAEkAAABKAAAASwAAAEwAAAA=\"},\"shape\":[77],\"dtype\":\"int32\",\"order\":\"little\"}],[\"Year\",{\"type\":\"ndarray\",\"array\":{\"type\":\"bytes\",\"data\":\"aAcAAGgHAABoBwAAbAcAAGwHAABwBwAAcAcAAHAHAAByBwAAcgcAAHIHAAB0BwAAdAcAAHQHAAB4BwAAeAcAAHgHAACIBwAAiAcAAIgHAACMBwAAjAcAAIwHAACQBwAAkAcAAJAHAACgBwAAoAcAAKAHAACkBwAApAcAAKQHAACoBwAAqAcAAKgHAACsBwAArAcAAKwHAADIBwAAyAcAAMgHAADKBwAAygcAAMoHAADMBwAAzAcAAMwHAADOBwAAzgcAAM4HAADQBwAA0AcAANAHAADSBwAA0gcAANIHAADUBwAA1AcAANQHAADWBwAA1gcAANYHAADYBwAA2AcAANgHAADaBwAA2gcAANoHAADcBwAA3AcAANwHAADeBwAA3gcAAN4HAADgBwAA4AcAAOAHAAA=\"},\"shape\":[77],\"dtype\":\"int32\",\"order\":\"little\"}],[\"Medal\",{\"type\":\"ndarray\",\"array\":[\"Bronze\",\"Gold\",\"Silver\",\"Gold\",\"Silver\",\"Bronze\",\"Gold\",\"Silver\",\"Bronze\",\"Gold\",\"Silver\",\"Bronze\",\"Gold\",\"Silver\",\"Bronze\",\"Gold\",\"Silver\",\"Bronze\",\"Gold\",\"Silver\",\"Bronze\",\"Gold\",\"Silver\",\"Bronze\",\"Gold\",\"Silver\",\"Bronze\",\"Gold\",\"Silver\",\"Bronze\",\"Gold\",\"Silver\",\"Bronze\",\"Gold\",\"Silver\",\"Bronze\",\"Gold\",\"Silver\",\"Bronze\",\"Gold\",\"Silver\",\"Bronze\",\"Gold\",\"Silver\",\"Bronze\",\"Gold\",\"Silver\",\"Bronze\",\"Gold\",\"Silver\",\"Bronze\",\"Gold\",\"Silver\",\"Bronze\",\"Gold\",\"Silver\",\"Bronze\",\"Gold\",\"Silver\",\"Bronze\",\"Gold\",\"Silver\",\"Bronze\",\"Gold\",\"Silver\",\"Bronze\",\"Gold\",\"Silver\",\"Bronze\",\"Gold\",\"Silver\",\"Bronze\",\"Gold\",\"Silver\",\"Bronze\",\"Gold\",\"Silver\"],\"shape\":[77],\"dtype\":\"object\",\"order\":\"little\"}],[\"Count\",{\"type\":\"ndarray\",\"array\":{\"type\":\"bytes\",\"data\":\"AgAAABgAAAAFAAAAAQAAAAEAAAAGAAAABAAAAAUAAAAGAAAADgAAAAoAAAAEAAAABAAAAAsAAAAOAAAABgAAABMAAAApAAAAFQAAAA8AAAARAAAACgAAABoAAAA3AAAAXQAAAEgAAAAZAAAABAAAABAAAAAYAAAACgAAABQAAAAUAAAAJgAAACMAAAA1AAAAGQAAACsAAABBAAAAXQAAAEIAAAAGAAAADgAAAAoAAAAtAAAAKgAAACMAAAAGAAAAEAAAAAwAAAA+AAAAHwAAABcAAAAKAAAAEgAAABUAAAA/AAAAKQAAACsAAAAGAAAADwAAABcAAAApAAAAJwAAABAAAAALAAAADQAAABIAAAAWAAAAKwAAABsAAAAHAAAADQAAAAwAAABDAAAALwAAACsAAAA=\"},\"shape\":[77],\"dtype\":\"int32\",\"order\":\"little\"}]]}}},\"view\":{\"type\":\"object\",\"name\":\"CDSView\",\"id\":\"p2397\",\"attributes\":{\"filter\":{\"type\":\"object\",\"name\":\"AllIndices\",\"id\":\"p2398\"}}},\"glyph\":{\"type\":\"object\",\"name\":\"VBar\",\"id\":\"p2393\",\"attributes\":{\"x\":{\"type\":\"field\",\"field\":\"Year\"},\"width\":{\"type\":\"value\",\"value\":0.75},\"top\":{\"type\":\"field\",\"field\":\"Count\"},\"line_color\":{\"type\":\"field\",\"field\":\"Medal\"},\"fill_color\":{\"type\":\"field\",\"field\":\"Medal\"},\"fill_alpha\":{\"type\":\"value\",\"value\":0.5},\"hatch_color\":{\"type\":\"field\",\"field\":\"Medal\"}}},\"nonselection_glyph\":{\"type\":\"object\",\"name\":\"VBar\",\"id\":\"p2394\",\"attributes\":{\"x\":{\"type\":\"field\",\"field\":\"Year\"},\"width\":{\"type\":\"value\",\"value\":0.75},\"top\":{\"type\":\"field\",\"field\":\"Count\"},\"line_color\":{\"type\":\"field\",\"field\":\"Medal\"},\"line_alpha\":{\"type\":\"value\",\"value\":0.1},\"fill_color\":{\"type\":\"field\",\"field\":\"Medal\"},\"fill_alpha\":{\"type\":\"value\",\"value\":0.1},\"hatch_color\":{\"type\":\"field\",\"field\":\"Medal\"},\"hatch_alpha\":{\"type\":\"value\",\"value\":0.1}}},\"muted_glyph\":{\"type\":\"object\",\"name\":\"VBar\",\"id\":\"p2395\",\"attributes\":{\"x\":{\"type\":\"field\",\"field\":\"Year\"},\"width\":{\"type\":\"value\",\"value\":0.75},\"top\":{\"type\":\"field\",\"field\":\"Count\"},\"line_color\":{\"type\":\"field\",\"field\":\"Medal\"},\"line_alpha\":{\"type\":\"value\",\"value\":0.2},\"fill_color\":{\"type\":\"field\",\"field\":\"Medal\"},\"fill_alpha\":{\"type\":\"value\",\"value\":0.2},\"hatch_color\":{\"type\":\"field\",\"field\":\"Medal\"},\"hatch_alpha\":{\"type\":\"value\",\"value\":0.2}}}}}],\"toolbar\":{\"type\":\"object\",\"name\":\"Toolbar\",\"id\":\"p2372\",\"attributes\":{\"tools\":[{\"id\":\"p2380\"},{\"id\":\"p2381\"},{\"id\":\"p2382\"},{\"type\":\"object\",\"name\":\"SaveTool\",\"id\":\"p2384\"},{\"id\":\"p2385\"},{\"id\":\"p2386\"}]}},\"toolbar_location\":null,\"left\":[{\"type\":\"object\",\"name\":\"LinearAxis\",\"id\":\"p2375\",\"attributes\":{\"ticker\":{\"type\":\"object\",\"name\":\"BasicTicker\",\"id\":\"p2376\",\"attributes\":{\"mantissas\":[1,2,5]}},\"formatter\":{\"type\":\"object\",\"name\":\"BasicTickFormatter\",\"id\":\"p2377\"},\"axis_label\":\"Number of Medals\",\"major_label_policy\":{\"type\":\"object\",\"name\":\"AllLabels\",\"id\":\"p2378\"}}}],\"below\":[{\"type\":\"object\",\"name\":\"LinearAxis\",\"id\":\"p2402\",\"attributes\":{\"ticker\":{\"type\":\"object\",\"name\":\"SingleIntervalTicker\",\"id\":\"p2401\",\"attributes\":{\"num_minor_ticks\":0,\"interval\":2}},\"formatter\":{\"type\":\"object\",\"name\":\"BasicTickFormatter\",\"id\":\"p2404\",\"attributes\":{\"use_scientific\":false}},\"major_label_policy\":{\"type\":\"object\",\"name\":\"AllLabels\",\"id\":\"p2405\"}}}],\"center\":[{\"type\":\"object\",\"name\":\"Grid\",\"id\":\"p2379\",\"attributes\":{\"dimension\":1,\"axis\":{\"id\":\"p2375\"}}},{\"type\":\"object\",\"name\":\"Legend\",\"id\":\"p2399\",\"attributes\":{\"items\":[{\"type\":\"object\",\"name\":\"LegendItem\",\"id\":\"p2400\",\"attributes\":{\"label\":{\"type\":\"field\",\"field\":\"Medal\"},\"renderers\":[{\"id\":\"p2396\"}]}}]}}]}},0,0],[{\"type\":\"object\",\"name\":\"Figure\",\"id\":\"p2409\",\"attributes\":{\"width\":2000,\"height\":500,\"x_range\":{\"type\":\"object\",\"name\":\"DataRange1d\",\"id\":\"p2410\"},\"y_range\":{\"type\":\"object\",\"name\":\"DataRange1d\",\"id\":\"p2411\"},\"x_scale\":{\"type\":\"object\",\"name\":\"LinearScale\",\"id\":\"p2419\"},\"y_scale\":{\"type\":\"object\",\"name\":\"LinearScale\",\"id\":\"p2420\"},\"title\":{\"type\":\"object\",\"name\":\"Title\",\"id\":\"p2412\",\"attributes\":{\"text\":\"Medals Won at the Olympics by Denmark\"}},\"renderers\":[{\"type\":\"object\",\"name\":\"GlyphRenderer\",\"id\":\"p2442\",\"attributes\":{\"data_source\":{\"type\":\"object\",\"name\":\"ColumnDataSource\",\"id\":\"p2433\",\"attributes\":{\"selected\":{\"type\":\"object\",\"name\":\"Selection\",\"id\":\"p2434\",\"attributes\":{\"indices\":[],\"line_indices\":[]}},\"selection_policy\":{\"type\":\"object\",\"name\":\"UnionRenderers\",\"id\":\"p2435\"},\"data\":{\"type\":\"map\",\"entries\":[[\"index\",{\"type\":\"ndarray\",\"array\":{\"type\":\"bytes\",\"data\":\"AAAAAAEAAAACAAAAAwAAAAQAAAAFAAAABgAAAAcAAAAIAAAACQAAAAoAAAALAAAADAAAAA0AAAAOAAAADwAAABAAAAARAAAAEgAAABMAAAAUAAAAFQAAABYAAAAXAAAAGAAAABkAAAAaAAAAGwAAABwAAAAdAAAAHgAAAB8AAAAgAAAAIQAAACIAAAAjAAAAJAAAACUAAAAmAAAAJwAAACgAAAApAAAAKgAAACsAAAAsAAAALQAAAC4AAAAvAAAAMAAAADEAAAAyAAAAMwAAADQAAAA1AAAANgAAADcAAAA4AAAAOQAAADoAAAA7AAAAPAAAAD0AAAA+AAAAPwAAAEAAAABBAAAAQgAAAEMAAABEAAAARQAAAEYAAABHAAAASAAAAEkAAABKAAAASwAAAEwAAAA=\"},\"shape\":[77],\"dtype\":\"int32\",\"order\":\"little\"}],[\"Year\",{\"type\":\"ndarray\",\"array\":{\"type\":\"bytes\",\"data\":\"aAcAAGgHAABoBwAAbAcAAGwHAABsBwAAcgcAAHIHAAByBwAAdAcAAHQHAAB4BwAAeAcAAIAHAACABwAAgAcAAIQHAACEBwAAhAcAAIgHAACIBwAAiAcAAIwHAACMBwAAkAcAAJAHAACcBwAAnAcAAJwHAACgBwAAoAcAAKAHAACkBwAApAcAAKQHAACoBwAAqAcAAKgHAACsBwAArAcAAKwHAACwBwAAsAcAALAHAAC0BwAAuAcAALgHAAC8BwAAvAcAALwHAADABwAAwAcAAMQHAADEBwAAxAcAAMgHAADIBwAAyAcAAMwHAADMBwAAzAcAAM4HAADQBwAA0AcAANAHAADUBwAA1AcAANQHAADYBwAA2AcAANgHAADcBwAA3AcAANwHAADgBwAA4AcAAOAHAAA=\"},\"shape\":[77],\"dtype\":\"int32\",\"order\":\"little\"}],[\"Medal\",{\"type\":\"ndarray\",\"array\":[\"Bronze\",\"Gold\",\"Silver\",\"Bronze\",\"Gold\",\"Silver\",\"Bronze\",\"Gold\",\"Silver\",\"Bronze\",\"Silver\",\"Bronze\",\"Silver\",\"Bronze\",\"Gold\",\"Silver\",\"Bronze\",\"Gold\",\"Silver\",\"Bronze\",\"Gold\",\"Silver\",\"Bronze\",\"Silver\",\"Bronze\",\"Silver\",\"Bronze\",\"Gold\",\"Silver\",\"Bronze\",\"Gold\",\"Silver\",\"Bronze\",\"Gold\",\"Silver\",\"Bronze\",\"Gold\",\"Silver\",\"Bronze\",\"Gold\",\"Silver\",\"Bronze\",\"Gold\",\"Silver\",\"Gold\",\"Bronze\",\"Gold\",\"Bronze\",\"Gold\",\"Silver\",\"Bronze\",\"Silver\",\"Bronze\",\"Gold\",\"Silver\",\"Bronze\",\"Gold\",\"Silver\",\"Bronze\",\"Gold\",\"Silver\",\"Silver\",\"Bronze\",\"Gold\",\"Silver\",\"Bronze\",\"Gold\",\"Silver\",\"Bronze\",\"Gold\",\"Silver\",\"Bronze\",\"Gold\",\"Silver\",\"Bronze\",\"Gold\",\"Silver\"],\"shape\":[77],\"dtype\":\"object\",\"order\":\"little\"}],[\"Count\",{\"type\":\"ndarray\",\"array\":{\"type\":\"bytes\",\"data\":\"AwAAAAEAAAACAAAAAgAAAAEAAAADAAAAAQAAAA4AAAATAAAAAwAAAA4AAAAcAAAALgAAAAEAAAAaAAAALAAAAAMAAAACAAAABgAAAAQAAAAGAAAAAQAAAAQAAAAHAAAAAwAAAAMAAAAYAAAABwAAABEAAAAFAAAAAwAAAAEAAAABAAAAAQAAAAEAAAAEAAAAAgAAAAwAAAAEAAAABAAAAAEAAAAGAAAABQAAAAYAAAABAAAABQAAAAMAAAACAAAABAAAAAIAAAAKAAAAAwAAAAMAAAADAAAAAQAAAAkAAAADAAAAAgAAAAEAAAAVAAAAAQAAAAUAAAAEAAAAEgAAAAMAAAAHAAAAEwAAAAEAAAADAAAABgAAAAcAAAAGAAAAAwAAAAUAAAAQAAAADwAAAAoAAAA=\"},\"shape\":[77],\"dtype\":\"int32\",\"order\":\"little\"}]]}}},\"view\":{\"type\":\"object\",\"name\":\"CDSView\",\"id\":\"p2443\",\"attributes\":{\"filter\":{\"type\":\"object\",\"name\":\"AllIndices\",\"id\":\"p2444\"}}},\"glyph\":{\"type\":\"object\",\"name\":\"VBar\",\"id\":\"p2439\",\"attributes\":{\"x\":{\"type\":\"field\",\"field\":\"Year\"},\"width\":{\"type\":\"value\",\"value\":0.75},\"top\":{\"type\":\"field\",\"field\":\"Count\"},\"line_color\":{\"type\":\"field\",\"field\":\"Medal\"},\"fill_color\":{\"type\":\"field\",\"field\":\"Medal\"},\"fill_alpha\":{\"type\":\"value\",\"value\":0.5},\"hatch_color\":{\"type\":\"field\",\"field\":\"Medal\"}}},\"nonselection_glyph\":{\"type\":\"object\",\"name\":\"VBar\",\"id\":\"p2440\",\"attributes\":{\"x\":{\"type\":\"field\",\"field\":\"Year\"},\"width\":{\"type\":\"value\",\"value\":0.75},\"top\":{\"type\":\"field\",\"field\":\"Count\"},\"line_color\":{\"type\":\"field\",\"field\":\"Medal\"},\"line_alpha\":{\"type\":\"value\",\"value\":0.1},\"fill_color\":{\"type\":\"field\",\"field\":\"Medal\"},\"fill_alpha\":{\"type\":\"value\",\"value\":0.1},\"hatch_color\":{\"type\":\"field\",\"field\":\"Medal\"},\"hatch_alpha\":{\"type\":\"value\",\"value\":0.1}}},\"muted_glyph\":{\"type\":\"object\",\"name\":\"VBar\",\"id\":\"p2441\",\"attributes\":{\"x\":{\"type\":\"field\",\"field\":\"Year\"},\"width\":{\"type\":\"value\",\"value\":0.75},\"top\":{\"type\":\"field\",\"field\":\"Count\"},\"line_color\":{\"type\":\"field\",\"field\":\"Medal\"},\"line_alpha\":{\"type\":\"value\",\"value\":0.2},\"fill_color\":{\"type\":\"field\",\"field\":\"Medal\"},\"fill_alpha\":{\"type\":\"value\",\"value\":0.2},\"hatch_color\":{\"type\":\"field\",\"field\":\"Medal\"},\"hatch_alpha\":{\"type\":\"value\",\"value\":0.2}}}}}],\"toolbar\":{\"type\":\"object\",\"name\":\"Toolbar\",\"id\":\"p2418\",\"attributes\":{\"tools\":[{\"id\":\"p2426\"},{\"id\":\"p2427\"},{\"id\":\"p2428\"},{\"type\":\"object\",\"name\":\"SaveTool\",\"id\":\"p2430\"},{\"id\":\"p2431\"},{\"id\":\"p2432\"}]}},\"toolbar_location\":null,\"left\":[{\"type\":\"object\",\"name\":\"LinearAxis\",\"id\":\"p2421\",\"attributes\":{\"ticker\":{\"type\":\"object\",\"name\":\"BasicTicker\",\"id\":\"p2422\",\"attributes\":{\"mantissas\":[1,2,5]}},\"formatter\":{\"type\":\"object\",\"name\":\"BasicTickFormatter\",\"id\":\"p2423\"},\"axis_label\":\"Number of Medals\",\"major_label_policy\":{\"type\":\"object\",\"name\":\"AllLabels\",\"id\":\"p2424\"}}}],\"below\":[{\"type\":\"object\",\"name\":\"LinearAxis\",\"id\":\"p2448\",\"attributes\":{\"ticker\":{\"type\":\"object\",\"name\":\"SingleIntervalTicker\",\"id\":\"p2447\",\"attributes\":{\"num_minor_ticks\":0,\"interval\":2}},\"formatter\":{\"type\":\"object\",\"name\":\"BasicTickFormatter\",\"id\":\"p2450\",\"attributes\":{\"use_scientific\":false}},\"major_label_policy\":{\"type\":\"object\",\"name\":\"AllLabels\",\"id\":\"p2451\"}}}],\"center\":[{\"type\":\"object\",\"name\":\"Grid\",\"id\":\"p2425\",\"attributes\":{\"dimension\":1,\"axis\":{\"id\":\"p2421\"}}},{\"type\":\"object\",\"name\":\"Legend\",\"id\":\"p2445\",\"attributes\":{\"items\":[{\"type\":\"object\",\"name\":\"LegendItem\",\"id\":\"p2446\",\"attributes\":{\"label\":{\"type\":\"field\",\"field\":\"Medal\"},\"renderers\":[{\"id\":\"p2442\"}]}}]}}]}},1,0],[{\"type\":\"object\",\"name\":\"Figure\",\"id\":\"p2611\",\"attributes\":{\"width\":2000,\"height\":500,\"x_range\":{\"type\":\"object\",\"name\":\"DataRange1d\",\"id\":\"p2612\"},\"y_range\":{\"type\":\"object\",\"name\":\"DataRange1d\",\"id\":\"p2613\"},\"x_scale\":{\"type\":\"object\",\"name\":\"LinearScale\",\"id\":\"p2621\"},\"y_scale\":{\"type\":\"object\",\"name\":\"LinearScale\",\"id\":\"p2622\"},\"title\":{\"type\":\"object\",\"name\":\"Title\",\"id\":\"p2614\",\"attributes\":{\"text\":\"Medals Won at the Olympics by Greece\"}},\"renderers\":[{\"type\":\"object\",\"name\":\"GlyphRenderer\",\"id\":\"p2644\",\"attributes\":{\"data_source\":{\"type\":\"object\",\"name\":\"ColumnDataSource\",\"id\":\"p2635\",\"attributes\":{\"selected\":{\"type\":\"object\",\"name\":\"Selection\",\"id\":\"p2636\",\"attributes\":{\"indices\":[],\"line_indices\":[]}},\"selection_policy\":{\"type\":\"object\",\"name\":\"UnionRenderers\",\"id\":\"p2637\"},\"data\":{\"type\":\"map\",\"entries\":[[\"index\",{\"type\":\"ndarray\",\"array\":{\"type\":\"bytes\",\"data\":\"AAAAAAEAAAACAAAAAwAAAAQAAAAFAAAABgAAAAcAAAAIAAAACQAAAAoAAAALAAAADAAAAA0AAAAOAAAADwAAABAAAAARAAAAEgAAABMAAAAUAAAAFQAAABYAAAAXAAAAGAAAABkAAAAaAAAAGwAAABwAAAAdAAAAHgAAAB8AAAAgAAAAIQAAACIAAAAjAAAAJAAAAA==\"},\"shape\":[37],\"dtype\":\"int32\",\"order\":\"little\"}],[\"Year\",{\"type\":\"ndarray\",\"array\":{\"type\":\"bytes\",\"data\":\"aAcAAGgHAABoBwAAcAcAAHAHAAByBwAAcgcAAHIHAAB0BwAAdAcAAHgHAAB4BwAAgAcAAIQHAACkBwAAsAcAALQHAAC8BwAAvAcAAMAHAADABwAAxAcAAMgHAADMBwAAzAcAANAHAADQBwAA0AcAANQHAADUBwAA1AcAANgHAADYBwAA3AcAAOAHAADgBwAA4AcAAA==\"},\"shape\":[37],\"dtype\":\"int32\",\"order\":\"little\"}],[\"Medal\",{\"type\":\"ndarray\",\"array\":[\"Bronze\",\"Gold\",\"Silver\",\"Bronze\",\"Gold\",\"Bronze\",\"Gold\",\"Silver\",\"Bronze\",\"Silver\",\"Bronze\",\"Gold\",\"Silver\",\"Gold\",\"Bronze\",\"Bronze\",\"Silver\",\"Bronze\",\"Gold\",\"Bronze\",\"Silver\",\"Bronze\",\"Gold\",\"Gold\",\"Silver\",\"Bronze\",\"Gold\",\"Silver\",\"Bronze\",\"Gold\",\"Silver\",\"Bronze\",\"Silver\",\"Bronze\",\"Bronze\",\"Gold\",\"Silver\"],\"shape\":[37],\"dtype\":\"object\",\"order\":\"little\"}],[\"Count\",{\"type\":\"ndarray\",\"array\":{\"type\":\"bytes\",\"data\":\"EgAAAAoAAAAQAAAAAQAAAAEAAAAKAAAABwAAAAsAAAABAAAAAwAAAAEAAAABAAAABQAAAAEAAAABAAAAAQAAAAIAAAAEAAAAAQAAAAEAAAABAAAAAQAAAAIAAAAEAAAABAAAAAgAAAAEAAAABgAAAAUAAAAIAAAAEgAAAAQAAAADAAAAAwAAAAMAAAADAAAAAQAAAA==\"},\"shape\":[37],\"dtype\":\"int32\",\"order\":\"little\"}]]}}},\"view\":{\"type\":\"object\",\"name\":\"CDSView\",\"id\":\"p2645\",\"attributes\":{\"filter\":{\"type\":\"object\",\"name\":\"AllIndices\",\"id\":\"p2646\"}}},\"glyph\":{\"type\":\"object\",\"name\":\"VBar\",\"id\":\"p2641\",\"attributes\":{\"x\":{\"type\":\"field\",\"field\":\"Year\"},\"width\":{\"type\":\"value\",\"value\":0.75},\"top\":{\"type\":\"field\",\"field\":\"Count\"},\"line_color\":{\"type\":\"field\",\"field\":\"Medal\"},\"fill_color\":{\"type\":\"field\",\"field\":\"Medal\"},\"fill_alpha\":{\"type\":\"value\",\"value\":0.5},\"hatch_color\":{\"type\":\"field\",\"field\":\"Medal\"}}},\"nonselection_glyph\":{\"type\":\"object\",\"name\":\"VBar\",\"id\":\"p2642\",\"attributes\":{\"x\":{\"type\":\"field\",\"field\":\"Year\"},\"width\":{\"type\":\"value\",\"value\":0.75},\"top\":{\"type\":\"field\",\"field\":\"Count\"},\"line_color\":{\"type\":\"field\",\"field\":\"Medal\"},\"line_alpha\":{\"type\":\"value\",\"value\":0.1},\"fill_color\":{\"type\":\"field\",\"field\":\"Medal\"},\"fill_alpha\":{\"type\":\"value\",\"value\":0.1},\"hatch_color\":{\"type\":\"field\",\"field\":\"Medal\"},\"hatch_alpha\":{\"type\":\"value\",\"value\":0.1}}},\"muted_glyph\":{\"type\":\"object\",\"name\":\"VBar\",\"id\":\"p2643\",\"attributes\":{\"x\":{\"type\":\"field\",\"field\":\"Year\"},\"width\":{\"type\":\"value\",\"value\":0.75},\"top\":{\"type\":\"field\",\"field\":\"Count\"},\"line_color\":{\"type\":\"field\",\"field\":\"Medal\"},\"line_alpha\":{\"type\":\"value\",\"value\":0.2},\"fill_color\":{\"type\":\"field\",\"field\":\"Medal\"},\"fill_alpha\":{\"type\":\"value\",\"value\":0.2},\"hatch_color\":{\"type\":\"field\",\"field\":\"Medal\"},\"hatch_alpha\":{\"type\":\"value\",\"value\":0.2}}}}}],\"toolbar\":{\"type\":\"object\",\"name\":\"Toolbar\",\"id\":\"p2620\",\"attributes\":{\"tools\":[{\"id\":\"p2628\"},{\"id\":\"p2629\"},{\"id\":\"p2630\"},{\"type\":\"object\",\"name\":\"SaveTool\",\"id\":\"p2632\"},{\"id\":\"p2633\"},{\"id\":\"p2634\"}]}},\"toolbar_location\":null,\"left\":[{\"type\":\"object\",\"name\":\"LinearAxis\",\"id\":\"p2623\",\"attributes\":{\"ticker\":{\"type\":\"object\",\"name\":\"BasicTicker\",\"id\":\"p2624\",\"attributes\":{\"mantissas\":[1,2,5]}},\"formatter\":{\"type\":\"object\",\"name\":\"BasicTickFormatter\",\"id\":\"p2625\"},\"axis_label\":\"Number of Medals\",\"major_label_policy\":{\"type\":\"object\",\"name\":\"AllLabels\",\"id\":\"p2626\"}}}],\"below\":[{\"type\":\"object\",\"name\":\"LinearAxis\",\"id\":\"p2650\",\"attributes\":{\"ticker\":{\"type\":\"object\",\"name\":\"SingleIntervalTicker\",\"id\":\"p2649\",\"attributes\":{\"num_minor_ticks\":0,\"interval\":2}},\"formatter\":{\"type\":\"object\",\"name\":\"BasicTickFormatter\",\"id\":\"p2652\",\"attributes\":{\"use_scientific\":false}},\"major_label_policy\":{\"type\":\"object\",\"name\":\"AllLabels\",\"id\":\"p2653\"}}}],\"center\":[{\"type\":\"object\",\"name\":\"Grid\",\"id\":\"p2627\",\"attributes\":{\"dimension\":1,\"axis\":{\"id\":\"p2623\"}}},{\"type\":\"object\",\"name\":\"Legend\",\"id\":\"p2647\",\"attributes\":{\"items\":[{\"type\":\"object\",\"name\":\"LegendItem\",\"id\":\"p2648\",\"attributes\":{\"label\":{\"type\":\"field\",\"field\":\"Medal\"},\"renderers\":[{\"id\":\"p2644\"}]}}]}}]}},2,0]]}}]}};\n  const render_items = [{\"docid\":\"1cc9d08a-30b7-45b9-9bbb-65ffca20a31b\",\"roots\":{\"p2664\":\"d9f153b6-118b-4afe-a16a-8327fcb956f2\"},\"root_ids\":[\"p2664\"]}];\n  root.Bokeh.embed.embed_items_notebook(docs_json, render_items);\n  }\n  if (root.Bokeh !== undefined) {\n    embed_document(root);\n  } else {\n    let attempts = 0;\n    const timer = setInterval(function(root) {\n      if (root.Bokeh !== undefined) {\n        clearInterval(timer);\n        embed_document(root);\n      } else {\n        attempts++;\n        if (attempts > 100) {\n          clearInterval(timer);\n          console.log(\"Bokeh: ERROR: Unable to run BokehJS code because BokehJS library is missing\");\n        }\n      }\n    }, 10, root)\n  }\n})(window);",
      "application/vnd.bokehjs_exec.v0+json": ""
     },
     "metadata": {
      "application/vnd.bokehjs_exec.v0+json": {
       "id": "p2664"
      }
     },
     "output_type": "display_data"
    }
   ],
   "source": [
    "from bokeh.layouts import row, gridplot\n",
    "\n",
    "show(gridplot([[p1, None], [p2, None], [p3, None]], width= 2000, height=500))\n"
   ]
  },
  {
   "cell_type": "markdown",
   "metadata": {},
   "source": [
    "# Example with Shark Attack Data\n",
    "\n",
    "### Goal\n",
    "Create a pie chart that showed the top ten countries with the most shark attacks and when you hover over a wedge, it tells you exactly how many attacks were recorded."
   ]
  },
  {
   "cell_type": "code",
   "execution_count": 23,
   "metadata": {},
   "outputs": [],
   "source": [
    "# import libraries \n",
    "import pandas as pd\n",
    "import numpy as np"
   ]
  },
  {
   "cell_type": "code",
   "execution_count": 24,
   "metadata": {},
   "outputs": [
    {
     "data": {
      "text/html": [
       "<div>\n",
       "<style scoped>\n",
       "    .dataframe tbody tr th:only-of-type {\n",
       "        vertical-align: middle;\n",
       "    }\n",
       "\n",
       "    .dataframe tbody tr th {\n",
       "        vertical-align: top;\n",
       "    }\n",
       "\n",
       "    .dataframe thead th {\n",
       "        text-align: right;\n",
       "    }\n",
       "</style>\n",
       "<table border=\"1\" class=\"dataframe\">\n",
       "  <thead>\n",
       "    <tr style=\"text-align: right;\">\n",
       "      <th></th>\n",
       "      <th>Country</th>\n",
       "      <th>Type</th>\n",
       "      <th>Activity</th>\n",
       "    </tr>\n",
       "  </thead>\n",
       "  <tbody>\n",
       "    <tr>\n",
       "      <th>0</th>\n",
       "      <td>AUSTRALIA</td>\n",
       "      <td>Unprovoked</td>\n",
       "      <td>Body boarding</td>\n",
       "    </tr>\n",
       "    <tr>\n",
       "      <th>5</th>\n",
       "      <td>BAHAMAS</td>\n",
       "      <td>Unprovoked</td>\n",
       "      <td>Snorkeling</td>\n",
       "    </tr>\n",
       "    <tr>\n",
       "      <th>12</th>\n",
       "      <td>USA</td>\n",
       "      <td>Invalid</td>\n",
       "      <td>Surfing</td>\n",
       "    </tr>\n",
       "    <tr>\n",
       "      <th>22</th>\n",
       "      <td>AUSTRALIA</td>\n",
       "      <td>Unprovoked</td>\n",
       "      <td>Surfing</td>\n",
       "    </tr>\n",
       "    <tr>\n",
       "      <th>23</th>\n",
       "      <td>USA</td>\n",
       "      <td>Unprovoked</td>\n",
       "      <td>Surfing</td>\n",
       "    </tr>\n",
       "  </tbody>\n",
       "</table>\n",
       "</div>"
      ],
      "text/plain": [
       "      Country        Type       Activity\n",
       "0   AUSTRALIA  Unprovoked  Body boarding\n",
       "5     BAHAMAS  Unprovoked     Snorkeling\n",
       "12        USA     Invalid        Surfing\n",
       "22  AUSTRALIA  Unprovoked        Surfing\n",
       "23        USA  Unprovoked        Surfing"
      ]
     },
     "execution_count": 24,
     "metadata": {},
     "output_type": "execute_result"
    }
   ],
   "source": [
    "# read in data\n",
    "shark_attacks = pd.read_csv('../data/attacks.csv', encoding='latin-1').dropna()\n",
    "\n",
    "# select subset of data we are interested in\n",
    "shark_sub = shark_attacks[['Country', 'Type', 'Activity']]\n",
    "\n",
    "shark_sub.head()"
   ]
  },
  {
   "cell_type": "code",
   "execution_count": 27,
   "metadata": {},
   "outputs": [
    {
     "data": {
      "text/html": [
       "<div>\n",
       "<style scoped>\n",
       "    .dataframe tbody tr th:only-of-type {\n",
       "        vertical-align: middle;\n",
       "    }\n",
       "\n",
       "    .dataframe tbody tr th {\n",
       "        vertical-align: top;\n",
       "    }\n",
       "\n",
       "    .dataframe thead th {\n",
       "        text-align: right;\n",
       "    }\n",
       "</style>\n",
       "<table border=\"1\" class=\"dataframe\">\n",
       "  <thead>\n",
       "    <tr style=\"text-align: right;\">\n",
       "      <th></th>\n",
       "      <th>Type</th>\n",
       "      <th>Activity</th>\n",
       "    </tr>\n",
       "    <tr>\n",
       "      <th>Country</th>\n",
       "      <th></th>\n",
       "      <th></th>\n",
       "    </tr>\n",
       "  </thead>\n",
       "  <tbody>\n",
       "    <tr>\n",
       "      <th>USA</th>\n",
       "      <td>693</td>\n",
       "      <td>693</td>\n",
       "    </tr>\n",
       "    <tr>\n",
       "      <th>AUSTRALIA</th>\n",
       "      <td>303</td>\n",
       "      <td>303</td>\n",
       "    </tr>\n",
       "    <tr>\n",
       "      <th>SOUTH AFRICA</th>\n",
       "      <td>217</td>\n",
       "      <td>217</td>\n",
       "    </tr>\n",
       "    <tr>\n",
       "      <th>BAHAMAS</th>\n",
       "      <td>26</td>\n",
       "      <td>26</td>\n",
       "    </tr>\n",
       "    <tr>\n",
       "      <th>NEW ZEALAND</th>\n",
       "      <td>20</td>\n",
       "      <td>20</td>\n",
       "    </tr>\n",
       "    <tr>\n",
       "      <th>REUNION</th>\n",
       "      <td>15</td>\n",
       "      <td>15</td>\n",
       "    </tr>\n",
       "    <tr>\n",
       "      <th>BRAZIL</th>\n",
       "      <td>14</td>\n",
       "      <td>14</td>\n",
       "    </tr>\n",
       "    <tr>\n",
       "      <th>MEXICO</th>\n",
       "      <td>13</td>\n",
       "      <td>13</td>\n",
       "    </tr>\n",
       "    <tr>\n",
       "      <th>PAPUA NEW GUINEA</th>\n",
       "      <td>12</td>\n",
       "      <td>12</td>\n",
       "    </tr>\n",
       "    <tr>\n",
       "      <th>NEW CALEDONIA</th>\n",
       "      <td>10</td>\n",
       "      <td>10</td>\n",
       "    </tr>\n",
       "  </tbody>\n",
       "</table>\n",
       "</div>"
      ],
      "text/plain": [
       "                  Type  Activity\n",
       "Country                         \n",
       "USA                693       693\n",
       "AUSTRALIA          303       303\n",
       "SOUTH AFRICA       217       217\n",
       "BAHAMAS             26        26\n",
       "NEW ZEALAND         20        20\n",
       "REUNION             15        15\n",
       "BRAZIL              14        14\n",
       "MEXICO              13        13\n",
       "PAPUA NEW GUINEA    12        12\n",
       "NEW CALEDONIA       10        10"
      ]
     },
     "execution_count": 27,
     "metadata": {},
     "output_type": "execute_result"
    }
   ],
   "source": [
    "# prepare data for pie chart \n",
    "shark_pie = shark_sub.groupby([pd.Grouper(key = 'Country')]).count().sort_values(by = 'Activity', \n",
    "                                                                                 ascending= False).head(10) # top 10 countries \n",
    "shark_pie"
   ]
  },
  {
   "cell_type": "code",
   "execution_count": 26,
   "metadata": {},
   "outputs": [
    {
     "data": {
      "text/html": [
       "\n",
       "  <div id=\"a4b99b7f-0782-4c0f-8375-acb1162ec621\" data-root-id=\"p1448\" style=\"display: contents;\"></div>\n"
      ]
     },
     "metadata": {},
     "output_type": "display_data"
    },
    {
     "data": {
      "application/javascript": "(function(root) {\n  function embed_document(root) {\n  const docs_json = {\"225ac785-c496-43d0-97f6-563c9c532bbd\":{\"version\":\"3.2.1\",\"title\":\"Bokeh Application\",\"roots\":[{\"type\":\"object\",\"name\":\"Figure\",\"id\":\"p1448\",\"attributes\":{\"height\":350,\"x_range\":{\"type\":\"object\",\"name\":\"Range1d\",\"id\":\"p1458\",\"attributes\":{\"start\":-0.5}},\"y_range\":{\"type\":\"object\",\"name\":\"DataRange1d\",\"id\":\"p1450\"},\"x_scale\":{\"type\":\"object\",\"name\":\"LinearScale\",\"id\":\"p1459\"},\"y_scale\":{\"type\":\"object\",\"name\":\"LinearScale\",\"id\":\"p1460\"},\"title\":{\"type\":\"object\",\"name\":\"Title\",\"id\":\"p1496\",\"attributes\":{\"text\":\"Top 10 Countries for Shark Attacks\"}},\"renderers\":[{\"type\":\"object\",\"name\":\"GlyphRenderer\",\"id\":\"p1490\",\"attributes\":{\"data_source\":{\"type\":\"object\",\"name\":\"ColumnDataSource\",\"id\":\"p1481\",\"attributes\":{\"selected\":{\"type\":\"object\",\"name\":\"Selection\",\"id\":\"p1482\",\"attributes\":{\"indices\":[],\"line_indices\":[]}},\"selection_policy\":{\"type\":\"object\",\"name\":\"UnionRenderers\",\"id\":\"p1483\"},\"data\":{\"type\":\"map\",\"entries\":[[\"Country\",{\"type\":\"ndarray\",\"array\":[\"USA\",\"AUSTRALIA\",\"SOUTH AFRICA\",\"BAHAMAS\",\"NEW ZEALAND\",\"REUNION\",\"BRAZIL\",\"MEXICO\",\"PAPUA NEW GUINEA\",\"NEW CALEDONIA\"],\"shape\":[10],\"dtype\":\"object\",\"order\":\"little\"}],[\"Type\",{\"type\":\"ndarray\",\"array\":{\"type\":\"bytes\",\"data\":\"tQIAAC8BAADZAAAAGgAAABQAAAAPAAAADgAAAA0AAAAMAAAACgAAAA==\"},\"shape\":[10],\"dtype\":\"int32\",\"order\":\"little\"}],[\"Activity\",{\"type\":\"ndarray\",\"array\":{\"type\":\"bytes\",\"data\":\"tQIAAC8BAADZAAAAGgAAABQAAAAPAAAADgAAAA0AAAAMAAAACgAAAA==\"},\"shape\":[10],\"dtype\":\"int32\",\"order\":\"little\"}],[\"angle\",{\"type\":\"ndarray\",\"array\":{\"type\":\"bytes\",\"data\":\"e/5roVxUCkAtvGtSKwb3P91Ez5g8ffA/cJqVIlOcvz8unhB93VC4P6J2zB2mPLI/7aGL12cFsT9wmpUiU5yvPwTxE5bWLa0/Lp4Qfd1QqD8=\"},\"shape\":[10],\"dtype\":\"float64\",\"order\":\"little\"}],[\"color\",{\"type\":\"ndarray\",\"array\":[\"#3182bd\",\"#6baed6\",\"#9ecae1\",\"#c6dbef\",\"#e6550d\",\"#fd8d3c\",\"#fdae6b\",\"#fdd0a2\",\"#31a354\",\"#74c476\"],\"shape\":[10],\"dtype\":\"object\",\"order\":\"little\"}]]}}},\"view\":{\"type\":\"object\",\"name\":\"CDSView\",\"id\":\"p1491\",\"attributes\":{\"filter\":{\"type\":\"object\",\"name\":\"AllIndices\",\"id\":\"p1492\"}}},\"glyph\":{\"type\":\"object\",\"name\":\"Wedge\",\"id\":\"p1487\",\"attributes\":{\"x\":{\"type\":\"value\",\"value\":0},\"y\":{\"type\":\"value\",\"value\":1},\"radius\":{\"type\":\"value\",\"value\":0.4},\"start_angle\":{\"type\":\"expr\",\"expr\":{\"type\":\"object\",\"name\":\"CumSum\",\"id\":\"p1479\",\"attributes\":{\"field\":\"angle\",\"include_zero\":true}}},\"end_angle\":{\"type\":\"expr\",\"expr\":{\"type\":\"object\",\"name\":\"CumSum\",\"id\":\"p1480\",\"attributes\":{\"field\":\"angle\"}}},\"line_color\":{\"type\":\"value\",\"value\":\"white\"},\"fill_color\":{\"type\":\"field\",\"field\":\"color\"}}},\"nonselection_glyph\":{\"type\":\"object\",\"name\":\"Wedge\",\"id\":\"p1488\",\"attributes\":{\"x\":{\"type\":\"value\",\"value\":0},\"y\":{\"type\":\"value\",\"value\":1},\"radius\":{\"type\":\"value\",\"value\":0.4},\"start_angle\":{\"type\":\"expr\",\"expr\":{\"id\":\"p1479\"}},\"end_angle\":{\"type\":\"expr\",\"expr\":{\"id\":\"p1480\"}},\"line_color\":{\"type\":\"value\",\"value\":\"white\"},\"line_alpha\":{\"type\":\"value\",\"value\":0.1},\"fill_color\":{\"type\":\"field\",\"field\":\"color\"},\"fill_alpha\":{\"type\":\"value\",\"value\":0.1},\"hatch_alpha\":{\"type\":\"value\",\"value\":0.1}}},\"muted_glyph\":{\"type\":\"object\",\"name\":\"Wedge\",\"id\":\"p1489\",\"attributes\":{\"x\":{\"type\":\"value\",\"value\":0},\"y\":{\"type\":\"value\",\"value\":1},\"radius\":{\"type\":\"value\",\"value\":0.4},\"start_angle\":{\"type\":\"expr\",\"expr\":{\"id\":\"p1479\"}},\"end_angle\":{\"type\":\"expr\",\"expr\":{\"id\":\"p1480\"}},\"line_color\":{\"type\":\"value\",\"value\":\"white\"},\"line_alpha\":{\"type\":\"value\",\"value\":0.2},\"fill_color\":{\"type\":\"field\",\"field\":\"color\"},\"fill_alpha\":{\"type\":\"value\",\"value\":0.2},\"hatch_alpha\":{\"type\":\"value\",\"value\":0.2}}}}}],\"toolbar\":{\"type\":\"object\",\"name\":\"Toolbar\",\"id\":\"p1457\",\"attributes\":{\"tools\":[{\"type\":\"object\",\"name\":\"PanTool\",\"id\":\"p1471\"},{\"type\":\"object\",\"name\":\"WheelZoomTool\",\"id\":\"p1472\"},{\"type\":\"object\",\"name\":\"BoxZoomTool\",\"id\":\"p1473\",\"attributes\":{\"overlay\":{\"type\":\"object\",\"name\":\"BoxAnnotation\",\"id\":\"p1474\",\"attributes\":{\"syncable\":false,\"level\":\"overlay\",\"visible\":false,\"left_units\":\"canvas\",\"right_units\":\"canvas\",\"bottom_units\":\"canvas\",\"top_units\":\"canvas\",\"line_color\":\"black\",\"line_alpha\":1.0,\"line_width\":2,\"line_dash\":[4,4],\"fill_color\":\"lightgrey\",\"fill_alpha\":0.5}}}},{\"type\":\"object\",\"name\":\"SaveTool\",\"id\":\"p1475\"},{\"type\":\"object\",\"name\":\"ResetTool\",\"id\":\"p1476\"},{\"type\":\"object\",\"name\":\"HelpTool\",\"id\":\"p1477\"},{\"type\":\"object\",\"name\":\"HoverTool\",\"id\":\"p1478\",\"attributes\":{\"renderers\":\"auto\",\"tooltips\":\"@country: @activity\"}},{\"type\":\"object\",\"name\":\"HoverTool\",\"id\":\"p1495\",\"attributes\":{\"renderers\":\"auto\",\"tooltips\":[[\"Country\",\"@Country - @Activity\"]]}}]}},\"toolbar_location\":null,\"left\":[{\"type\":\"object\",\"name\":\"LinearAxis\",\"id\":\"p1466\",\"attributes\":{\"visible\":false,\"ticker\":{\"type\":\"object\",\"name\":\"BasicTicker\",\"id\":\"p1467\",\"attributes\":{\"mantissas\":[1,2,5]}},\"formatter\":{\"type\":\"object\",\"name\":\"BasicTickFormatter\",\"id\":\"p1468\"},\"major_label_policy\":{\"type\":\"object\",\"name\":\"AllLabels\",\"id\":\"p1469\"}}}],\"below\":[{\"type\":\"object\",\"name\":\"LinearAxis\",\"id\":\"p1461\",\"attributes\":{\"visible\":false,\"ticker\":{\"type\":\"object\",\"name\":\"BasicTicker\",\"id\":\"p1462\",\"attributes\":{\"mantissas\":[1,2,5]}},\"formatter\":{\"type\":\"object\",\"name\":\"BasicTickFormatter\",\"id\":\"p1463\"},\"major_label_policy\":{\"type\":\"object\",\"name\":\"AllLabels\",\"id\":\"p1464\"}}}],\"center\":[{\"type\":\"object\",\"name\":\"Grid\",\"id\":\"p1465\",\"attributes\":{\"axis\":{\"id\":\"p1461\"},\"grid_line_color\":null}},{\"type\":\"object\",\"name\":\"Grid\",\"id\":\"p1470\",\"attributes\":{\"dimension\":1,\"axis\":{\"id\":\"p1466\"},\"grid_line_color\":null}},{\"type\":\"object\",\"name\":\"Legend\",\"id\":\"p1493\",\"attributes\":{\"items\":[{\"type\":\"object\",\"name\":\"LegendItem\",\"id\":\"p1494\",\"attributes\":{\"label\":{\"type\":\"field\",\"field\":\"Country\"},\"renderers\":[{\"id\":\"p1490\"}]}}]}}]}}]}};\n  const render_items = [{\"docid\":\"225ac785-c496-43d0-97f6-563c9c532bbd\",\"roots\":{\"p1448\":\"a4b99b7f-0782-4c0f-8375-acb1162ec621\"},\"root_ids\":[\"p1448\"]}];\n  root.Bokeh.embed.embed_items_notebook(docs_json, render_items);\n  }\n  if (root.Bokeh !== undefined) {\n    embed_document(root);\n  } else {\n    let attempts = 0;\n    const timer = setInterval(function(root) {\n      if (root.Bokeh !== undefined) {\n        clearInterval(timer);\n        embed_document(root);\n      } else {\n        attempts++;\n        if (attempts > 100) {\n          clearInterval(timer);\n          console.log(\"Bokeh: ERROR: Unable to run BokehJS code because BokehJS library is missing\");\n        }\n      }\n    }, 10, root)\n  }\n})(window);",
      "application/vnd.bokehjs_exec.v0+json": ""
     },
     "metadata": {
      "application/vnd.bokehjs_exec.v0+json": {
       "id": "p1448"
      }
     },
     "output_type": "display_data"
    }
   ],
   "source": [
    "# set up bokeh plotting tools\n",
    "from math import pi\n",
    "from collections import Counter\n",
    "from bokeh.palettes import Category20c\n",
    "from bokeh.plotting import figure, show, output_notebook\n",
    "from bokeh.transform import cumsum, factor_cmap\n",
    "from bokeh.models import ColumnDataSource, HoverTool\n",
    "\n",
    "# select source of data\n",
    "df = shark_pie\n",
    "\n",
    "# Calculate the angles and add column for each country\n",
    "df['angle'] = df['Activity'] / df['Activity'].sum() * 2 * pi\n",
    "\n",
    "# Add colors from Category20c palette and make new column \n",
    "df['color'] = Category20c[10]\n",
    "\n",
    "# Create figure\n",
    "p = figure(height=350, \n",
    "           title = \"Activity Distribution by Country\", \n",
    "           toolbar_location = None,\n",
    "           tooltips = \"@country: @activity\", \n",
    "           x_range=(-0.5, 1.0))\n",
    "\n",
    "# Create wedges\n",
    "p.wedge(x=0, y=1, radius=0.4,\n",
    "        start_angle=cumsum('angle', # set angle of slice\n",
    "                           include_zero = True), \n",
    "                           end_angle=cumsum('angle'), # set angle of slice \n",
    "        line_color = 'white', \n",
    "        fill_color = 'color', \n",
    "        legend_field = 'Country', \n",
    "        source = df) # source of the data\n",
    "\n",
    "# hover tool to see what country\n",
    "hover = HoverTool(tooltips=[('Country', '@Country' ' - @Activity')]) # make sure @ matches the column name in dataframe\n",
    "p.add_tools(hover)\n",
    "\n",
    "\n",
    "p.axis.axis_label = None\n",
    "p.axis.visible = False\n",
    "p.grid.grid_line_color = None\n",
    "p.title = \"Top 10 Countries for Shark Attacks\"\n",
    "\n",
    "show(p)"
   ]
  },
  {
   "cell_type": "markdown",
   "metadata": {},
   "source": [
    "## Check out our plots on the web page we created with Github Pages! \n",
    "https://lunacatalan.github.io/bokeh-how-to/ "
   ]
  },
  {
   "cell_type": "markdown",
   "metadata": {},
   "source": [
    "#### **Advantages & Disadvantages?**\n",
    "### Bokeh vs. Plotly \n",
    "#### Advantages of Bokeh:\n",
    " * keeps it simple, no compatibility with other languages = streamlined environment  \n",
    " * privacy control \n",
    " * more color palette customization \n",
    " * dynamic and faster Dashboards\n",
    " * Bokeh offers an option to embed our visualization in the web pages.\n",
    " #### Disadvantages of Bokeh: \n",
    " - only in Python, no compatibility with other languages\n",
    " - no 3D plotting \n",
    " - degree of interactivity is limited "
   ]
  }
 ],
 "metadata": {
  "kernelspec": {
   "display_name": "Python 3",
   "language": "python",
   "name": "python3"
  },
  "language_info": {
   "codemirror_mode": {
    "name": "ipython",
    "version": 3
   },
   "file_extension": ".py",
   "mimetype": "text/x-python",
   "name": "python",
   "nbconvert_exporter": "python",
   "pygments_lexer": "ipython3",
   "version": "3.10.12"
  },
  "orig_nbformat": 4
 },
 "nbformat": 4,
 "nbformat_minor": 2
}
