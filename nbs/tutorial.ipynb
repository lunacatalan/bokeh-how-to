{
 "cells": [
  {
   "cell_type": "markdown",
   "metadata": {},
   "source": [
    "## Brief Description\n",
    "#### What is it?\n",
    "Bokeh is an open-souce Python library for making web-interactive visualizations, including \n",
    "plots, streaming plots, and dashboards. Bokeh visualizations and dashboards can be easily embedded into webpages,\n",
    "creating smooth and quick-loading interactions that is unmatched by other interactive visualization libraries \n",
    "such as Plotly. \n",
    "\n",
    "Bokeh creates shareable, interactive data applications for modern browsers, connecting versatile graphics to PyData tools and to streaming or large datasets, all without having to know JS.  \n",
    "\n",
    "#### Where is it? Link to project webpage, github\n",
    "* Here is Bokeh's documentation website: https://docs.bokeh.org/en/latest/\n",
    "* Here is Bokeh's Github Repository: https://github.com/bokeh/bokeh\n",
    "- Who developed?\n",
    "* Bokeh is open-source, and therefore its code is derived widely and from many communities. \n",
    "However there are \"dedicated core developers\" that work on Bokeh. About 2-3 core developers \n",
    "dedicate most of their time to Bokeh at a given time. \n",
    "\n",
    "#### Why was it created?\n",
    " Bokeh was created to help people create interactive visualizations in web browsers, including in Jupyter notebooks. \n",
    "It's especially useful to connect PyData tools (e.g. NumPy, SciPy, Pandas, sklearn, etc) to scalable and deployable web \"data apps\" with little mucking around in \"web tech\". \n",
    "This allows people to add interactive elements to websites while working only in Python. \n",
    "\n",
    "#### Advantages & Disadvantages? \n",
    "### Bokeh vs. Plotly \n",
    "#### Advantages of Bokeh:\n",
    " * keeps it simple, no compatibility with other languages = streamlined environment  \n",
    " * privacy control \n",
    " * more color palette customization \n",
    " * dynamic and faster Dashboards\n",
    " * Bokeh offers an option to embed our visualization in the web pages.\n",
    " #### Disadvantages of Bokeh: \n",
    " - only in Python, no compatilbility with other languages\n",
    " - no 3D plotting \n",
    " - degree of interactivity is limited \n"
   ]
  },
  {
   "cell_type": "markdown",
   "metadata": {},
   "source": [
    "# Potential Use in Environmental Data Science\n",
    "- creating interactive visualizations to communicate information\n",
    "    - This is very important for environmental data science!!!\n",
    "- allowing people to play with data, seeing impact of manipulating parameters\n",
    "- engage non-scientists\n",
    "\n",
    "Reall cool paper about importance of environmental data visualization and best practices!! :\n",
    "    - Sam Grainger, Feng Mao, Wouter Buytaert, Environmental data visualisation for non-scientific contexts: Literature review and design framework, Environmental Modelling & Software, Volume 85, 2016, Pages 299-318,ISSN 1364-8152, https://doi.org/10.1016/j.envsoft.2016.09.004. \n",
    "\n",
    "**Real World Example**: *Building Energy Efficiency*\n",
    "> \"With regards to my research, a report telling a building owner how much electricity they can save by changing their AC schedule is nice, but it’s more effective to give them an interactive graph where they can choose different schedules and see how their choice affects electricity consumption.\" >\n",
    "\n",
    "https://towardsdatascience.com/data-visualization-with-bokeh-in-python-part-one-getting-started-a11655a467d4"
   ]
  },
  {
   "cell_type": "markdown",
   "metadata": {},
   "source": [
    "# Quick tutorial/example, using Env. Data Sci example if possible!\n",
    "Okay to incorporate examples found elsewhere (provide link and acknowledgement!)"
   ]
  },
  {
   "cell_type": "markdown",
   "metadata": {},
   "source": [
    "# import libraries \n",
    "import pandas as pd\n",
    "import numpy as np"
   ]
  },
  {
   "cell_type": "code",
   "execution_count": null,
   "metadata": {},
   "outputs": [],
   "source": [
    "# choose data\n",
    "olympic_athletes = pd.read_csv('../data/Olympic_Athletes/athlete_events.csv')\n",
    "\n",
    "# make subset of data with only the medaling teams\n",
    "olympic_subset = olympic_athletes[\n",
    "    ['Name', 'Team', 'Year', 'Event', 'Medal']\n",
    "].dropna() # drop rows with na values\n",
    "\n",
    "# # group the data \n",
    "# by_team = olympic_subset.groupby([pd.Grouper(key = 'Year'),\n",
    "#                                  pd.Grouper(key = 'Medal'),\n",
    "#                                  pd.Grouper(key = 'Team')]).count()\n",
    "\n",
    "# by_team.head(10)\n",
    "\n",
    "# select one country\n",
    "china_medals = olympic_subset.loc[olympic_subset['Team'] == 'China'].groupby([pd.Grouper(key = 'Year'),\n",
    "                                                                              pd.Grouper(key = 'Medal')]).count()\n",
    "\n",
    "china_pivot = china_medals.pivot_table(index = 'Year',\n",
    "                                       columns = 'Medal',\n",
    "                                       values = 'Name')\n",
    "\n",
    "china_pivot.head(10)\n"
   ]
  },
  {
   "cell_type": "code",
   "execution_count": null,
   "metadata": {},
   "outputs": [],
   "source": [
    "# to use the bokeh library start with this line\n",
    "from bokeh.plotting import figure, show\n",
    "\n",
    "# create a new plot with a title and axis labels\n",
    "p = figure(title=\"Medals Won at the Olympics by China\", \n",
    "           x_axis_label='Year', \n",
    "           y_axis_label='Number of Medals')\n",
    "\n",
    "# plotting the three lines\n",
    "p.line(x=china_pivot.index, \n",
    "       y=china_pivot.Gold, legend_label=str('Gold'))\n",
    "p.line(x=china_pivot.index, \n",
    "       y=china_pivot.Silver, legend_label=str('Silver'))\n",
    "p.line(x=china_pivot.index, \n",
    "       y=china_pivot.Bronze, legend_label=str('Bronze'))\n",
    "\n",
    "show(p)\n"
   ]
  },
  {
   "cell_type": "code",
   "execution_count": null,
   "metadata": {},
   "outputs": [],
   "source": [
    "# # to use the bokeh library start with this line\n",
    "from bokeh.plotting import figure, show\n",
    "from bokeh.models import SingleIntervalTicker, LinearAxis\n",
    "\n",
    "# figure = china_pivot['Bronze']\n",
    "# figure.plot(kind='hist', \n",
    "#             title='Distribution of Minutes')\n",
    "\n",
    "# create figure\n",
    "p = figure(title=\"Medals Won at the Olympics by China\", \n",
    "           x_axis_label='Year', \n",
    "           y_axis_label='Number of Medals',\n",
    "           x_axis_type = None) # remove defalt x-axis\n",
    "  \n",
    "# add a circle renderer with\n",
    "# size, color and alpha\n",
    "p.circle(china_pivot.index, china_pivot['Gold'], \n",
    "         size = 10, color = \"navy\", alpha = 0.5)\n",
    "p.circle(china_pivot.index, china_pivot['Silver'], \n",
    "         size = 10, color = \"pink\", alpha = 0.5)\n",
    "p.circle(china_pivot.index, china_pivot['Bronze'], \n",
    "         size = 10, color = \"orange\", alpha = 0.5)\n",
    "\n",
    "# change axis ticks\n",
    "ticker = SingleIntervalTicker(interval = 2, # make year interval on new axis 2\n",
    "                              num_minor_ticks = 0) # set number of ticks between major ticks\n",
    "xaxis = LinearAxis(ticker = ticker)\n",
    "p.add_layout(xaxis, 'below') # identify where new axis should lay\n",
    "  \n",
    "# show the results\n",
    "show(p) "
   ]
  },
  {
   "cell_type": "markdown",
   "metadata": {},
   "source": []
  }
 ],
 "metadata": {
  "kernelspec": {
   "display_name": "Python 3",
   "language": "python",
   "name": "python3"
  },
  "language_info": {
   "name": "python",
   "version": "3.10.12"
  },
  "orig_nbformat": 4
 },
 "nbformat": 4,
 "nbformat_minor": 2
}
