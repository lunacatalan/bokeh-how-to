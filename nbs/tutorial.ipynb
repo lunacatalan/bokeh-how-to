{
 "cells": [
  {
   "cell_type": "code",
   "execution_count": null,
   "metadata": {},
   "outputs": [],
   "source": []
  },
  {
   "cell_type": "markdown",
   "metadata": {},
   "source": [
    "## Brief Description\n",
    "- What is it?\n",
    "- Where is it? Link to project webpage, github\n",
    "- Who developed?\n",
    "- Why was it created?\n"
   ]
  },
  {
   "cell_type": "markdown",
   "metadata": {},
   "source": [
    "Potential Use in Environmental Data Science"
   ]
  },
  {
   "cell_type": "markdown",
   "metadata": {},
   "source": [
    "Quick tutorial/example, using Env. Data Sci example if possible!\n",
    "Okay to incorporate examples found elsewhere (provide link and acknowledgement!)"
   ]
  }
 ],
 "metadata": {
  "language_info": {
   "name": "python"
  },
  "orig_nbformat": 4
 },
 "nbformat": 4,
 "nbformat_minor": 2
}
