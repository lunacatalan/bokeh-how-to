{
 "cells": [
  {
   "cell_type": "markdown",
   "metadata": {},
   "source": [
    "## Brief Description\n",
    "#### What is it?\n",
    "Bokeh is an open-souce Python library for making web-interactive visualizations, including \n",
    "plots, streaming plots, and dashboards. Bokeh visualizations and dashboards can be easily embedded into webpages,\n",
    "creating smooth and quick-loading interactions that is unmatched by other interactive visualization libraries \n",
    "such as Plotly. \n",
    "\n",
    "Bokeh creates shareable, interactive data applications for modern browsers, connecting versatile graphics to PyData tools and to streaming or large datasets, all without having to know JS.  \n",
    "\n",
    "#### Where is it? Link to project webpage, github\n",
    "* Here is Bokeh's documentation website: https://docs.bokeh.org/en/latest/\n",
    "* Here is Bokeh's Github Repository: https://github.com/bokeh/bokeh\n",
    "- Who developed?\n",
    "* Bokeh is open-source, and therefore its code is derived widely and from many communities. \n",
    "However there are \"dedicated core developers\" that work on Bokeh. About 2-3 core developers \n",
    "dedicate most of their time to Bokeh at a given time. \n",
    "\n",
    "#### Why was it created?\n",
    " Bokeh was created to help people create interactive visualizations in web browsers, including in Jupyter notebooks. \n",
    "It's especially useful to connect PyData tools (e.g. NumPy, SciPy, Pandas, sklearn, etc) to scalable and deployable web \"data apps\" with little mucking around in \"web tech\". \n",
    "This allows people to add interactive elements to websites while working only in Python. \n",
    "\n",
    "#### Advantages & Disadvantages? \n",
    "### Bokeh vs. Plotly \n",
    "#### Advantages of Bokeh:\n",
    " * keeps it simple, no compatibility with other languages = streamlined environment  \n",
    " * privacy control \n",
    " * more color palette customization \n",
    " * dynamic and faster Dashboards\n",
    " * Bokeh offers an option to embed our visualization in the web pages.\n",
    " #### Disadvantages of Bokeh: \n",
    " - only in Python, no compatilbility with other languages\n",
    " - no 3D plotting \n",
    " - degree of interactivity is limited \n"
   ]
  },
  {
   "cell_type": "markdown",
   "metadata": {},
   "source": [
    "Potential Use in Environmental Data Science"
   ]
  },
  {
   "cell_type": "markdown",
   "metadata": {},
   "source": [
    "Quick tutorial/example, using Env. Data Sci example if possible!\n",
    "Okay to incorporate examples found elsewhere (provide link and acknowledgement!)"
   ]
  }
 ],
 "metadata": {
  "kernelspec": {
   "display_name": "Python 3",
   "language": "python",
   "name": "python3"
  },
  "language_info": {
   "name": "python",
   "version": "3.9.6"
  },
  "orig_nbformat": 4
 },
 "nbformat": 4,
 "nbformat_minor": 2
}
