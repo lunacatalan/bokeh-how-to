{
 "cells": [
  {
   "cell_type": "markdown",
   "metadata": {},
   "source": [
    "\n",
    "![bokeh_logo.png](./bokeh_logo.png)\n",
    "\n",
    "### **What is it?**\n",
    "Bokeh is an open-souce Python library for making web-interactive visualizations, including \n",
    "plots, live-streaming plots, and dashboards. Bokeh visualizations and dashboards can be easily embedded into webpages,\n",
    "creating smooth and quick-loading interactions, without having to know much JavaScript or importing other packages outside the bokeh system.\n",
    "\n",
    "\n",
    "### **Where is it? Link to project webpage, github**\n",
    "* Here is Bokeh's documentation website: https://docs.bokeh.org/en/latest/\n",
    "* Here is Bokeh's Github Repository: https://github.com/bokeh/bokeh\n",
    "\n",
    "### **Who developed it?**\n",
    "* Bokeh is open-source, and therefore its code is derived widely and from many communities. \n",
    "However there are \"dedicated core developers\" that work on Bokeh. About 2-3 core developers \n",
    "dedicate most of their time to Bokeh at a given time. \n",
    "\n",
    "### **Why was it created?**\n",
    " Bokeh was created to help people create interactive visualizations in web browsers, including in Jupyter notebooks. \n",
    "It's especially useful to connect PyData tools (e.g. NumPy, SciPy, Pandas, sklearn, etc) to scalable and deployable web \"data apps\" with little mucking around in \"web tech\". \n",
    "This allows people to add interactive elements to websites while working only in Python. "
   ]
  },
  {
   "cell_type": "markdown",
   "metadata": {},
   "source": [
    "# Potential Use in Environmental Data Science\n",
    "- creating interactive visualizations to communicate information\n",
    "- allowing people to play with data, seeing impact of manipulating parameters\n",
    "- engage non-scientists\n",
    "\n",
    "Really cool paper about importance of environmental data visualization and best practices!! :\n",
    "> Sam Grainger, Feng Mao, Wouter Buytaert, Environmental data visualisation for non-scientific contexts: Literature review and design framework, Environmental Modelling & Software, Volume 85, 2016, Pages 299-318,ISSN 1364-8152, https://doi.org/10.1016/j.envsoft.2016.09.004. \n",
    "\n",
    "**Real World Example**: *Building Energy Efficiency*\n",
    "> \"With regards to my research, a report telling a building owner how much electricity they can save by changing their AC schedule is nice, but it’s more effective to give them an interactive graph where they can choose different schedules and see how their choice affects electricity consumption.\"\n",
    "\n",
    "https://towardsdatascience.com/data-visualization-with-bokeh-in-python-part-one-getting-started-a11655a467d4"
   ]
  },
  {
   "cell_type": "markdown",
   "metadata": {},
   "source": [
    "# Examples"
   ]
  },
  {
   "cell_type": "markdown",
   "metadata": {},
   "source": [
    "### Let's create a simple, interactive plot with bokeh!"
   ]
  },
  {
   "cell_type": "markdown",
   "metadata": {},
   "source": [
    "1. ALWAYS start by importing necessary functions:\n",
    "    - once you start making more complex figures, check out bokeh's documentation for what functions you'll need to import [here](https://docs.bokeh.org/en/latest/docs/user_guide.html)"
   ]
  },
  {
   "cell_type": "code",
   "execution_count": 29,
   "metadata": {},
   "outputs": [],
   "source": [
    "from bokeh.plotting import figure, show"
   ]
  },
  {
   "cell_type": "markdown",
   "metadata": {},
   "source": [
    "2. Make up some data to create a simple line chart:"
   ]
  },
  {
   "cell_type": "code",
   "execution_count": 30,
   "metadata": {},
   "outputs": [],
   "source": [
    "x = [2, 4, 3, 7, 9]\n",
    "y = [4, 6, 3, 8, 2]"
   ]
  },
  {
   "cell_type": "markdown",
   "metadata": {},
   "source": [
    "3. Set up the figure using the function `figure()` and add a title and labels"
   ]
  },
  {
   "cell_type": "code",
   "execution_count": 31,
   "metadata": {},
   "outputs": [],
   "source": [
    "p = figure(title = 'bokeh intro plot!',\n",
    "           x_axis_label = 'x',\n",
    "           y_axis_label = 'y')"
   ]
  },
  {
   "cell_type": "markdown",
   "metadata": {},
   "source": [
    "4. Time to add the data using `line()`"
   ]
  },
  {
   "cell_type": "code",
   "execution_count": 32,
   "metadata": {},
   "outputs": [
    {
     "data": {
      "text/html": [
       "<div style=\"display: table;\"><div style=\"display: table-row;\"><div style=\"display: table-cell;\"><b title=\"bokeh.models.renderers.glyph_renderer.GlyphRenderer\">GlyphRenderer</b>(</div><div style=\"display: table-cell;\">id&nbsp;=&nbsp;'p1543', <span id=\"p1547\" style=\"cursor: pointer;\">&hellip;)</span></div></div><div class=\"p1546\" style=\"display: none;\"><div style=\"display: table-cell;\"></div><div style=\"display: table-cell;\">coordinates&nbsp;=&nbsp;None,</div></div><div class=\"p1546\" style=\"display: none;\"><div style=\"display: table-cell;\"></div><div style=\"display: table-cell;\">data_source&nbsp;=&nbsp;ColumnDataSource(id='p1537', ...),</div></div><div class=\"p1546\" style=\"display: none;\"><div style=\"display: table-cell;\"></div><div style=\"display: table-cell;\">glyph&nbsp;=&nbsp;Line(id='p1540', ...),</div></div><div class=\"p1546\" style=\"display: none;\"><div style=\"display: table-cell;\"></div><div style=\"display: table-cell;\">group&nbsp;=&nbsp;None,</div></div><div class=\"p1546\" style=\"display: none;\"><div style=\"display: table-cell;\"></div><div style=\"display: table-cell;\">hover_glyph&nbsp;=&nbsp;None,</div></div><div class=\"p1546\" style=\"display: none;\"><div style=\"display: table-cell;\"></div><div style=\"display: table-cell;\">js_event_callbacks&nbsp;=&nbsp;{},</div></div><div class=\"p1546\" style=\"display: none;\"><div style=\"display: table-cell;\"></div><div style=\"display: table-cell;\">js_property_callbacks&nbsp;=&nbsp;{},</div></div><div class=\"p1546\" style=\"display: none;\"><div style=\"display: table-cell;\"></div><div style=\"display: table-cell;\">level&nbsp;=&nbsp;'glyph',</div></div><div class=\"p1546\" style=\"display: none;\"><div style=\"display: table-cell;\"></div><div style=\"display: table-cell;\">muted&nbsp;=&nbsp;False,</div></div><div class=\"p1546\" style=\"display: none;\"><div style=\"display: table-cell;\"></div><div style=\"display: table-cell;\">muted_glyph&nbsp;=&nbsp;Line(id='p1542', ...),</div></div><div class=\"p1546\" style=\"display: none;\"><div style=\"display: table-cell;\"></div><div style=\"display: table-cell;\">name&nbsp;=&nbsp;None,</div></div><div class=\"p1546\" style=\"display: none;\"><div style=\"display: table-cell;\"></div><div style=\"display: table-cell;\">nonselection_glyph&nbsp;=&nbsp;Line(id='p1541', ...),</div></div><div class=\"p1546\" style=\"display: none;\"><div style=\"display: table-cell;\"></div><div style=\"display: table-cell;\">propagate_hover&nbsp;=&nbsp;False,</div></div><div class=\"p1546\" style=\"display: none;\"><div style=\"display: table-cell;\"></div><div style=\"display: table-cell;\">selection_glyph&nbsp;=&nbsp;'auto',</div></div><div class=\"p1546\" style=\"display: none;\"><div style=\"display: table-cell;\"></div><div style=\"display: table-cell;\">subscribed_events&nbsp;=&nbsp;PropertyValueSet(),</div></div><div class=\"p1546\" style=\"display: none;\"><div style=\"display: table-cell;\"></div><div style=\"display: table-cell;\">syncable&nbsp;=&nbsp;True,</div></div><div class=\"p1546\" style=\"display: none;\"><div style=\"display: table-cell;\"></div><div style=\"display: table-cell;\">tags&nbsp;=&nbsp;[],</div></div><div class=\"p1546\" style=\"display: none;\"><div style=\"display: table-cell;\"></div><div style=\"display: table-cell;\">view&nbsp;=&nbsp;CDSView(id='p1544', ...),</div></div><div class=\"p1546\" style=\"display: none;\"><div style=\"display: table-cell;\"></div><div style=\"display: table-cell;\">visible&nbsp;=&nbsp;True,</div></div><div class=\"p1546\" style=\"display: none;\"><div style=\"display: table-cell;\"></div><div style=\"display: table-cell;\">x_range_name&nbsp;=&nbsp;'default',</div></div><div class=\"p1546\" style=\"display: none;\"><div style=\"display: table-cell;\"></div><div style=\"display: table-cell;\">y_range_name&nbsp;=&nbsp;'default')</div></div></div>\n",
       "<script>\n",
       "(function() {\n",
       "  let expanded = false;\n",
       "  const ellipsis = document.getElementById(\"p1547\");\n",
       "  ellipsis.addEventListener(\"click\", function() {\n",
       "    const rows = document.getElementsByClassName(\"p1546\");\n",
       "    for (let i = 0; i < rows.length; i++) {\n",
       "      const el = rows[i];\n",
       "      el.style.display = expanded ? \"none\" : \"table-row\";\n",
       "    }\n",
       "    ellipsis.innerHTML = expanded ? \"&hellip;)\" : \"&lsaquo;&lsaquo;&lsaquo;\";\n",
       "    expanded = !expanded;\n",
       "  });\n",
       "})();\n",
       "</script>\n"
      ],
      "text/plain": [
       "GlyphRenderer(id='p1543', ...)"
      ]
     },
     "execution_count": 32,
     "metadata": {},
     "output_type": "execute_result"
    }
   ],
   "source": [
    "p.line(x, y)\n",
    "\n",
    "# Can add more arguments like line_width, legend_label, etc."
   ]
  },
  {
   "cell_type": "markdown",
   "metadata": {},
   "source": [
    "5. Check out your plot using `show()` \n",
    "    - the output is an .html file which opens in browser"
   ]
  },
  {
   "cell_type": "code",
   "execution_count": 33,
   "metadata": {},
   "outputs": [
    {
     "data": {
      "text/html": [
       "\n",
       "  <div id=\"d0c2736d-9c05-4775-b877-702418ec1a01\" data-root-id=\"p1508\" style=\"display: contents;\"></div>\n"
      ]
     },
     "metadata": {},
     "output_type": "display_data"
    },
    {
     "data": {
      "application/javascript": "(function(root) {\n  function embed_document(root) {\n  const docs_json = {\"0ecc442d-7dc3-45cd-8a58-ddaedbe8b2dd\":{\"version\":\"3.2.1\",\"title\":\"Bokeh Application\",\"roots\":[{\"type\":\"object\",\"name\":\"Figure\",\"id\":\"p1508\",\"attributes\":{\"x_range\":{\"type\":\"object\",\"name\":\"DataRange1d\",\"id\":\"p1509\"},\"y_range\":{\"type\":\"object\",\"name\":\"DataRange1d\",\"id\":\"p1510\"},\"x_scale\":{\"type\":\"object\",\"name\":\"LinearScale\",\"id\":\"p1518\"},\"y_scale\":{\"type\":\"object\",\"name\":\"LinearScale\",\"id\":\"p1519\"},\"title\":{\"type\":\"object\",\"name\":\"Title\",\"id\":\"p1511\",\"attributes\":{\"text\":\"bokeh intro plot!\"}},\"renderers\":[{\"type\":\"object\",\"name\":\"GlyphRenderer\",\"id\":\"p1543\",\"attributes\":{\"data_source\":{\"type\":\"object\",\"name\":\"ColumnDataSource\",\"id\":\"p1537\",\"attributes\":{\"selected\":{\"type\":\"object\",\"name\":\"Selection\",\"id\":\"p1538\",\"attributes\":{\"indices\":[],\"line_indices\":[]}},\"selection_policy\":{\"type\":\"object\",\"name\":\"UnionRenderers\",\"id\":\"p1539\"},\"data\":{\"type\":\"map\",\"entries\":[[\"x\",[2,4,3,7,9]],[\"y\",[4,6,3,8,2]]]}}},\"view\":{\"type\":\"object\",\"name\":\"CDSView\",\"id\":\"p1544\",\"attributes\":{\"filter\":{\"type\":\"object\",\"name\":\"AllIndices\",\"id\":\"p1545\"}}},\"glyph\":{\"type\":\"object\",\"name\":\"Line\",\"id\":\"p1540\",\"attributes\":{\"x\":{\"type\":\"field\",\"field\":\"x\"},\"y\":{\"type\":\"field\",\"field\":\"y\"},\"line_color\":\"#1f77b4\"}},\"nonselection_glyph\":{\"type\":\"object\",\"name\":\"Line\",\"id\":\"p1541\",\"attributes\":{\"x\":{\"type\":\"field\",\"field\":\"x\"},\"y\":{\"type\":\"field\",\"field\":\"y\"},\"line_color\":\"#1f77b4\",\"line_alpha\":0.1}},\"muted_glyph\":{\"type\":\"object\",\"name\":\"Line\",\"id\":\"p1542\",\"attributes\":{\"x\":{\"type\":\"field\",\"field\":\"x\"},\"y\":{\"type\":\"field\",\"field\":\"y\"},\"line_color\":\"#1f77b4\",\"line_alpha\":0.2}}}}],\"toolbar\":{\"type\":\"object\",\"name\":\"Toolbar\",\"id\":\"p1517\",\"attributes\":{\"tools\":[{\"type\":\"object\",\"name\":\"PanTool\",\"id\":\"p1530\"},{\"type\":\"object\",\"name\":\"WheelZoomTool\",\"id\":\"p1531\"},{\"type\":\"object\",\"name\":\"BoxZoomTool\",\"id\":\"p1532\",\"attributes\":{\"overlay\":{\"type\":\"object\",\"name\":\"BoxAnnotation\",\"id\":\"p1533\",\"attributes\":{\"syncable\":false,\"level\":\"overlay\",\"visible\":false,\"left_units\":\"canvas\",\"right_units\":\"canvas\",\"bottom_units\":\"canvas\",\"top_units\":\"canvas\",\"line_color\":\"black\",\"line_alpha\":1.0,\"line_width\":2,\"line_dash\":[4,4],\"fill_color\":\"lightgrey\",\"fill_alpha\":0.5}}}},{\"type\":\"object\",\"name\":\"SaveTool\",\"id\":\"p1534\"},{\"type\":\"object\",\"name\":\"ResetTool\",\"id\":\"p1535\"},{\"type\":\"object\",\"name\":\"HelpTool\",\"id\":\"p1536\"}]}},\"left\":[{\"type\":\"object\",\"name\":\"LinearAxis\",\"id\":\"p1525\",\"attributes\":{\"ticker\":{\"type\":\"object\",\"name\":\"BasicTicker\",\"id\":\"p1526\",\"attributes\":{\"mantissas\":[1,2,5]}},\"formatter\":{\"type\":\"object\",\"name\":\"BasicTickFormatter\",\"id\":\"p1527\"},\"axis_label\":\"y\",\"major_label_policy\":{\"type\":\"object\",\"name\":\"AllLabels\",\"id\":\"p1528\"}}}],\"below\":[{\"type\":\"object\",\"name\":\"LinearAxis\",\"id\":\"p1520\",\"attributes\":{\"ticker\":{\"type\":\"object\",\"name\":\"BasicTicker\",\"id\":\"p1521\",\"attributes\":{\"mantissas\":[1,2,5]}},\"formatter\":{\"type\":\"object\",\"name\":\"BasicTickFormatter\",\"id\":\"p1522\"},\"axis_label\":\"x\",\"major_label_policy\":{\"type\":\"object\",\"name\":\"AllLabels\",\"id\":\"p1523\"}}}],\"center\":[{\"type\":\"object\",\"name\":\"Grid\",\"id\":\"p1524\",\"attributes\":{\"axis\":{\"id\":\"p1520\"}}},{\"type\":\"object\",\"name\":\"Grid\",\"id\":\"p1529\",\"attributes\":{\"dimension\":1,\"axis\":{\"id\":\"p1525\"}}}]}}]}};\n  const render_items = [{\"docid\":\"0ecc442d-7dc3-45cd-8a58-ddaedbe8b2dd\",\"roots\":{\"p1508\":\"d0c2736d-9c05-4775-b877-702418ec1a01\"},\"root_ids\":[\"p1508\"]}];\n  root.Bokeh.embed.embed_items_notebook(docs_json, render_items);\n  }\n  if (root.Bokeh !== undefined) {\n    embed_document(root);\n  } else {\n    let attempts = 0;\n    const timer = setInterval(function(root) {\n      if (root.Bokeh !== undefined) {\n        clearInterval(timer);\n        embed_document(root);\n      } else {\n        attempts++;\n        if (attempts > 100) {\n          clearInterval(timer);\n          console.log(\"Bokeh: ERROR: Unable to run BokehJS code because BokehJS library is missing\");\n        }\n      }\n    }, 10, root)\n  }\n})(window);",
      "application/vnd.bokehjs_exec.v0+json": ""
     },
     "metadata": {
      "application/vnd.bokehjs_exec.v0+json": {
       "id": "p1508"
      }
     },
     "output_type": "display_data"
    }
   ],
   "source": [
    "show(p)"
   ]
  },
  {
   "cell_type": "markdown",
   "metadata": {},
   "source": [
    "# More Complex Examples"
   ]
  },
  {
   "cell_type": "code",
   "execution_count": 34,
   "metadata": {},
   "outputs": [],
   "source": [
    "# import libraries \n",
    "import pandas as pd\n",
    "import numpy as np"
   ]
  },
  {
   "cell_type": "markdown",
   "metadata": {},
   "source": [
    "# Examples with Olympic Athletes\n",
    "\n",
    "### Goal\n",
    "We wanted to make a scatter plot that compared the number of gold, silver, and bronze medals won by a country and show the exact number of medals when you hover over the point on the plot."
   ]
  },
  {
   "cell_type": "code",
   "execution_count": 35,
   "metadata": {},
   "outputs": [
    {
     "data": {
      "text/html": [
       "<div>\n",
       "<style scoped>\n",
       "    .dataframe tbody tr th:only-of-type {\n",
       "        vertical-align: middle;\n",
       "    }\n",
       "\n",
       "    .dataframe tbody tr th {\n",
       "        vertical-align: top;\n",
       "    }\n",
       "\n",
       "    .dataframe thead th {\n",
       "        text-align: right;\n",
       "    }\n",
       "</style>\n",
       "<table border=\"1\" class=\"dataframe\">\n",
       "  <thead>\n",
       "    <tr style=\"text-align: right;\">\n",
       "      <th>Medal</th>\n",
       "      <th>Bronze</th>\n",
       "      <th>Gold</th>\n",
       "      <th>Silver</th>\n",
       "    </tr>\n",
       "    <tr>\n",
       "      <th>Year</th>\n",
       "      <th></th>\n",
       "      <th></th>\n",
       "      <th></th>\n",
       "    </tr>\n",
       "  </thead>\n",
       "  <tbody>\n",
       "    <tr>\n",
       "      <th>1984</th>\n",
       "      <td>37.0</td>\n",
       "      <td>24.0</td>\n",
       "      <td>13.0</td>\n",
       "    </tr>\n",
       "    <tr>\n",
       "      <th>1988</th>\n",
       "      <td>30.0</td>\n",
       "      <td>4.0</td>\n",
       "      <td>16.0</td>\n",
       "    </tr>\n",
       "    <tr>\n",
       "      <th>1992</th>\n",
       "      <td>15.0</td>\n",
       "      <td>14.0</td>\n",
       "      <td>44.0</td>\n",
       "    </tr>\n",
       "    <tr>\n",
       "      <th>1994</th>\n",
       "      <td>2.0</td>\n",
       "      <td>NaN</td>\n",
       "      <td>1.0</td>\n",
       "    </tr>\n",
       "    <tr>\n",
       "      <th>1996</th>\n",
       "      <td>15.0</td>\n",
       "      <td>13.0</td>\n",
       "      <td>66.0</td>\n",
       "    </tr>\n",
       "  </tbody>\n",
       "</table>\n",
       "</div>"
      ],
      "text/plain": [
       "Medal  Bronze  Gold  Silver\n",
       "Year                       \n",
       "1984     37.0  24.0    13.0\n",
       "1988     30.0   4.0    16.0\n",
       "1992     15.0  14.0    44.0\n",
       "1994      2.0   NaN     1.0\n",
       "1996     15.0  13.0    66.0"
      ]
     },
     "execution_count": 35,
     "metadata": {},
     "output_type": "execute_result"
    }
   ],
   "source": [
    "# choose data\n",
    "olympic_athletes = pd.read_csv('../data/Olympic_Athletes/athlete_events.csv')\n",
    "\n",
    "# make subset of data with only the medaling teams\n",
    "olympic_subset = olympic_athletes[\n",
    "    ['Name', 'Team', 'Year', 'Event', 'Medal']\n",
    "].dropna().sort_values(by = 'Year') # drop rows with na values\n",
    "\n",
    "# select one country -- China\n",
    "china_medals = olympic_subset.loc[olympic_subset['Team'] == 'China'].groupby([pd.Grouper(key = 'Year'),\n",
    "                                                                              pd.Grouper(key = 'Medal')]).count()\n",
    "\n",
    "china_pivot = china_medals.pivot_table(index = 'Year',\n",
    "                                       columns = 'Medal',\n",
    "                                       values = 'Name')\n",
    "\n",
    "china_pivot.head()"
   ]
  },
  {
   "cell_type": "code",
   "execution_count": 36,
   "metadata": {},
   "outputs": [
    {
     "data": {
      "text/html": [
       "<style>\n",
       "        .bk-notebook-logo {\n",
       "            display: block;\n",
       "            width: 20px;\n",
       "            height: 20px;\n",
       "            background-image: url(data:image/png;base64,iVBORw0KGgoAAAANSUhEUgAAABQAAAAUCAYAAACNiR0NAAAABHNCSVQICAgIfAhkiAAAAAlwSFlzAAALEgAACxIB0t1+/AAAABx0RVh0U29mdHdhcmUAQWRvYmUgRmlyZXdvcmtzIENTNui8sowAAAOkSURBVDiNjZRtaJVlGMd/1/08zzln5zjP1LWcU9N0NkN8m2CYjpgQYQXqSs0I84OLIC0hkEKoPtiH3gmKoiJDU7QpLgoLjLIQCpEsNJ1vqUOdO7ppbuec5+V+rj4ctwzd8IIbbi6u+8f1539dt3A78eXC7QizUF7gyV1fD1Yqg4JWz84yffhm0qkFqBogB9rM8tZdtwVsPUhWhGcFJngGeWrPzHm5oaMmkfEg1usvLFyc8jLRqDOMru7AyC8saQr7GG7f5fvDeH7Ej8CM66nIF+8yngt6HWaKh7k49Soy9nXurCi1o3qUbS3zWfrYeQDTB/Qj6kX6Ybhw4B+bOYoLKCC9H3Nu/leUTZ1JdRWkkn2ldcCamzrcf47KKXdAJllSlxAOkRgyHsGC/zRday5Qld9DyoM4/q/rUoy/CXh3jzOu3bHUVZeU+DEn8FInkPBFlu3+nW3Nw0mk6vCDiWg8CeJaxEwuHS3+z5RgY+YBR6V1Z1nxSOfoaPa4LASWxxdNp+VWTk7+4vzaou8v8PN+xo+KY2xsw6une2frhw05CTYOmQvsEhjhWjn0bmXPjpE1+kplmmkP3suftwTubK9Vq22qKmrBhpY4jvd5afdRA3wGjFAgcnTK2s4hY0/GPNIb0nErGMCRxWOOX64Z8RAC4oCXdklmEvcL8o0BfkNK4lUg9HTl+oPlQxdNo3Mg4Nv175e/1LDGzZen30MEjRUtmXSfiTVu1kK8W4txyV6BMKlbgk3lMwYCiusNy9fVfvvwMxv8Ynl6vxoByANLTWplvuj/nF9m2+PDtt1eiHPBr1oIfhCChQMBw6Aw0UulqTKZdfVvfG7VcfIqLG9bcldL/+pdWTLxLUy8Qq38heUIjh4XlzZxzQm19lLFlr8vdQ97rjZVOLf8nclzckbcD4wxXMidpX30sFd37Fv/GtwwhzhxGVAprjbg0gCAEeIgwCZyTV2Z1REEW8O4py0wsjeloKoMr6iCY6dP92H6Vw/oTyICIthibxjm/DfN9lVz8IqtqKYLUXfoKVMVQVVJOElGjrnnUt9T9wbgp8AyYKaGlqingHZU/uG2NTZSVqwHQTWkx9hxjkpWDaCg6Ckj5qebgBVbT3V3NNXMSiWSDdGV3hrtzla7J+duwPOToIg42ChPQOQjspnSlp1V+Gjdged7+8UN5CRAV7a5EdFNwCjEaBR27b3W890TE7g24NAP/mMDXRWrGoFPQI9ls/MWO2dWFAar/xcOIImbbpA3zgAAAABJRU5ErkJggg==);\n",
       "        }\n",
       "    </style>\n",
       "    <div>\n",
       "        <a href=\"https://bokeh.org\" target=\"_blank\" class=\"bk-notebook-logo\"></a>\n",
       "        <span id=\"d7f7692f-bdf1-4e87-ac51-d5cc17614d71\">Loading BokehJS ...</span>\n",
       "    </div>\n"
      ]
     },
     "metadata": {},
     "output_type": "display_data"
    },
    {
     "data": {
      "application/javascript": "(function(root) {\n  function now() {\n    return new Date();\n  }\n\n  const force = true;\n\n  if (typeof root._bokeh_onload_callbacks === \"undefined\" || force === true) {\n    root._bokeh_onload_callbacks = [];\n    root._bokeh_is_loading = undefined;\n  }\n\nconst JS_MIME_TYPE = 'application/javascript';\n  const HTML_MIME_TYPE = 'text/html';\n  const EXEC_MIME_TYPE = 'application/vnd.bokehjs_exec.v0+json';\n  const CLASS_NAME = 'output_bokeh rendered_html';\n\n  /**\n   * Render data to the DOM node\n   */\n  function render(props, node) {\n    const script = document.createElement(\"script\");\n    node.appendChild(script);\n  }\n\n  /**\n   * Handle when an output is cleared or removed\n   */\n  function handleClearOutput(event, handle) {\n    const cell = handle.cell;\n\n    const id = cell.output_area._bokeh_element_id;\n    const server_id = cell.output_area._bokeh_server_id;\n    // Clean up Bokeh references\n    if (id != null && id in Bokeh.index) {\n      Bokeh.index[id].model.document.clear();\n      delete Bokeh.index[id];\n    }\n\n    if (server_id !== undefined) {\n      // Clean up Bokeh references\n      const cmd_clean = \"from bokeh.io.state import curstate; print(curstate().uuid_to_server['\" + server_id + \"'].get_sessions()[0].document.roots[0]._id)\";\n      cell.notebook.kernel.execute(cmd_clean, {\n        iopub: {\n          output: function(msg) {\n            const id = msg.content.text.trim();\n            if (id in Bokeh.index) {\n              Bokeh.index[id].model.document.clear();\n              delete Bokeh.index[id];\n            }\n          }\n        }\n      });\n      // Destroy server and session\n      const cmd_destroy = \"import bokeh.io.notebook as ion; ion.destroy_server('\" + server_id + \"')\";\n      cell.notebook.kernel.execute(cmd_destroy);\n    }\n  }\n\n  /**\n   * Handle when a new output is added\n   */\n  function handleAddOutput(event, handle) {\n    const output_area = handle.output_area;\n    const output = handle.output;\n\n    // limit handleAddOutput to display_data with EXEC_MIME_TYPE content only\n    if ((output.output_type != \"display_data\") || (!Object.prototype.hasOwnProperty.call(output.data, EXEC_MIME_TYPE))) {\n      return\n    }\n\n    const toinsert = output_area.element.find(\".\" + CLASS_NAME.split(' ')[0]);\n\n    if (output.metadata[EXEC_MIME_TYPE][\"id\"] !== undefined) {\n      toinsert[toinsert.length - 1].firstChild.textContent = output.data[JS_MIME_TYPE];\n      // store reference to embed id on output_area\n      output_area._bokeh_element_id = output.metadata[EXEC_MIME_TYPE][\"id\"];\n    }\n    if (output.metadata[EXEC_MIME_TYPE][\"server_id\"] !== undefined) {\n      const bk_div = document.createElement(\"div\");\n      bk_div.innerHTML = output.data[HTML_MIME_TYPE];\n      const script_attrs = bk_div.children[0].attributes;\n      for (let i = 0; i < script_attrs.length; i++) {\n        toinsert[toinsert.length - 1].firstChild.setAttribute(script_attrs[i].name, script_attrs[i].value);\n        toinsert[toinsert.length - 1].firstChild.textContent = bk_div.children[0].textContent\n      }\n      // store reference to server id on output_area\n      output_area._bokeh_server_id = output.metadata[EXEC_MIME_TYPE][\"server_id\"];\n    }\n  }\n\n  function register_renderer(events, OutputArea) {\n\n    function append_mime(data, metadata, element) {\n      // create a DOM node to render to\n      const toinsert = this.create_output_subarea(\n        metadata,\n        CLASS_NAME,\n        EXEC_MIME_TYPE\n      );\n      this.keyboard_manager.register_events(toinsert);\n      // Render to node\n      const props = {data: data, metadata: metadata[EXEC_MIME_TYPE]};\n      render(props, toinsert[toinsert.length - 1]);\n      element.append(toinsert);\n      return toinsert\n    }\n\n    /* Handle when an output is cleared or removed */\n    events.on('clear_output.CodeCell', handleClearOutput);\n    events.on('delete.Cell', handleClearOutput);\n\n    /* Handle when a new output is added */\n    events.on('output_added.OutputArea', handleAddOutput);\n\n    /**\n     * Register the mime type and append_mime function with output_area\n     */\n    OutputArea.prototype.register_mime_type(EXEC_MIME_TYPE, append_mime, {\n      /* Is output safe? */\n      safe: true,\n      /* Index of renderer in `output_area.display_order` */\n      index: 0\n    });\n  }\n\n  // register the mime type if in Jupyter Notebook environment and previously unregistered\n  if (root.Jupyter !== undefined) {\n    const events = require('base/js/events');\n    const OutputArea = require('notebook/js/outputarea').OutputArea;\n\n    if (OutputArea.prototype.mime_types().indexOf(EXEC_MIME_TYPE) == -1) {\n      register_renderer(events, OutputArea);\n    }\n  }\n  if (typeof (root._bokeh_timeout) === \"undefined\" || force === true) {\n    root._bokeh_timeout = Date.now() + 5000;\n    root._bokeh_failed_load = false;\n  }\n\n  const NB_LOAD_WARNING = {'data': {'text/html':\n     \"<div style='background-color: #fdd'>\\n\"+\n     \"<p>\\n\"+\n     \"BokehJS does not appear to have successfully loaded. If loading BokehJS from CDN, this \\n\"+\n     \"may be due to a slow or bad network connection. Possible fixes:\\n\"+\n     \"</p>\\n\"+\n     \"<ul>\\n\"+\n     \"<li>re-rerun `output_notebook()` to attempt to load from CDN again, or</li>\\n\"+\n     \"<li>use INLINE resources instead, as so:</li>\\n\"+\n     \"</ul>\\n\"+\n     \"<code>\\n\"+\n     \"from bokeh.resources import INLINE\\n\"+\n     \"output_notebook(resources=INLINE)\\n\"+\n     \"</code>\\n\"+\n     \"</div>\"}};\n\n  function display_loaded() {\n    const el = document.getElementById(\"d7f7692f-bdf1-4e87-ac51-d5cc17614d71\");\n    if (el != null) {\n      el.textContent = \"BokehJS is loading...\";\n    }\n    if (root.Bokeh !== undefined) {\n      if (el != null) {\n        el.textContent = \"BokehJS \" + root.Bokeh.version + \" successfully loaded.\";\n      }\n    } else if (Date.now() < root._bokeh_timeout) {\n      setTimeout(display_loaded, 100)\n    }\n  }\n\n  function run_callbacks() {\n    try {\n      root._bokeh_onload_callbacks.forEach(function(callback) {\n        if (callback != null)\n          callback();\n      });\n    } finally {\n      delete root._bokeh_onload_callbacks\n    }\n    console.debug(\"Bokeh: all callbacks have finished\");\n  }\n\n  function load_libs(css_urls, js_urls, callback) {\n    if (css_urls == null) css_urls = [];\n    if (js_urls == null) js_urls = [];\n\n    root._bokeh_onload_callbacks.push(callback);\n    if (root._bokeh_is_loading > 0) {\n      console.debug(\"Bokeh: BokehJS is being loaded, scheduling callback at\", now());\n      return null;\n    }\n    if (js_urls == null || js_urls.length === 0) {\n      run_callbacks();\n      return null;\n    }\n    console.debug(\"Bokeh: BokehJS not loaded, scheduling load and callback at\", now());\n    root._bokeh_is_loading = css_urls.length + js_urls.length;\n\n    function on_load() {\n      root._bokeh_is_loading--;\n      if (root._bokeh_is_loading === 0) {\n        console.debug(\"Bokeh: all BokehJS libraries/stylesheets loaded\");\n        run_callbacks()\n      }\n    }\n\n    function on_error(url) {\n      console.error(\"failed to load \" + url);\n    }\n\n    for (let i = 0; i < css_urls.length; i++) {\n      const url = css_urls[i];\n      const element = document.createElement(\"link\");\n      element.onload = on_load;\n      element.onerror = on_error.bind(null, url);\n      element.rel = \"stylesheet\";\n      element.type = \"text/css\";\n      element.href = url;\n      console.debug(\"Bokeh: injecting link tag for BokehJS stylesheet: \", url);\n      document.body.appendChild(element);\n    }\n\n    for (let i = 0; i < js_urls.length; i++) {\n      const url = js_urls[i];\n      const element = document.createElement('script');\n      element.onload = on_load;\n      element.onerror = on_error.bind(null, url);\n      element.async = false;\n      element.src = url;\n      console.debug(\"Bokeh: injecting script tag for BokehJS library: \", url);\n      document.head.appendChild(element);\n    }\n  };\n\n  function inject_raw_css(css) {\n    const element = document.createElement(\"style\");\n    element.appendChild(document.createTextNode(css));\n    document.body.appendChild(element);\n  }\n\n  const js_urls = [\"https://cdn.bokeh.org/bokeh/release/bokeh-3.2.1.min.js\", \"https://cdn.bokeh.org/bokeh/release/bokeh-gl-3.2.1.min.js\", \"https://cdn.bokeh.org/bokeh/release/bokeh-widgets-3.2.1.min.js\", \"https://cdn.bokeh.org/bokeh/release/bokeh-tables-3.2.1.min.js\", \"https://cdn.bokeh.org/bokeh/release/bokeh-mathjax-3.2.1.min.js\"];\n  const css_urls = [];\n\n  const inline_js = [    function(Bokeh) {\n      Bokeh.set_log_level(\"info\");\n    },\nfunction(Bokeh) {\n    }\n  ];\n\n  function run_inline_js() {\n    if (root.Bokeh !== undefined || force === true) {\n          for (let i = 0; i < inline_js.length; i++) {\n      inline_js[i].call(root, root.Bokeh);\n    }\nif (force === true) {\n        display_loaded();\n      }} else if (Date.now() < root._bokeh_timeout) {\n      setTimeout(run_inline_js, 100);\n    } else if (!root._bokeh_failed_load) {\n      console.log(\"Bokeh: BokehJS failed to load within specified timeout.\");\n      root._bokeh_failed_load = true;\n    } else if (force !== true) {\n      const cell = $(document.getElementById(\"d7f7692f-bdf1-4e87-ac51-d5cc17614d71\")).parents('.cell').data().cell;\n      cell.output_area.append_execute_result(NB_LOAD_WARNING)\n    }\n  }\n\n  if (root._bokeh_is_loading === 0) {\n    console.debug(\"Bokeh: BokehJS loaded, going straight to plotting\");\n    run_inline_js();\n  } else {\n    load_libs(css_urls, js_urls, function() {\n      console.debug(\"Bokeh: BokehJS plotting callback run at\", now());\n      run_inline_js();\n    });\n  }\n}(window));",
      "application/vnd.bokehjs_load.v0+json": ""
     },
     "metadata": {},
     "output_type": "display_data"
    },
    {
     "data": {
      "text/html": [
       "\n",
       "  <div id=\"afb59c05-3b67-4e65-8c04-937ccb80f20a\" data-root-id=\"p1551\" style=\"display: contents;\"></div>\n"
      ]
     },
     "metadata": {},
     "output_type": "display_data"
    },
    {
     "data": {
      "application/javascript": "(function(root) {\n  function embed_document(root) {\n  const docs_json = {\"7f3711c3-0e7b-4cc9-b6b1-5a528db87136\":{\"version\":\"3.2.1\",\"title\":\"Bokeh Application\",\"roots\":[{\"type\":\"object\",\"name\":\"Figure\",\"id\":\"p1551\",\"attributes\":{\"x_range\":{\"type\":\"object\",\"name\":\"DataRange1d\",\"id\":\"p1552\"},\"y_range\":{\"type\":\"object\",\"name\":\"DataRange1d\",\"id\":\"p1553\"},\"x_scale\":{\"type\":\"object\",\"name\":\"LinearScale\",\"id\":\"p1561\"},\"y_scale\":{\"type\":\"object\",\"name\":\"LinearScale\",\"id\":\"p1562\"},\"title\":{\"type\":\"object\",\"name\":\"Title\",\"id\":\"p1554\",\"attributes\":{\"text\":\"Medals Won at the Olympics by China\"}},\"renderers\":[{\"type\":\"object\",\"name\":\"GlyphRenderer\",\"id\":\"p1581\",\"attributes\":{\"data_source\":{\"type\":\"object\",\"name\":\"ColumnDataSource\",\"id\":\"p1548\",\"attributes\":{\"selected\":{\"type\":\"object\",\"name\":\"Selection\",\"id\":\"p1549\",\"attributes\":{\"indices\":[],\"line_indices\":[]}},\"selection_policy\":{\"type\":\"object\",\"name\":\"UnionRenderers\",\"id\":\"p1550\"},\"data\":{\"type\":\"map\",\"entries\":[[\"year\",{\"type\":\"ndarray\",\"array\":{\"type\":\"bytes\",\"data\":\"wAcAAMQHAADIBwAAygcAAMwHAADOBwAA0AcAANIHAADUBwAA1gcAANgHAADaBwAA3AcAAN4HAADgBwAA\"},\"shape\":[15],\"dtype\":\"int32\",\"order\":\"little\"}],[\"gold\",{\"type\":\"ndarray\",\"array\":{\"type\":\"bytes\",\"data\":\"AAAAAAAAOEAAAAAAAAAQQAAAAAAAACxAAAAAAAAA+H8AAAAAAAAqQAAAAAAAAPh/AAAAAAAAP0AAAAAAAAAAQAAAAAAAAEVAAAAAAAAAAEAAAAAAAABSQAAAAAAAABxAAAAAAAAASUAAAAAAAAAIQAAAAAAAAEZA\"},\"shape\":[15],\"dtype\":\"float64\",\"order\":\"little\"}],[\"silver\",{\"type\":\"ndarray\",\"array\":{\"type\":\"bytes\",\"data\":\"AAAAAAAAKkAAAAAAAAAwQAAAAAAAAEZAAAAAAAAA8D8AAAAAAIBQQAAAAAAAACJAAAAAAAAAM0AAAAAAAAAUQAAAAAAAADtAAAAAAAAACEAAAAAAAIBIQAAAAAAAAPA/AAAAAAAAQ0AAAAAAAAAQQAAAAAAAAD5A\"},\"shape\":[15],\"dtype\":\"float64\",\"order\":\"little\"}],[\"bronze\",{\"type\":\"ndarray\",\"array\":{\"type\":\"bytes\",\"data\":\"AAAAAACAQkAAAAAAAAA+QAAAAAAAAC5AAAAAAAAAAEAAAAAAAAAuQAAAAAAAABRAAAAAAAAALkAAAAAAAAAcQAAAAAAAACpAAAAAAAAAEEAAAAAAAIBIQAAAAAAAABxAAAAAAAAAPUAAAAAAAAAUQAAAAAAAgEFA\"},\"shape\":[15],\"dtype\":\"float64\",\"order\":\"little\"}]]}}},\"view\":{\"type\":\"object\",\"name\":\"CDSView\",\"id\":\"p1582\",\"attributes\":{\"filter\":{\"type\":\"object\",\"name\":\"AllIndices\",\"id\":\"p1583\"}}},\"glyph\":{\"type\":\"object\",\"name\":\"Circle\",\"id\":\"p1578\",\"attributes\":{\"x\":{\"type\":\"field\",\"field\":\"year\"},\"y\":{\"type\":\"field\",\"field\":\"gold\"},\"size\":{\"type\":\"value\",\"value\":10},\"line_color\":{\"type\":\"value\",\"value\":\"gold\"},\"line_alpha\":{\"type\":\"value\",\"value\":0.5},\"fill_color\":{\"type\":\"value\",\"value\":\"gold\"},\"fill_alpha\":{\"type\":\"value\",\"value\":0.5},\"hatch_color\":{\"type\":\"value\",\"value\":\"gold\"},\"hatch_alpha\":{\"type\":\"value\",\"value\":0.5}}},\"nonselection_glyph\":{\"type\":\"object\",\"name\":\"Circle\",\"id\":\"p1579\",\"attributes\":{\"x\":{\"type\":\"field\",\"field\":\"year\"},\"y\":{\"type\":\"field\",\"field\":\"gold\"},\"size\":{\"type\":\"value\",\"value\":10},\"line_color\":{\"type\":\"value\",\"value\":\"gold\"},\"line_alpha\":{\"type\":\"value\",\"value\":0.1},\"fill_color\":{\"type\":\"value\",\"value\":\"gold\"},\"fill_alpha\":{\"type\":\"value\",\"value\":0.1},\"hatch_color\":{\"type\":\"value\",\"value\":\"gold\"},\"hatch_alpha\":{\"type\":\"value\",\"value\":0.1}}},\"muted_glyph\":{\"type\":\"object\",\"name\":\"Circle\",\"id\":\"p1580\",\"attributes\":{\"x\":{\"type\":\"field\",\"field\":\"year\"},\"y\":{\"type\":\"field\",\"field\":\"gold\"},\"size\":{\"type\":\"value\",\"value\":10},\"line_color\":{\"type\":\"value\",\"value\":\"gold\"},\"line_alpha\":{\"type\":\"value\",\"value\":0.2},\"fill_color\":{\"type\":\"value\",\"value\":\"gold\"},\"fill_alpha\":{\"type\":\"value\",\"value\":0.2},\"hatch_color\":{\"type\":\"value\",\"value\":\"gold\"},\"hatch_alpha\":{\"type\":\"value\",\"value\":0.2}}}}},{\"type\":\"object\",\"name\":\"GlyphRenderer\",\"id\":\"p1592\",\"attributes\":{\"data_source\":{\"id\":\"p1548\"},\"view\":{\"type\":\"object\",\"name\":\"CDSView\",\"id\":\"p1593\",\"attributes\":{\"filter\":{\"type\":\"object\",\"name\":\"AllIndices\",\"id\":\"p1594\"}}},\"glyph\":{\"type\":\"object\",\"name\":\"Circle\",\"id\":\"p1589\",\"attributes\":{\"x\":{\"type\":\"field\",\"field\":\"year\"},\"y\":{\"type\":\"field\",\"field\":\"silver\"},\"size\":{\"type\":\"value\",\"value\":10},\"line_color\":{\"type\":\"value\",\"value\":\"silver\"},\"line_alpha\":{\"type\":\"value\",\"value\":0.5},\"fill_color\":{\"type\":\"value\",\"value\":\"silver\"},\"fill_alpha\":{\"type\":\"value\",\"value\":0.5},\"hatch_color\":{\"type\":\"value\",\"value\":\"silver\"},\"hatch_alpha\":{\"type\":\"value\",\"value\":0.5}}},\"nonselection_glyph\":{\"type\":\"object\",\"name\":\"Circle\",\"id\":\"p1590\",\"attributes\":{\"x\":{\"type\":\"field\",\"field\":\"year\"},\"y\":{\"type\":\"field\",\"field\":\"silver\"},\"size\":{\"type\":\"value\",\"value\":10},\"line_color\":{\"type\":\"value\",\"value\":\"silver\"},\"line_alpha\":{\"type\":\"value\",\"value\":0.1},\"fill_color\":{\"type\":\"value\",\"value\":\"silver\"},\"fill_alpha\":{\"type\":\"value\",\"value\":0.1},\"hatch_color\":{\"type\":\"value\",\"value\":\"silver\"},\"hatch_alpha\":{\"type\":\"value\",\"value\":0.1}}},\"muted_glyph\":{\"type\":\"object\",\"name\":\"Circle\",\"id\":\"p1591\",\"attributes\":{\"x\":{\"type\":\"field\",\"field\":\"year\"},\"y\":{\"type\":\"field\",\"field\":\"silver\"},\"size\":{\"type\":\"value\",\"value\":10},\"line_color\":{\"type\":\"value\",\"value\":\"silver\"},\"line_alpha\":{\"type\":\"value\",\"value\":0.2},\"fill_color\":{\"type\":\"value\",\"value\":\"silver\"},\"fill_alpha\":{\"type\":\"value\",\"value\":0.2},\"hatch_color\":{\"type\":\"value\",\"value\":\"silver\"},\"hatch_alpha\":{\"type\":\"value\",\"value\":0.2}}}}},{\"type\":\"object\",\"name\":\"GlyphRenderer\",\"id\":\"p1602\",\"attributes\":{\"data_source\":{\"id\":\"p1548\"},\"view\":{\"type\":\"object\",\"name\":\"CDSView\",\"id\":\"p1603\",\"attributes\":{\"filter\":{\"type\":\"object\",\"name\":\"AllIndices\",\"id\":\"p1604\"}}},\"glyph\":{\"type\":\"object\",\"name\":\"Circle\",\"id\":\"p1599\",\"attributes\":{\"x\":{\"type\":\"field\",\"field\":\"year\"},\"y\":{\"type\":\"field\",\"field\":\"bronze\"},\"size\":{\"type\":\"value\",\"value\":10},\"line_color\":{\"type\":\"value\",\"value\":\"brown\"},\"line_alpha\":{\"type\":\"value\",\"value\":0.5},\"fill_color\":{\"type\":\"value\",\"value\":\"brown\"},\"fill_alpha\":{\"type\":\"value\",\"value\":0.5},\"hatch_color\":{\"type\":\"value\",\"value\":\"brown\"},\"hatch_alpha\":{\"type\":\"value\",\"value\":0.5}}},\"nonselection_glyph\":{\"type\":\"object\",\"name\":\"Circle\",\"id\":\"p1600\",\"attributes\":{\"x\":{\"type\":\"field\",\"field\":\"year\"},\"y\":{\"type\":\"field\",\"field\":\"bronze\"},\"size\":{\"type\":\"value\",\"value\":10},\"line_color\":{\"type\":\"value\",\"value\":\"brown\"},\"line_alpha\":{\"type\":\"value\",\"value\":0.1},\"fill_color\":{\"type\":\"value\",\"value\":\"brown\"},\"fill_alpha\":{\"type\":\"value\",\"value\":0.1},\"hatch_color\":{\"type\":\"value\",\"value\":\"brown\"},\"hatch_alpha\":{\"type\":\"value\",\"value\":0.1}}},\"muted_glyph\":{\"type\":\"object\",\"name\":\"Circle\",\"id\":\"p1601\",\"attributes\":{\"x\":{\"type\":\"field\",\"field\":\"year\"},\"y\":{\"type\":\"field\",\"field\":\"bronze\"},\"size\":{\"type\":\"value\",\"value\":10},\"line_color\":{\"type\":\"value\",\"value\":\"brown\"},\"line_alpha\":{\"type\":\"value\",\"value\":0.2},\"fill_color\":{\"type\":\"value\",\"value\":\"brown\"},\"fill_alpha\":{\"type\":\"value\",\"value\":0.2},\"hatch_color\":{\"type\":\"value\",\"value\":\"brown\"},\"hatch_alpha\":{\"type\":\"value\",\"value\":0.2}}}}}],\"toolbar\":{\"type\":\"object\",\"name\":\"Toolbar\",\"id\":\"p1560\",\"attributes\":{\"tools\":[{\"type\":\"object\",\"name\":\"PanTool\",\"id\":\"p1568\"},{\"type\":\"object\",\"name\":\"WheelZoomTool\",\"id\":\"p1569\"},{\"type\":\"object\",\"name\":\"BoxZoomTool\",\"id\":\"p1570\",\"attributes\":{\"overlay\":{\"type\":\"object\",\"name\":\"BoxAnnotation\",\"id\":\"p1571\",\"attributes\":{\"syncable\":false,\"level\":\"overlay\",\"visible\":false,\"left_units\":\"canvas\",\"right_units\":\"canvas\",\"bottom_units\":\"canvas\",\"top_units\":\"canvas\",\"line_color\":\"black\",\"line_alpha\":1.0,\"line_width\":2,\"line_dash\":[4,4],\"fill_color\":\"lightgrey\",\"fill_alpha\":0.5}}}},{\"type\":\"object\",\"name\":\"SaveTool\",\"id\":\"p1572\"},{\"type\":\"object\",\"name\":\"ResetTool\",\"id\":\"p1573\"},{\"type\":\"object\",\"name\":\"HelpTool\",\"id\":\"p1574\"},{\"type\":\"object\",\"name\":\"HoverTool\",\"id\":\"p1606\",\"attributes\":{\"renderers\":\"auto\",\"tooltips\":[[\"(year,gold)\",\"(@year, @gold)\"],[\"(year,silver)\",\"(@year, @silver)\"],[\"(year,bronze)\",\"(@year, @bronze)\"]]}}]}},\"left\":[{\"type\":\"object\",\"name\":\"LinearAxis\",\"id\":\"p1563\",\"attributes\":{\"ticker\":{\"type\":\"object\",\"name\":\"BasicTicker\",\"id\":\"p1564\",\"attributes\":{\"mantissas\":[1,2,5]}},\"formatter\":{\"type\":\"object\",\"name\":\"BasicTickFormatter\",\"id\":\"p1565\"},\"axis_label\":\"Number of Medals\",\"major_label_policy\":{\"type\":\"object\",\"name\":\"AllLabels\",\"id\":\"p1566\"}}}],\"below\":[{\"type\":\"object\",\"name\":\"LinearAxis\",\"id\":\"p1608\",\"attributes\":{\"ticker\":{\"type\":\"object\",\"name\":\"SingleIntervalTicker\",\"id\":\"p1607\",\"attributes\":{\"num_minor_ticks\":0,\"interval\":2}},\"formatter\":{\"type\":\"object\",\"name\":\"BasicTickFormatter\",\"id\":\"p1610\",\"attributes\":{\"use_scientific\":false}},\"major_label_policy\":{\"type\":\"object\",\"name\":\"AllLabels\",\"id\":\"p1611\"}}}],\"center\":[{\"type\":\"object\",\"name\":\"Grid\",\"id\":\"p1567\",\"attributes\":{\"dimension\":1,\"axis\":{\"id\":\"p1563\"}}},{\"type\":\"object\",\"name\":\"Legend\",\"id\":\"p1584\",\"attributes\":{\"items\":[{\"type\":\"object\",\"name\":\"LegendItem\",\"id\":\"p1585\",\"attributes\":{\"label\":{\"type\":\"value\",\"value\":\"Gold\"},\"renderers\":[{\"id\":\"p1581\"}]}},{\"type\":\"object\",\"name\":\"LegendItem\",\"id\":\"p1595\",\"attributes\":{\"label\":{\"type\":\"value\",\"value\":\"Silver\"},\"renderers\":[{\"id\":\"p1592\"}]}},{\"type\":\"object\",\"name\":\"LegendItem\",\"id\":\"p1605\",\"attributes\":{\"label\":{\"type\":\"value\",\"value\":\"Bronze\"},\"renderers\":[{\"id\":\"p1602\"}]}}]}}]}}]}};\n  const render_items = [{\"docid\":\"7f3711c3-0e7b-4cc9-b6b1-5a528db87136\",\"roots\":{\"p1551\":\"afb59c05-3b67-4e65-8c04-937ccb80f20a\"},\"root_ids\":[\"p1551\"]}];\n  root.Bokeh.embed.embed_items_notebook(docs_json, render_items);\n  }\n  if (root.Bokeh !== undefined) {\n    embed_document(root);\n  } else {\n    let attempts = 0;\n    const timer = setInterval(function(root) {\n      if (root.Bokeh !== undefined) {\n        clearInterval(timer);\n        embed_document(root);\n      } else {\n        attempts++;\n        if (attempts > 100) {\n          clearInterval(timer);\n          console.log(\"Bokeh: ERROR: Unable to run BokehJS code because BokehJS library is missing\");\n        }\n      }\n    }, 10, root)\n  }\n})(window);",
      "application/vnd.bokehjs_exec.v0+json": ""
     },
     "metadata": {
      "application/vnd.bokehjs_exec.v0+json": {
       "id": "p1551"
      }
     },
     "output_type": "display_data"
    }
   ],
   "source": [
    "# to use the bokeh library start with this line\n",
    "from bokeh.plotting import figure, show, output_notebook\n",
    "from bokeh.models import HoverTool, ColumnDataSource, SingleIntervalTicker\n",
    "from bokeh.models import Axis, LinearAxis\n",
    "\n",
    "source = ColumnDataSource(data=dict(year=china_pivot.index, \n",
    "                                    gold=china_pivot['Gold'], \n",
    "                                    silver=china_pivot['Silver'], \n",
    "                                    bronze=china_pivot['Bronze']))\n",
    "\n",
    "# create figure\n",
    "p = figure(title=\"Medals Won at the Olympics by China\", \n",
    "           x_axis_label='Year', \n",
    "           y_axis_label='Number of Medals',\n",
    "           x_axis_type = None) # remove default x-axis\n",
    "\n",
    "# add a circle renderer with\n",
    "# size, color and alpha\n",
    "p.circle('year', 'gold', \n",
    "         size = 10, color = \"gold\", alpha = 0.5, source=source, legend_label=str('Gold'))\n",
    "p.circle('year', 'silver', \n",
    "         size = 10, color = \"silver\", alpha = 0.5, source=source, legend_label=str('Silver'))\n",
    "p.circle('year', 'bronze', \n",
    "         size = 10, color = \"brown\", alpha = 0.5, source=source, legend_label=str('Bronze'))\n",
    "\n",
    "# Specify what shows up when you hover over the point\n",
    "hover = HoverTool()\n",
    "hover.tooltips = [\n",
    "    (\"(year,gold)\", \"(@year, @gold)\"),\n",
    "    (\"(year,silver)\", \"(@year, @silver)\"),\n",
    "    (\"(year,bronze)\", \"(@year, @bronze)\"),\n",
    "]\n",
    "\n",
    "# Add the hover tool to the plot\n",
    "p.add_tools(hover)\n",
    "\n",
    "# change axis ticks\n",
    "ticker = SingleIntervalTicker(interval = 2, # make year interval on new axis 2\n",
    "                              num_minor_ticks = 0) # set number of ticks between major ticks\n",
    "xaxis = LinearAxis(ticker = ticker)\n",
    "p.add_layout(xaxis, 'below') # identify where new axis should lay\n",
    "xaxis.formatter.use_scientific = False # turns x axis into non-scientific format\n",
    "\n",
    "\n",
    "#output results to notebook \n",
    "output_notebook()\n",
    "\n",
    "# show the results\n",
    "show(p) "
   ]
  },
  {
   "cell_type": "markdown",
   "metadata": {},
   "source": [
    "## Make subset for Germany, Denmark, and Greece"
   ]
  },
  {
   "cell_type": "code",
   "execution_count": 37,
   "metadata": {},
   "outputs": [],
   "source": [
    "# make subset for germany \n",
    "germany_medals = olympic_subset.loc[olympic_subset['Team'] == 'Germany'].groupby([pd.Grouper(key = 'Year'),\n",
    "                                                                              pd.Grouper(key = 'Medal')]).count().reset_index()\n",
    "\n",
    "germany_hist = germany_medals[['Year', 'Medal', 'Name']].rename(columns={'Name' : 'Count'})\n",
    "\n",
    "\n",
    "# make subset for denmark\n",
    "denmark_medals = olympic_subset.loc[olympic_subset['Team'] == 'Denmark'].groupby([pd.Grouper(key = 'Year'),\n",
    "                                                                              pd.Grouper(key = 'Medal')]).count().reset_index()\n",
    "\n",
    "denmark_hist = denmark_medals[['Year', 'Medal', 'Name']].rename(columns={'Name' : 'Count'})\n",
    "\n",
    "# make subset for greece\n",
    "greece_medals = olympic_subset.loc[olympic_subset['Team'] == 'Greece'].groupby([pd.Grouper(key = 'Year'),\n",
    "                                                                              pd.Grouper(key = 'Medal')]).count().reset_index()\n",
    "\n",
    "greece_hist = greece_medals[['Year', 'Medal', 'Name']].rename(columns={'Name' : 'Count'})\n"
   ]
  },
  {
   "cell_type": "markdown",
   "metadata": {},
   "source": [
    "## Simple Histogram"
   ]
  },
  {
   "cell_type": "code",
   "execution_count": 38,
   "metadata": {},
   "outputs": [],
   "source": [
    "# Function that will map values to colors by creating 'color' column\n",
    "def assign_color(Medal):\n",
    "    if Medal == \"Gold\":\n",
    "        return \"#FFD700\"\n",
    "    elif Medal == \"Silver\":\n",
    "        return \"#C0C0C0\"\n",
    "    else:\n",
    "        return \"#CD7F32\"\n",
    "\n",
    "# Apply the function to create the \"Color\" column\n",
    "germany_hist['Color'] = germany_hist['Medal'].apply(assign_color)\n",
    "denmark_hist['Color'] = germany_hist['Medal'].apply(assign_color)\n",
    "greece_hist['Color'] = germany_hist['Medal'].apply(assign_color)\n",
    "    \n",
    "# this was needed because 'bronze' is not a color recognized by python :)"
   ]
  },
  {
   "cell_type": "code",
   "execution_count": 39,
   "metadata": {},
   "outputs": [
    {
     "data": {
      "text/html": [
       "<style>\n",
       "        .bk-notebook-logo {\n",
       "            display: block;\n",
       "            width: 20px;\n",
       "            height: 20px;\n",
       "            background-image: url(data:image/png;base64,iVBORw0KGgoAAAANSUhEUgAAABQAAAAUCAYAAACNiR0NAAAABHNCSVQICAgIfAhkiAAAAAlwSFlzAAALEgAACxIB0t1+/AAAABx0RVh0U29mdHdhcmUAQWRvYmUgRmlyZXdvcmtzIENTNui8sowAAAOkSURBVDiNjZRtaJVlGMd/1/08zzln5zjP1LWcU9N0NkN8m2CYjpgQYQXqSs0I84OLIC0hkEKoPtiH3gmKoiJDU7QpLgoLjLIQCpEsNJ1vqUOdO7ppbuec5+V+rj4ctwzd8IIbbi6u+8f1539dt3A78eXC7QizUF7gyV1fD1Yqg4JWz84yffhm0qkFqBogB9rM8tZdtwVsPUhWhGcFJngGeWrPzHm5oaMmkfEg1usvLFyc8jLRqDOMru7AyC8saQr7GG7f5fvDeH7Ej8CM66nIF+8yngt6HWaKh7k49Soy9nXurCi1o3qUbS3zWfrYeQDTB/Qj6kX6Ybhw4B+bOYoLKCC9H3Nu/leUTZ1JdRWkkn2ldcCamzrcf47KKXdAJllSlxAOkRgyHsGC/zRday5Qld9DyoM4/q/rUoy/CXh3jzOu3bHUVZeU+DEn8FInkPBFlu3+nW3Nw0mk6vCDiWg8CeJaxEwuHS3+z5RgY+YBR6V1Z1nxSOfoaPa4LASWxxdNp+VWTk7+4vzaou8v8PN+xo+KY2xsw6une2frhw05CTYOmQvsEhjhWjn0bmXPjpE1+kplmmkP3suftwTubK9Vq22qKmrBhpY4jvd5afdRA3wGjFAgcnTK2s4hY0/GPNIb0nErGMCRxWOOX64Z8RAC4oCXdklmEvcL8o0BfkNK4lUg9HTl+oPlQxdNo3Mg4Nv175e/1LDGzZen30MEjRUtmXSfiTVu1kK8W4txyV6BMKlbgk3lMwYCiusNy9fVfvvwMxv8Ynl6vxoByANLTWplvuj/nF9m2+PDtt1eiHPBr1oIfhCChQMBw6Aw0UulqTKZdfVvfG7VcfIqLG9bcldL/+pdWTLxLUy8Qq38heUIjh4XlzZxzQm19lLFlr8vdQ97rjZVOLf8nclzckbcD4wxXMidpX30sFd37Fv/GtwwhzhxGVAprjbg0gCAEeIgwCZyTV2Z1REEW8O4py0wsjeloKoMr6iCY6dP92H6Vw/oTyICIthibxjm/DfN9lVz8IqtqKYLUXfoKVMVQVVJOElGjrnnUt9T9wbgp8AyYKaGlqingHZU/uG2NTZSVqwHQTWkx9hxjkpWDaCg6Ckj5qebgBVbT3V3NNXMSiWSDdGV3hrtzla7J+duwPOToIg42ChPQOQjspnSlp1V+Gjdged7+8UN5CRAV7a5EdFNwCjEaBR27b3W890TE7g24NAP/mMDXRWrGoFPQI9ls/MWO2dWFAar/xcOIImbbpA3zgAAAABJRU5ErkJggg==);\n",
       "        }\n",
       "    </style>\n",
       "    <div>\n",
       "        <a href=\"https://bokeh.org\" target=\"_blank\" class=\"bk-notebook-logo\"></a>\n",
       "        <span id=\"b1fe4219-a639-4750-a612-c30c6e05d4bc\">Loading BokehJS ...</span>\n",
       "    </div>\n"
      ]
     },
     "metadata": {},
     "output_type": "display_data"
    },
    {
     "data": {
      "application/javascript": "(function(root) {\n  function now() {\n    return new Date();\n  }\n\n  const force = true;\n\n  if (typeof root._bokeh_onload_callbacks === \"undefined\" || force === true) {\n    root._bokeh_onload_callbacks = [];\n    root._bokeh_is_loading = undefined;\n  }\n\nconst JS_MIME_TYPE = 'application/javascript';\n  const HTML_MIME_TYPE = 'text/html';\n  const EXEC_MIME_TYPE = 'application/vnd.bokehjs_exec.v0+json';\n  const CLASS_NAME = 'output_bokeh rendered_html';\n\n  /**\n   * Render data to the DOM node\n   */\n  function render(props, node) {\n    const script = document.createElement(\"script\");\n    node.appendChild(script);\n  }\n\n  /**\n   * Handle when an output is cleared or removed\n   */\n  function handleClearOutput(event, handle) {\n    const cell = handle.cell;\n\n    const id = cell.output_area._bokeh_element_id;\n    const server_id = cell.output_area._bokeh_server_id;\n    // Clean up Bokeh references\n    if (id != null && id in Bokeh.index) {\n      Bokeh.index[id].model.document.clear();\n      delete Bokeh.index[id];\n    }\n\n    if (server_id !== undefined) {\n      // Clean up Bokeh references\n      const cmd_clean = \"from bokeh.io.state import curstate; print(curstate().uuid_to_server['\" + server_id + \"'].get_sessions()[0].document.roots[0]._id)\";\n      cell.notebook.kernel.execute(cmd_clean, {\n        iopub: {\n          output: function(msg) {\n            const id = msg.content.text.trim();\n            if (id in Bokeh.index) {\n              Bokeh.index[id].model.document.clear();\n              delete Bokeh.index[id];\n            }\n          }\n        }\n      });\n      // Destroy server and session\n      const cmd_destroy = \"import bokeh.io.notebook as ion; ion.destroy_server('\" + server_id + \"')\";\n      cell.notebook.kernel.execute(cmd_destroy);\n    }\n  }\n\n  /**\n   * Handle when a new output is added\n   */\n  function handleAddOutput(event, handle) {\n    const output_area = handle.output_area;\n    const output = handle.output;\n\n    // limit handleAddOutput to display_data with EXEC_MIME_TYPE content only\n    if ((output.output_type != \"display_data\") || (!Object.prototype.hasOwnProperty.call(output.data, EXEC_MIME_TYPE))) {\n      return\n    }\n\n    const toinsert = output_area.element.find(\".\" + CLASS_NAME.split(' ')[0]);\n\n    if (output.metadata[EXEC_MIME_TYPE][\"id\"] !== undefined) {\n      toinsert[toinsert.length - 1].firstChild.textContent = output.data[JS_MIME_TYPE];\n      // store reference to embed id on output_area\n      output_area._bokeh_element_id = output.metadata[EXEC_MIME_TYPE][\"id\"];\n    }\n    if (output.metadata[EXEC_MIME_TYPE][\"server_id\"] !== undefined) {\n      const bk_div = document.createElement(\"div\");\n      bk_div.innerHTML = output.data[HTML_MIME_TYPE];\n      const script_attrs = bk_div.children[0].attributes;\n      for (let i = 0; i < script_attrs.length; i++) {\n        toinsert[toinsert.length - 1].firstChild.setAttribute(script_attrs[i].name, script_attrs[i].value);\n        toinsert[toinsert.length - 1].firstChild.textContent = bk_div.children[0].textContent\n      }\n      // store reference to server id on output_area\n      output_area._bokeh_server_id = output.metadata[EXEC_MIME_TYPE][\"server_id\"];\n    }\n  }\n\n  function register_renderer(events, OutputArea) {\n\n    function append_mime(data, metadata, element) {\n      // create a DOM node to render to\n      const toinsert = this.create_output_subarea(\n        metadata,\n        CLASS_NAME,\n        EXEC_MIME_TYPE\n      );\n      this.keyboard_manager.register_events(toinsert);\n      // Render to node\n      const props = {data: data, metadata: metadata[EXEC_MIME_TYPE]};\n      render(props, toinsert[toinsert.length - 1]);\n      element.append(toinsert);\n      return toinsert\n    }\n\n    /* Handle when an output is cleared or removed */\n    events.on('clear_output.CodeCell', handleClearOutput);\n    events.on('delete.Cell', handleClearOutput);\n\n    /* Handle when a new output is added */\n    events.on('output_added.OutputArea', handleAddOutput);\n\n    /**\n     * Register the mime type and append_mime function with output_area\n     */\n    OutputArea.prototype.register_mime_type(EXEC_MIME_TYPE, append_mime, {\n      /* Is output safe? */\n      safe: true,\n      /* Index of renderer in `output_area.display_order` */\n      index: 0\n    });\n  }\n\n  // register the mime type if in Jupyter Notebook environment and previously unregistered\n  if (root.Jupyter !== undefined) {\n    const events = require('base/js/events');\n    const OutputArea = require('notebook/js/outputarea').OutputArea;\n\n    if (OutputArea.prototype.mime_types().indexOf(EXEC_MIME_TYPE) == -1) {\n      register_renderer(events, OutputArea);\n    }\n  }\n  if (typeof (root._bokeh_timeout) === \"undefined\" || force === true) {\n    root._bokeh_timeout = Date.now() + 5000;\n    root._bokeh_failed_load = false;\n  }\n\n  const NB_LOAD_WARNING = {'data': {'text/html':\n     \"<div style='background-color: #fdd'>\\n\"+\n     \"<p>\\n\"+\n     \"BokehJS does not appear to have successfully loaded. If loading BokehJS from CDN, this \\n\"+\n     \"may be due to a slow or bad network connection. Possible fixes:\\n\"+\n     \"</p>\\n\"+\n     \"<ul>\\n\"+\n     \"<li>re-rerun `output_notebook()` to attempt to load from CDN again, or</li>\\n\"+\n     \"<li>use INLINE resources instead, as so:</li>\\n\"+\n     \"</ul>\\n\"+\n     \"<code>\\n\"+\n     \"from bokeh.resources import INLINE\\n\"+\n     \"output_notebook(resources=INLINE)\\n\"+\n     \"</code>\\n\"+\n     \"</div>\"}};\n\n  function display_loaded() {\n    const el = document.getElementById(\"b1fe4219-a639-4750-a612-c30c6e05d4bc\");\n    if (el != null) {\n      el.textContent = \"BokehJS is loading...\";\n    }\n    if (root.Bokeh !== undefined) {\n      if (el != null) {\n        el.textContent = \"BokehJS \" + root.Bokeh.version + \" successfully loaded.\";\n      }\n    } else if (Date.now() < root._bokeh_timeout) {\n      setTimeout(display_loaded, 100)\n    }\n  }\n\n  function run_callbacks() {\n    try {\n      root._bokeh_onload_callbacks.forEach(function(callback) {\n        if (callback != null)\n          callback();\n      });\n    } finally {\n      delete root._bokeh_onload_callbacks\n    }\n    console.debug(\"Bokeh: all callbacks have finished\");\n  }\n\n  function load_libs(css_urls, js_urls, callback) {\n    if (css_urls == null) css_urls = [];\n    if (js_urls == null) js_urls = [];\n\n    root._bokeh_onload_callbacks.push(callback);\n    if (root._bokeh_is_loading > 0) {\n      console.debug(\"Bokeh: BokehJS is being loaded, scheduling callback at\", now());\n      return null;\n    }\n    if (js_urls == null || js_urls.length === 0) {\n      run_callbacks();\n      return null;\n    }\n    console.debug(\"Bokeh: BokehJS not loaded, scheduling load and callback at\", now());\n    root._bokeh_is_loading = css_urls.length + js_urls.length;\n\n    function on_load() {\n      root._bokeh_is_loading--;\n      if (root._bokeh_is_loading === 0) {\n        console.debug(\"Bokeh: all BokehJS libraries/stylesheets loaded\");\n        run_callbacks()\n      }\n    }\n\n    function on_error(url) {\n      console.error(\"failed to load \" + url);\n    }\n\n    for (let i = 0; i < css_urls.length; i++) {\n      const url = css_urls[i];\n      const element = document.createElement(\"link\");\n      element.onload = on_load;\n      element.onerror = on_error.bind(null, url);\n      element.rel = \"stylesheet\";\n      element.type = \"text/css\";\n      element.href = url;\n      console.debug(\"Bokeh: injecting link tag for BokehJS stylesheet: \", url);\n      document.body.appendChild(element);\n    }\n\n    for (let i = 0; i < js_urls.length; i++) {\n      const url = js_urls[i];\n      const element = document.createElement('script');\n      element.onload = on_load;\n      element.onerror = on_error.bind(null, url);\n      element.async = false;\n      element.src = url;\n      console.debug(\"Bokeh: injecting script tag for BokehJS library: \", url);\n      document.head.appendChild(element);\n    }\n  };\n\n  function inject_raw_css(css) {\n    const element = document.createElement(\"style\");\n    element.appendChild(document.createTextNode(css));\n    document.body.appendChild(element);\n  }\n\n  const js_urls = [\"https://cdn.bokeh.org/bokeh/release/bokeh-3.2.1.min.js\", \"https://cdn.bokeh.org/bokeh/release/bokeh-gl-3.2.1.min.js\", \"https://cdn.bokeh.org/bokeh/release/bokeh-widgets-3.2.1.min.js\", \"https://cdn.bokeh.org/bokeh/release/bokeh-tables-3.2.1.min.js\", \"https://cdn.bokeh.org/bokeh/release/bokeh-mathjax-3.2.1.min.js\"];\n  const css_urls = [];\n\n  const inline_js = [    function(Bokeh) {\n      Bokeh.set_log_level(\"info\");\n    },\nfunction(Bokeh) {\n    }\n  ];\n\n  function run_inline_js() {\n    if (root.Bokeh !== undefined || force === true) {\n          for (let i = 0; i < inline_js.length; i++) {\n      inline_js[i].call(root, root.Bokeh);\n    }\nif (force === true) {\n        display_loaded();\n      }} else if (Date.now() < root._bokeh_timeout) {\n      setTimeout(run_inline_js, 100);\n    } else if (!root._bokeh_failed_load) {\n      console.log(\"Bokeh: BokehJS failed to load within specified timeout.\");\n      root._bokeh_failed_load = true;\n    } else if (force !== true) {\n      const cell = $(document.getElementById(\"b1fe4219-a639-4750-a612-c30c6e05d4bc\")).parents('.cell').data().cell;\n      cell.output_area.append_execute_result(NB_LOAD_WARNING)\n    }\n  }\n\n  if (root._bokeh_is_loading === 0) {\n    console.debug(\"Bokeh: BokehJS loaded, going straight to plotting\");\n    run_inline_js();\n  } else {\n    load_libs(css_urls, js_urls, function() {\n      console.debug(\"Bokeh: BokehJS plotting callback run at\", now());\n      run_inline_js();\n    });\n  }\n}(window));",
      "application/vnd.bokehjs_load.v0+json": ""
     },
     "metadata": {},
     "output_type": "display_data"
    },
    {
     "data": {
      "text/html": [
       "\n",
       "  <div id=\"d93e05d6-d68f-4679-a2ba-8def776a0a25\" data-root-id=\"p1616\" style=\"display: contents;\"></div>\n"
      ]
     },
     "metadata": {},
     "output_type": "display_data"
    },
    {
     "data": {
      "application/javascript": "(function(root) {\n  function embed_document(root) {\n  const docs_json = {\"b53c84dd-fcbc-406e-8802-3270f9977cec\":{\"version\":\"3.2.1\",\"title\":\"Bokeh Application\",\"roots\":[{\"type\":\"object\",\"name\":\"Figure\",\"id\":\"p1616\",\"attributes\":{\"x_range\":{\"type\":\"object\",\"name\":\"DataRange1d\",\"id\":\"p1617\"},\"y_range\":{\"type\":\"object\",\"name\":\"DataRange1d\",\"id\":\"p1618\"},\"x_scale\":{\"type\":\"object\",\"name\":\"LinearScale\",\"id\":\"p1625\"},\"y_scale\":{\"type\":\"object\",\"name\":\"LinearScale\",\"id\":\"p1626\"},\"title\":{\"type\":\"object\",\"name\":\"Title\",\"id\":\"p1623\"},\"renderers\":[{\"type\":\"object\",\"name\":\"GlyphRenderer\",\"id\":\"p1653\",\"attributes\":{\"data_source\":{\"type\":\"object\",\"name\":\"ColumnDataSource\",\"id\":\"p1644\",\"attributes\":{\"selected\":{\"type\":\"object\",\"name\":\"Selection\",\"id\":\"p1645\",\"attributes\":{\"indices\":[],\"line_indices\":[]}},\"selection_policy\":{\"type\":\"object\",\"name\":\"UnionRenderers\",\"id\":\"p1646\"},\"data\":{\"type\":\"map\",\"entries\":[[\"index\",{\"type\":\"ndarray\",\"array\":{\"type\":\"bytes\",\"data\":\"AAAAAAEAAAACAAAAAwAAAAQAAAAFAAAABgAAAAcAAAAIAAAACQAAAAoAAAALAAAADAAAAA0AAAAOAAAADwAAABAAAAARAAAAEgAAABMAAAAUAAAAFQAAABYAAAAXAAAAGAAAABkAAAAaAAAAGwAAABwAAAAdAAAAHgAAAB8AAAAgAAAAIQAAACIAAAAjAAAAJAAAACUAAAAmAAAAJwAAACgAAAApAAAAKgAAACsAAAAsAAAALQAAAC4AAAAvAAAAMAAAADEAAAAyAAAAMwAAADQAAAA1AAAANgAAADcAAAA4AAAAOQAAADoAAAA7AAAAPAAAAD0AAAA+AAAAPwAAAEAAAABBAAAAQgAAAEMAAABEAAAARQAAAEYAAABHAAAASAAAAEkAAABKAAAASwAAAEwAAAA=\"},\"shape\":[77],\"dtype\":\"int32\",\"order\":\"little\"}],[\"Year\",{\"type\":\"ndarray\",\"array\":{\"type\":\"bytes\",\"data\":\"aAcAAGgHAABoBwAAbAcAAGwHAABwBwAAcAcAAHAHAAByBwAAcgcAAHIHAAB0BwAAdAcAAHQHAAB4BwAAeAcAAHgHAACIBwAAiAcAAIgHAACMBwAAjAcAAIwHAACQBwAAkAcAAJAHAACgBwAAoAcAAKAHAACkBwAApAcAAKQHAACoBwAAqAcAAKgHAACsBwAArAcAAKwHAADIBwAAyAcAAMgHAADKBwAAygcAAMoHAADMBwAAzAcAAMwHAADOBwAAzgcAAM4HAADQBwAA0AcAANAHAADSBwAA0gcAANIHAADUBwAA1AcAANQHAADWBwAA1gcAANYHAADYBwAA2AcAANgHAADaBwAA2gcAANoHAADcBwAA3AcAANwHAADeBwAA3gcAAN4HAADgBwAA4AcAAOAHAAA=\"},\"shape\":[77],\"dtype\":\"int32\",\"order\":\"little\"}],[\"Medal\",{\"type\":\"ndarray\",\"array\":[\"Bronze\",\"Gold\",\"Silver\",\"Gold\",\"Silver\",\"Bronze\",\"Gold\",\"Silver\",\"Bronze\",\"Gold\",\"Silver\",\"Bronze\",\"Gold\",\"Silver\",\"Bronze\",\"Gold\",\"Silver\",\"Bronze\",\"Gold\",\"Silver\",\"Bronze\",\"Gold\",\"Silver\",\"Bronze\",\"Gold\",\"Silver\",\"Bronze\",\"Gold\",\"Silver\",\"Bronze\",\"Gold\",\"Silver\",\"Bronze\",\"Gold\",\"Silver\",\"Bronze\",\"Gold\",\"Silver\",\"Bronze\",\"Gold\",\"Silver\",\"Bronze\",\"Gold\",\"Silver\",\"Bronze\",\"Gold\",\"Silver\",\"Bronze\",\"Gold\",\"Silver\",\"Bronze\",\"Gold\",\"Silver\",\"Bronze\",\"Gold\",\"Silver\",\"Bronze\",\"Gold\",\"Silver\",\"Bronze\",\"Gold\",\"Silver\",\"Bronze\",\"Gold\",\"Silver\",\"Bronze\",\"Gold\",\"Silver\",\"Bronze\",\"Gold\",\"Silver\",\"Bronze\",\"Gold\",\"Silver\",\"Bronze\",\"Gold\",\"Silver\"],\"shape\":[77],\"dtype\":\"object\",\"order\":\"little\"}],[\"Count\",{\"type\":\"ndarray\",\"array\":{\"type\":\"bytes\",\"data\":\"AgAAABgAAAAFAAAAAQAAAAEAAAAGAAAABAAAAAUAAAAGAAAADgAAAAoAAAAEAAAABAAAAAsAAAAOAAAABgAAABMAAAApAAAAFQAAAA8AAAARAAAACgAAABoAAAA3AAAAXQAAAEgAAAAZAAAABAAAABAAAAAYAAAACgAAABQAAAAUAAAAJgAAACMAAAA1AAAAGQAAACsAAABBAAAAXQAAAEIAAAAGAAAADgAAAAoAAAAtAAAAKgAAACMAAAAGAAAAEAAAAAwAAAA+AAAAHwAAABcAAAAKAAAAEgAAABUAAAA/AAAAKQAAACsAAAAGAAAADwAAABcAAAApAAAAJwAAABAAAAALAAAADQAAABIAAAAWAAAAKwAAABsAAAAHAAAADQAAAAwAAABDAAAALwAAACsAAAA=\"},\"shape\":[77],\"dtype\":\"int32\",\"order\":\"little\"}],[\"Color\",{\"type\":\"ndarray\",\"array\":[\"#CD7F32\",\"#FFD700\",\"#C0C0C0\",\"#FFD700\",\"#C0C0C0\",\"#CD7F32\",\"#FFD700\",\"#C0C0C0\",\"#CD7F32\",\"#FFD700\",\"#C0C0C0\",\"#CD7F32\",\"#FFD700\",\"#C0C0C0\",\"#CD7F32\",\"#FFD700\",\"#C0C0C0\",\"#CD7F32\",\"#FFD700\",\"#C0C0C0\",\"#CD7F32\",\"#FFD700\",\"#C0C0C0\",\"#CD7F32\",\"#FFD700\",\"#C0C0C0\",\"#CD7F32\",\"#FFD700\",\"#C0C0C0\",\"#CD7F32\",\"#FFD700\",\"#C0C0C0\",\"#CD7F32\",\"#FFD700\",\"#C0C0C0\",\"#CD7F32\",\"#FFD700\",\"#C0C0C0\",\"#CD7F32\",\"#FFD700\",\"#C0C0C0\",\"#CD7F32\",\"#FFD700\",\"#C0C0C0\",\"#CD7F32\",\"#FFD700\",\"#C0C0C0\",\"#CD7F32\",\"#FFD700\",\"#C0C0C0\",\"#CD7F32\",\"#FFD700\",\"#C0C0C0\",\"#CD7F32\",\"#FFD700\",\"#C0C0C0\",\"#CD7F32\",\"#FFD700\",\"#C0C0C0\",\"#CD7F32\",\"#FFD700\",\"#C0C0C0\",\"#CD7F32\",\"#FFD700\",\"#C0C0C0\",\"#CD7F32\",\"#FFD700\",\"#C0C0C0\",\"#CD7F32\",\"#FFD700\",\"#C0C0C0\",\"#CD7F32\",\"#FFD700\",\"#C0C0C0\",\"#CD7F32\",\"#FFD700\",\"#C0C0C0\"],\"shape\":[77],\"dtype\":\"object\",\"order\":\"little\"}]]}}},\"view\":{\"type\":\"object\",\"name\":\"CDSView\",\"id\":\"p1654\",\"attributes\":{\"filter\":{\"type\":\"object\",\"name\":\"AllIndices\",\"id\":\"p1655\"}}},\"glyph\":{\"type\":\"object\",\"name\":\"VBar\",\"id\":\"p1650\",\"attributes\":{\"x\":{\"type\":\"field\",\"field\":\"Year\"},\"width\":{\"type\":\"value\",\"value\":0.75},\"top\":{\"type\":\"field\",\"field\":\"Count\"},\"line_color\":{\"type\":\"field\",\"field\":\"Color\"},\"fill_color\":{\"type\":\"field\",\"field\":\"Color\"},\"hatch_color\":{\"type\":\"field\",\"field\":\"Color\"}}},\"nonselection_glyph\":{\"type\":\"object\",\"name\":\"VBar\",\"id\":\"p1651\",\"attributes\":{\"x\":{\"type\":\"field\",\"field\":\"Year\"},\"width\":{\"type\":\"value\",\"value\":0.75},\"top\":{\"type\":\"field\",\"field\":\"Count\"},\"line_color\":{\"type\":\"field\",\"field\":\"Color\"},\"line_alpha\":{\"type\":\"value\",\"value\":0.1},\"fill_color\":{\"type\":\"field\",\"field\":\"Color\"},\"fill_alpha\":{\"type\":\"value\",\"value\":0.1},\"hatch_color\":{\"type\":\"field\",\"field\":\"Color\"},\"hatch_alpha\":{\"type\":\"value\",\"value\":0.1}}},\"muted_glyph\":{\"type\":\"object\",\"name\":\"VBar\",\"id\":\"p1652\",\"attributes\":{\"x\":{\"type\":\"field\",\"field\":\"Year\"},\"width\":{\"type\":\"value\",\"value\":0.75},\"top\":{\"type\":\"field\",\"field\":\"Count\"},\"line_color\":{\"type\":\"field\",\"field\":\"Color\"},\"line_alpha\":{\"type\":\"value\",\"value\":0.2},\"fill_color\":{\"type\":\"field\",\"field\":\"Color\"},\"fill_alpha\":{\"type\":\"value\",\"value\":0.2},\"hatch_color\":{\"type\":\"field\",\"field\":\"Color\"},\"hatch_alpha\":{\"type\":\"value\",\"value\":0.2}}}}}],\"toolbar\":{\"type\":\"object\",\"name\":\"Toolbar\",\"id\":\"p1624\",\"attributes\":{\"tools\":[{\"type\":\"object\",\"name\":\"PanTool\",\"id\":\"p1637\"},{\"type\":\"object\",\"name\":\"WheelZoomTool\",\"id\":\"p1638\"},{\"type\":\"object\",\"name\":\"BoxZoomTool\",\"id\":\"p1639\",\"attributes\":{\"overlay\":{\"type\":\"object\",\"name\":\"BoxAnnotation\",\"id\":\"p1640\",\"attributes\":{\"syncable\":false,\"level\":\"overlay\",\"visible\":false,\"left_units\":\"canvas\",\"right_units\":\"canvas\",\"bottom_units\":\"canvas\",\"top_units\":\"canvas\",\"line_color\":\"black\",\"line_alpha\":1.0,\"line_width\":2,\"line_dash\":[4,4],\"fill_color\":\"lightgrey\",\"fill_alpha\":0.5}}}},{\"type\":\"object\",\"name\":\"SaveTool\",\"id\":\"p1641\"},{\"type\":\"object\",\"name\":\"ResetTool\",\"id\":\"p1642\"},{\"type\":\"object\",\"name\":\"HelpTool\",\"id\":\"p1643\"}]}},\"left\":[{\"type\":\"object\",\"name\":\"LinearAxis\",\"id\":\"p1632\",\"attributes\":{\"ticker\":{\"type\":\"object\",\"name\":\"BasicTicker\",\"id\":\"p1633\",\"attributes\":{\"mantissas\":[1,2,5]}},\"formatter\":{\"type\":\"object\",\"name\":\"BasicTickFormatter\",\"id\":\"p1634\"},\"major_label_policy\":{\"type\":\"object\",\"name\":\"AllLabels\",\"id\":\"p1635\"}}}],\"below\":[{\"type\":\"object\",\"name\":\"LinearAxis\",\"id\":\"p1627\",\"attributes\":{\"ticker\":{\"type\":\"object\",\"name\":\"BasicTicker\",\"id\":\"p1628\",\"attributes\":{\"mantissas\":[1,2,5]}},\"formatter\":{\"type\":\"object\",\"name\":\"BasicTickFormatter\",\"id\":\"p1629\"},\"major_label_policy\":{\"type\":\"object\",\"name\":\"AllLabels\",\"id\":\"p1630\"}}}],\"center\":[{\"type\":\"object\",\"name\":\"Grid\",\"id\":\"p1631\",\"attributes\":{\"axis\":{\"id\":\"p1627\"}}},{\"type\":\"object\",\"name\":\"Grid\",\"id\":\"p1636\",\"attributes\":{\"dimension\":1,\"axis\":{\"id\":\"p1632\"}}}]}}]}};\n  const render_items = [{\"docid\":\"b53c84dd-fcbc-406e-8802-3270f9977cec\",\"roots\":{\"p1616\":\"d93e05d6-d68f-4679-a2ba-8def776a0a25\"},\"root_ids\":[\"p1616\"]}];\n  root.Bokeh.embed.embed_items_notebook(docs_json, render_items);\n  }\n  if (root.Bokeh !== undefined) {\n    embed_document(root);\n  } else {\n    let attempts = 0;\n    const timer = setInterval(function(root) {\n      if (root.Bokeh !== undefined) {\n        clearInterval(timer);\n        embed_document(root);\n      } else {\n        attempts++;\n        if (attempts > 100) {\n          clearInterval(timer);\n          console.log(\"Bokeh: ERROR: Unable to run BokehJS code because BokehJS library is missing\");\n        }\n      }\n    }, 10, root)\n  }\n})(window);",
      "application/vnd.bokehjs_exec.v0+json": ""
     },
     "metadata": {
      "application/vnd.bokehjs_exec.v0+json": {
       "id": "p1616"
      }
     },
     "output_type": "display_data"
    }
   ],
   "source": [
    "# Importing library's\n",
    "from bokeh.plotting import figure, show, output_notebook\n",
    "\n",
    "p = figure()\n",
    "p.vbar('Year', top='Count', width=0.75, fill_alpha= 1, color = 'Color', source = germany_hist)\n",
    "\n",
    "output_notebook()\n",
    "show(p)\n"
   ]
  },
  {
   "cell_type": "markdown",
   "metadata": {},
   "source": [
    "## Important Side Note:\n",
    "\n",
    "When making these plots, we realized that the bars were stacking irregularly meaning that there was overlap. Some solutions that we thought would be good would be to separate the medals so that for each year, there would be up to 3 different bars to compare wins. This however, led us down a rabbit hole that I have not recovered from. I could not figure it out. Another alternative, was to make them stack correctly using vbar_stack. This also proved to be outside of my pay grade of 0 dollars. Did not figure that out either. \n",
    "\n",
    "Regardless, we had some fun. Below are some more fun plots using athlete and shark attack data. "
   ]
  },
  {
   "cell_type": "markdown",
   "metadata": {},
   "source": [
    "# Better Histogram"
   ]
  },
  {
   "cell_type": "code",
   "execution_count": 40,
   "metadata": {},
   "outputs": [],
   "source": [
    "# germany \n",
    "p1 = figure(title=\"Medals Won at the Olympics by Germany\", \n",
    "           x_axis_label='Year', \n",
    "           y_axis_label='Number of Medals',\n",
    "           x_axis_type = None, # remove default x axis\n",
    "           width = 2000) # make width of figure larger\n",
    "\n",
    "p1.vbar('Year', # the column that we want to have on the x axis\n",
    "       top='Count', # the column with the values we want to plot\n",
    "       width=0.75, # width of the bars \n",
    "       fill_alpha= 1, \n",
    "       color='Color', # the column that we want to color in \n",
    "       source = germany_hist,\n",
    "       legend_field='Medal')\n",
    "\n",
    "# change axis ticks\n",
    "ticker = SingleIntervalTicker(interval = 2, # make year interval on new axis 2\n",
    "                              num_minor_ticks = 0) # set number of ticks between major ticks\n",
    "xaxis = LinearAxis(ticker = ticker)\n",
    "xaxis.formatter.use_scientific = False # turns x axis into non-scientific format\n",
    "p1.add_layout(xaxis, 'below') # identify where new axis should lay"
   ]
  },
  {
   "cell_type": "code",
   "execution_count": 41,
   "metadata": {},
   "outputs": [],
   "source": [
    "# denmark\n",
    "p2 = figure(title=\"Medals Won at the Olympics by Denmark\", \n",
    "           x_axis_label='Year', \n",
    "           y_axis_label='Number of Medals',\n",
    "           x_axis_type = None, # remove default x axis\n",
    "           width = 2000) # make width of figure larger\n",
    "\n",
    "p2.vbar('Year', # the column that we want to have on the x axis\n",
    "       top='Count', # the column with the values we want to plot\n",
    "       width=0.75, # width of the bars \n",
    "       fill_alpha = 1, \n",
    "       color='Color', # the column that we want to color in \n",
    "       source = denmark_hist,\n",
    "       legend_field='Medal')\n",
    "\n",
    "# change axis ticks\n",
    "ticker = SingleIntervalTicker(interval = 2, # make year interval on new axis 2\n",
    "                              num_minor_ticks = 0) # set number of ticks between major ticks\n",
    "xaxis = LinearAxis(ticker = ticker)\n",
    "xaxis.formatter.use_scientific = False # turns x axis into non-scientific format\n",
    "p2.add_layout(xaxis, 'below') # identify where new axis should lay"
   ]
  },
  {
   "cell_type": "code",
   "execution_count": 42,
   "metadata": {},
   "outputs": [],
   "source": [
    "# greece\n",
    "p3 = figure(title=\"Medals Won at the Olympics by Greece\", \n",
    "           x_axis_label='Year', \n",
    "           y_axis_label='Number of Medals',\n",
    "           x_axis_type = None, # remove default x axis\n",
    "           width = 2000) # make width of figure larger\n",
    "\n",
    "p3.vbar('Year', # the column that we want to have on the x axis\n",
    "       top='Count', # the column with the values we want to plot\n",
    "       width=0.75, # width of the bars \n",
    "       fill_alpha=1, \n",
    "       color = 'Color', # the column that we want to color in \n",
    "       source = greece_hist,\n",
    "       legend_field='Medal')\n",
    "\n",
    "# change axis ticks\n",
    "ticker = SingleIntervalTicker(interval = 2, # make year interval on new axis 2\n",
    "                              num_minor_ticks = 0) # set number of ticks between major ticks\n",
    "xaxis = LinearAxis(ticker = ticker)\n",
    "xaxis.formatter.use_scientific = False # turns x axis into non-scientific format\n",
    "p3.add_layout(xaxis, 'below') # identify where new axis should lay"
   ]
  },
  {
   "cell_type": "code",
   "execution_count": 43,
   "metadata": {},
   "outputs": [
    {
     "data": {
      "text/html": [
       "\n",
       "  <div id=\"e0ca072c-073a-4bf8-9231-e7b9e033c7ba\" data-root-id=\"p1795\" style=\"display: contents;\"></div>\n"
      ]
     },
     "metadata": {},
     "output_type": "display_data"
    },
    {
     "data": {
      "application/javascript": "(function(root) {\n  function embed_document(root) {\n  const docs_json = {\"adeef609-e941-471a-946c-72df517c801d\":{\"version\":\"3.2.1\",\"title\":\"Bokeh Application\",\"roots\":[{\"type\":\"object\",\"name\":\"GridPlot\",\"id\":\"p1795\",\"attributes\":{\"rows\":null,\"cols\":null,\"toolbar\":{\"type\":\"object\",\"name\":\"Toolbar\",\"id\":\"p1794\",\"attributes\":{\"tools\":[{\"type\":\"object\",\"name\":\"ToolProxy\",\"id\":\"p1788\",\"attributes\":{\"tools\":[{\"type\":\"object\",\"name\":\"PanTool\",\"id\":\"p1676\"},{\"type\":\"object\",\"name\":\"PanTool\",\"id\":\"p1719\"},{\"type\":\"object\",\"name\":\"PanTool\",\"id\":\"p1762\"}]}},{\"type\":\"object\",\"name\":\"ToolProxy\",\"id\":\"p1789\",\"attributes\":{\"tools\":[{\"type\":\"object\",\"name\":\"WheelZoomTool\",\"id\":\"p1677\"},{\"type\":\"object\",\"name\":\"WheelZoomTool\",\"id\":\"p1720\"},{\"type\":\"object\",\"name\":\"WheelZoomTool\",\"id\":\"p1763\"}]}},{\"type\":\"object\",\"name\":\"ToolProxy\",\"id\":\"p1790\",\"attributes\":{\"tools\":[{\"type\":\"object\",\"name\":\"BoxZoomTool\",\"id\":\"p1678\",\"attributes\":{\"overlay\":{\"type\":\"object\",\"name\":\"BoxAnnotation\",\"id\":\"p1679\",\"attributes\":{\"syncable\":false,\"level\":\"overlay\",\"visible\":false,\"left_units\":\"canvas\",\"right_units\":\"canvas\",\"bottom_units\":\"canvas\",\"top_units\":\"canvas\",\"line_color\":\"black\",\"line_alpha\":1.0,\"line_width\":2,\"line_dash\":[4,4],\"fill_color\":\"lightgrey\",\"fill_alpha\":0.5}}}},{\"type\":\"object\",\"name\":\"BoxZoomTool\",\"id\":\"p1721\",\"attributes\":{\"overlay\":{\"type\":\"object\",\"name\":\"BoxAnnotation\",\"id\":\"p1722\",\"attributes\":{\"syncable\":false,\"level\":\"overlay\",\"visible\":false,\"left_units\":\"canvas\",\"right_units\":\"canvas\",\"bottom_units\":\"canvas\",\"top_units\":\"canvas\",\"line_color\":\"black\",\"line_alpha\":1.0,\"line_width\":2,\"line_dash\":[4,4],\"fill_color\":\"lightgrey\",\"fill_alpha\":0.5}}}},{\"type\":\"object\",\"name\":\"BoxZoomTool\",\"id\":\"p1764\",\"attributes\":{\"overlay\":{\"type\":\"object\",\"name\":\"BoxAnnotation\",\"id\":\"p1765\",\"attributes\":{\"syncable\":false,\"level\":\"overlay\",\"visible\":false,\"left_units\":\"canvas\",\"right_units\":\"canvas\",\"bottom_units\":\"canvas\",\"top_units\":\"canvas\",\"line_color\":\"black\",\"line_alpha\":1.0,\"line_width\":2,\"line_dash\":[4,4],\"fill_color\":\"lightgrey\",\"fill_alpha\":0.5}}}}]}},{\"type\":\"object\",\"name\":\"SaveTool\",\"id\":\"p1791\"},{\"type\":\"object\",\"name\":\"ToolProxy\",\"id\":\"p1792\",\"attributes\":{\"tools\":[{\"type\":\"object\",\"name\":\"ResetTool\",\"id\":\"p1681\"},{\"type\":\"object\",\"name\":\"ResetTool\",\"id\":\"p1724\"},{\"type\":\"object\",\"name\":\"ResetTool\",\"id\":\"p1767\"}]}},{\"type\":\"object\",\"name\":\"ToolProxy\",\"id\":\"p1793\",\"attributes\":{\"tools\":[{\"type\":\"object\",\"name\":\"HelpTool\",\"id\":\"p1682\"},{\"type\":\"object\",\"name\":\"HelpTool\",\"id\":\"p1725\"},{\"type\":\"object\",\"name\":\"HelpTool\",\"id\":\"p1768\"}]}}]}},\"children\":[[{\"type\":\"object\",\"name\":\"Figure\",\"id\":\"p1659\",\"attributes\":{\"width\":2000,\"height\":500,\"x_range\":{\"type\":\"object\",\"name\":\"DataRange1d\",\"id\":\"p1660\"},\"y_range\":{\"type\":\"object\",\"name\":\"DataRange1d\",\"id\":\"p1661\"},\"x_scale\":{\"type\":\"object\",\"name\":\"LinearScale\",\"id\":\"p1669\"},\"y_scale\":{\"type\":\"object\",\"name\":\"LinearScale\",\"id\":\"p1670\"},\"title\":{\"type\":\"object\",\"name\":\"Title\",\"id\":\"p1662\",\"attributes\":{\"text\":\"Medals Won at the Olympics by Germany\"}},\"renderers\":[{\"type\":\"object\",\"name\":\"GlyphRenderer\",\"id\":\"p1692\",\"attributes\":{\"data_source\":{\"type\":\"object\",\"name\":\"ColumnDataSource\",\"id\":\"p1683\",\"attributes\":{\"selected\":{\"type\":\"object\",\"name\":\"Selection\",\"id\":\"p1684\",\"attributes\":{\"indices\":[],\"line_indices\":[]}},\"selection_policy\":{\"type\":\"object\",\"name\":\"UnionRenderers\",\"id\":\"p1685\"},\"data\":{\"type\":\"map\",\"entries\":[[\"index\",{\"type\":\"ndarray\",\"array\":{\"type\":\"bytes\",\"data\":\"AAAAAAEAAAACAAAAAwAAAAQAAAAFAAAABgAAAAcAAAAIAAAACQAAAAoAAAALAAAADAAAAA0AAAAOAAAADwAAABAAAAARAAAAEgAAABMAAAAUAAAAFQAAABYAAAAXAAAAGAAAABkAAAAaAAAAGwAAABwAAAAdAAAAHgAAAB8AAAAgAAAAIQAAACIAAAAjAAAAJAAAACUAAAAmAAAAJwAAACgAAAApAAAAKgAAACsAAAAsAAAALQAAAC4AAAAvAAAAMAAAADEAAAAyAAAAMwAAADQAAAA1AAAANgAAADcAAAA4AAAAOQAAADoAAAA7AAAAPAAAAD0AAAA+AAAAPwAAAEAAAABBAAAAQgAAAEMAAABEAAAARQAAAEYAAABHAAAASAAAAEkAAABKAAAASwAAAEwAAAA=\"},\"shape\":[77],\"dtype\":\"int32\",\"order\":\"little\"}],[\"Year\",{\"type\":\"ndarray\",\"array\":{\"type\":\"bytes\",\"data\":\"aAcAAGgHAABoBwAAbAcAAGwHAABwBwAAcAcAAHAHAAByBwAAcgcAAHIHAAB0BwAAdAcAAHQHAAB4BwAAeAcAAHgHAACIBwAAiAcAAIgHAACMBwAAjAcAAIwHAACQBwAAkAcAAJAHAACgBwAAoAcAAKAHAACkBwAApAcAAKQHAACoBwAAqAcAAKgHAACsBwAArAcAAKwHAADIBwAAyAcAAMgHAADKBwAAygcAAMoHAADMBwAAzAcAAMwHAADOBwAAzgcAAM4HAADQBwAA0AcAANAHAADSBwAA0gcAANIHAADUBwAA1AcAANQHAADWBwAA1gcAANYHAADYBwAA2AcAANgHAADaBwAA2gcAANoHAADcBwAA3AcAANwHAADeBwAA3gcAAN4HAADgBwAA4AcAAOAHAAA=\"},\"shape\":[77],\"dtype\":\"int32\",\"order\":\"little\"}],[\"Medal\",{\"type\":\"ndarray\",\"array\":[\"Bronze\",\"Gold\",\"Silver\",\"Gold\",\"Silver\",\"Bronze\",\"Gold\",\"Silver\",\"Bronze\",\"Gold\",\"Silver\",\"Bronze\",\"Gold\",\"Silver\",\"Bronze\",\"Gold\",\"Silver\",\"Bronze\",\"Gold\",\"Silver\",\"Bronze\",\"Gold\",\"Silver\",\"Bronze\",\"Gold\",\"Silver\",\"Bronze\",\"Gold\",\"Silver\",\"Bronze\",\"Gold\",\"Silver\",\"Bronze\",\"Gold\",\"Silver\",\"Bronze\",\"Gold\",\"Silver\",\"Bronze\",\"Gold\",\"Silver\",\"Bronze\",\"Gold\",\"Silver\",\"Bronze\",\"Gold\",\"Silver\",\"Bronze\",\"Gold\",\"Silver\",\"Bronze\",\"Gold\",\"Silver\",\"Bronze\",\"Gold\",\"Silver\",\"Bronze\",\"Gold\",\"Silver\",\"Bronze\",\"Gold\",\"Silver\",\"Bronze\",\"Gold\",\"Silver\",\"Bronze\",\"Gold\",\"Silver\",\"Bronze\",\"Gold\",\"Silver\",\"Bronze\",\"Gold\",\"Silver\",\"Bronze\",\"Gold\",\"Silver\"],\"shape\":[77],\"dtype\":\"object\",\"order\":\"little\"}],[\"Count\",{\"type\":\"ndarray\",\"array\":{\"type\":\"bytes\",\"data\":\"AgAAABgAAAAFAAAAAQAAAAEAAAAGAAAABAAAAAUAAAAGAAAADgAAAAoAAAAEAAAABAAAAAsAAAAOAAAABgAAABMAAAApAAAAFQAAAA8AAAARAAAACgAAABoAAAA3AAAAXQAAAEgAAAAZAAAABAAAABAAAAAYAAAACgAAABQAAAAUAAAAJgAAACMAAAA1AAAAGQAAACsAAABBAAAAXQAAAEIAAAAGAAAADgAAAAoAAAAtAAAAKgAAACMAAAAGAAAAEAAAAAwAAAA+AAAAHwAAABcAAAAKAAAAEgAAABUAAAA/AAAAKQAAACsAAAAGAAAADwAAABcAAAApAAAAJwAAABAAAAALAAAADQAAABIAAAAWAAAAKwAAABsAAAAHAAAADQAAAAwAAABDAAAALwAAACsAAAA=\"},\"shape\":[77],\"dtype\":\"int32\",\"order\":\"little\"}],[\"Color\",{\"type\":\"ndarray\",\"array\":[\"#CD7F32\",\"#FFD700\",\"#C0C0C0\",\"#FFD700\",\"#C0C0C0\",\"#CD7F32\",\"#FFD700\",\"#C0C0C0\",\"#CD7F32\",\"#FFD700\",\"#C0C0C0\",\"#CD7F32\",\"#FFD700\",\"#C0C0C0\",\"#CD7F32\",\"#FFD700\",\"#C0C0C0\",\"#CD7F32\",\"#FFD700\",\"#C0C0C0\",\"#CD7F32\",\"#FFD700\",\"#C0C0C0\",\"#CD7F32\",\"#FFD700\",\"#C0C0C0\",\"#CD7F32\",\"#FFD700\",\"#C0C0C0\",\"#CD7F32\",\"#FFD700\",\"#C0C0C0\",\"#CD7F32\",\"#FFD700\",\"#C0C0C0\",\"#CD7F32\",\"#FFD700\",\"#C0C0C0\",\"#CD7F32\",\"#FFD700\",\"#C0C0C0\",\"#CD7F32\",\"#FFD700\",\"#C0C0C0\",\"#CD7F32\",\"#FFD700\",\"#C0C0C0\",\"#CD7F32\",\"#FFD700\",\"#C0C0C0\",\"#CD7F32\",\"#FFD700\",\"#C0C0C0\",\"#CD7F32\",\"#FFD700\",\"#C0C0C0\",\"#CD7F32\",\"#FFD700\",\"#C0C0C0\",\"#CD7F32\",\"#FFD700\",\"#C0C0C0\",\"#CD7F32\",\"#FFD700\",\"#C0C0C0\",\"#CD7F32\",\"#FFD700\",\"#C0C0C0\",\"#CD7F32\",\"#FFD700\",\"#C0C0C0\",\"#CD7F32\",\"#FFD700\",\"#C0C0C0\",\"#CD7F32\",\"#FFD700\",\"#C0C0C0\"],\"shape\":[77],\"dtype\":\"object\",\"order\":\"little\"}]]}}},\"view\":{\"type\":\"object\",\"name\":\"CDSView\",\"id\":\"p1693\",\"attributes\":{\"filter\":{\"type\":\"object\",\"name\":\"AllIndices\",\"id\":\"p1694\"}}},\"glyph\":{\"type\":\"object\",\"name\":\"VBar\",\"id\":\"p1689\",\"attributes\":{\"x\":{\"type\":\"field\",\"field\":\"Year\"},\"width\":{\"type\":\"value\",\"value\":0.75},\"top\":{\"type\":\"field\",\"field\":\"Count\"},\"line_color\":{\"type\":\"field\",\"field\":\"Color\"},\"fill_color\":{\"type\":\"field\",\"field\":\"Color\"},\"hatch_color\":{\"type\":\"field\",\"field\":\"Color\"}}},\"nonselection_glyph\":{\"type\":\"object\",\"name\":\"VBar\",\"id\":\"p1690\",\"attributes\":{\"x\":{\"type\":\"field\",\"field\":\"Year\"},\"width\":{\"type\":\"value\",\"value\":0.75},\"top\":{\"type\":\"field\",\"field\":\"Count\"},\"line_color\":{\"type\":\"field\",\"field\":\"Color\"},\"line_alpha\":{\"type\":\"value\",\"value\":0.1},\"fill_color\":{\"type\":\"field\",\"field\":\"Color\"},\"fill_alpha\":{\"type\":\"value\",\"value\":0.1},\"hatch_color\":{\"type\":\"field\",\"field\":\"Color\"},\"hatch_alpha\":{\"type\":\"value\",\"value\":0.1}}},\"muted_glyph\":{\"type\":\"object\",\"name\":\"VBar\",\"id\":\"p1691\",\"attributes\":{\"x\":{\"type\":\"field\",\"field\":\"Year\"},\"width\":{\"type\":\"value\",\"value\":0.75},\"top\":{\"type\":\"field\",\"field\":\"Count\"},\"line_color\":{\"type\":\"field\",\"field\":\"Color\"},\"line_alpha\":{\"type\":\"value\",\"value\":0.2},\"fill_color\":{\"type\":\"field\",\"field\":\"Color\"},\"fill_alpha\":{\"type\":\"value\",\"value\":0.2},\"hatch_color\":{\"type\":\"field\",\"field\":\"Color\"},\"hatch_alpha\":{\"type\":\"value\",\"value\":0.2}}}}}],\"toolbar\":{\"type\":\"object\",\"name\":\"Toolbar\",\"id\":\"p1668\",\"attributes\":{\"tools\":[{\"id\":\"p1676\"},{\"id\":\"p1677\"},{\"id\":\"p1678\"},{\"type\":\"object\",\"name\":\"SaveTool\",\"id\":\"p1680\"},{\"id\":\"p1681\"},{\"id\":\"p1682\"}]}},\"toolbar_location\":null,\"left\":[{\"type\":\"object\",\"name\":\"LinearAxis\",\"id\":\"p1671\",\"attributes\":{\"ticker\":{\"type\":\"object\",\"name\":\"BasicTicker\",\"id\":\"p1672\",\"attributes\":{\"mantissas\":[1,2,5]}},\"formatter\":{\"type\":\"object\",\"name\":\"BasicTickFormatter\",\"id\":\"p1673\"},\"axis_label\":\"Number of Medals\",\"major_label_policy\":{\"type\":\"object\",\"name\":\"AllLabels\",\"id\":\"p1674\"}}}],\"below\":[{\"type\":\"object\",\"name\":\"LinearAxis\",\"id\":\"p1698\",\"attributes\":{\"ticker\":{\"type\":\"object\",\"name\":\"SingleIntervalTicker\",\"id\":\"p1697\",\"attributes\":{\"num_minor_ticks\":0,\"interval\":2}},\"formatter\":{\"type\":\"object\",\"name\":\"BasicTickFormatter\",\"id\":\"p1700\",\"attributes\":{\"use_scientific\":false}},\"major_label_policy\":{\"type\":\"object\",\"name\":\"AllLabels\",\"id\":\"p1701\"}}}],\"center\":[{\"type\":\"object\",\"name\":\"Grid\",\"id\":\"p1675\",\"attributes\":{\"dimension\":1,\"axis\":{\"id\":\"p1671\"}}},{\"type\":\"object\",\"name\":\"Legend\",\"id\":\"p1695\",\"attributes\":{\"items\":[{\"type\":\"object\",\"name\":\"LegendItem\",\"id\":\"p1696\",\"attributes\":{\"label\":{\"type\":\"field\",\"field\":\"Medal\"},\"renderers\":[{\"id\":\"p1692\"}]}}]}}]}},0,0],[{\"type\":\"object\",\"name\":\"Figure\",\"id\":\"p1702\",\"attributes\":{\"width\":2000,\"height\":500,\"x_range\":{\"type\":\"object\",\"name\":\"DataRange1d\",\"id\":\"p1703\"},\"y_range\":{\"type\":\"object\",\"name\":\"DataRange1d\",\"id\":\"p1704\"},\"x_scale\":{\"type\":\"object\",\"name\":\"LinearScale\",\"id\":\"p1712\"},\"y_scale\":{\"type\":\"object\",\"name\":\"LinearScale\",\"id\":\"p1713\"},\"title\":{\"type\":\"object\",\"name\":\"Title\",\"id\":\"p1705\",\"attributes\":{\"text\":\"Medals Won at the Olympics by Denmark\"}},\"renderers\":[{\"type\":\"object\",\"name\":\"GlyphRenderer\",\"id\":\"p1735\",\"attributes\":{\"data_source\":{\"type\":\"object\",\"name\":\"ColumnDataSource\",\"id\":\"p1726\",\"attributes\":{\"selected\":{\"type\":\"object\",\"name\":\"Selection\",\"id\":\"p1727\",\"attributes\":{\"indices\":[],\"line_indices\":[]}},\"selection_policy\":{\"type\":\"object\",\"name\":\"UnionRenderers\",\"id\":\"p1728\"},\"data\":{\"type\":\"map\",\"entries\":[[\"index\",{\"type\":\"ndarray\",\"array\":{\"type\":\"bytes\",\"data\":\"AAAAAAEAAAACAAAAAwAAAAQAAAAFAAAABgAAAAcAAAAIAAAACQAAAAoAAAALAAAADAAAAA0AAAAOAAAADwAAABAAAAARAAAAEgAAABMAAAAUAAAAFQAAABYAAAAXAAAAGAAAABkAAAAaAAAAGwAAABwAAAAdAAAAHgAAAB8AAAAgAAAAIQAAACIAAAAjAAAAJAAAACUAAAAmAAAAJwAAACgAAAApAAAAKgAAACsAAAAsAAAALQAAAC4AAAAvAAAAMAAAADEAAAAyAAAAMwAAADQAAAA1AAAANgAAADcAAAA4AAAAOQAAADoAAAA7AAAAPAAAAD0AAAA+AAAAPwAAAEAAAABBAAAAQgAAAEMAAABEAAAARQAAAEYAAABHAAAASAAAAEkAAABKAAAASwAAAEwAAAA=\"},\"shape\":[77],\"dtype\":\"int32\",\"order\":\"little\"}],[\"Year\",{\"type\":\"ndarray\",\"array\":{\"type\":\"bytes\",\"data\":\"aAcAAGgHAABoBwAAbAcAAGwHAABsBwAAcgcAAHIHAAByBwAAdAcAAHQHAAB4BwAAeAcAAIAHAACABwAAgAcAAIQHAACEBwAAhAcAAIgHAACIBwAAiAcAAIwHAACMBwAAkAcAAJAHAACcBwAAnAcAAJwHAACgBwAAoAcAAKAHAACkBwAApAcAAKQHAACoBwAAqAcAAKgHAACsBwAArAcAAKwHAACwBwAAsAcAALAHAAC0BwAAuAcAALgHAAC8BwAAvAcAALwHAADABwAAwAcAAMQHAADEBwAAxAcAAMgHAADIBwAAyAcAAMwHAADMBwAAzAcAAM4HAADQBwAA0AcAANAHAADUBwAA1AcAANQHAADYBwAA2AcAANgHAADcBwAA3AcAANwHAADgBwAA4AcAAOAHAAA=\"},\"shape\":[77],\"dtype\":\"int32\",\"order\":\"little\"}],[\"Medal\",{\"type\":\"ndarray\",\"array\":[\"Bronze\",\"Gold\",\"Silver\",\"Bronze\",\"Gold\",\"Silver\",\"Bronze\",\"Gold\",\"Silver\",\"Bronze\",\"Silver\",\"Bronze\",\"Silver\",\"Bronze\",\"Gold\",\"Silver\",\"Bronze\",\"Gold\",\"Silver\",\"Bronze\",\"Gold\",\"Silver\",\"Bronze\",\"Silver\",\"Bronze\",\"Silver\",\"Bronze\",\"Gold\",\"Silver\",\"Bronze\",\"Gold\",\"Silver\",\"Bronze\",\"Gold\",\"Silver\",\"Bronze\",\"Gold\",\"Silver\",\"Bronze\",\"Gold\",\"Silver\",\"Bronze\",\"Gold\",\"Silver\",\"Gold\",\"Bronze\",\"Gold\",\"Bronze\",\"Gold\",\"Silver\",\"Bronze\",\"Silver\",\"Bronze\",\"Gold\",\"Silver\",\"Bronze\",\"Gold\",\"Silver\",\"Bronze\",\"Gold\",\"Silver\",\"Silver\",\"Bronze\",\"Gold\",\"Silver\",\"Bronze\",\"Gold\",\"Silver\",\"Bronze\",\"Gold\",\"Silver\",\"Bronze\",\"Gold\",\"Silver\",\"Bronze\",\"Gold\",\"Silver\"],\"shape\":[77],\"dtype\":\"object\",\"order\":\"little\"}],[\"Count\",{\"type\":\"ndarray\",\"array\":{\"type\":\"bytes\",\"data\":\"AwAAAAEAAAACAAAAAgAAAAEAAAADAAAAAQAAAA4AAAATAAAAAwAAAA4AAAAcAAAALgAAAAEAAAAaAAAALAAAAAMAAAACAAAABgAAAAQAAAAGAAAAAQAAAAQAAAAHAAAAAwAAAAMAAAAYAAAABwAAABEAAAAFAAAAAwAAAAEAAAABAAAAAQAAAAEAAAAEAAAAAgAAAAwAAAAEAAAABAAAAAEAAAAGAAAABQAAAAYAAAABAAAABQAAAAMAAAACAAAABAAAAAIAAAAKAAAAAwAAAAMAAAADAAAAAQAAAAkAAAADAAAAAgAAAAEAAAAVAAAAAQAAAAUAAAAEAAAAEgAAAAMAAAAHAAAAEwAAAAEAAAADAAAABgAAAAcAAAAGAAAAAwAAAAUAAAAQAAAADwAAAAoAAAA=\"},\"shape\":[77],\"dtype\":\"int32\",\"order\":\"little\"}],[\"Color\",{\"type\":\"ndarray\",\"array\":[\"#CD7F32\",\"#FFD700\",\"#C0C0C0\",\"#FFD700\",\"#C0C0C0\",\"#CD7F32\",\"#FFD700\",\"#C0C0C0\",\"#CD7F32\",\"#FFD700\",\"#C0C0C0\",\"#CD7F32\",\"#FFD700\",\"#C0C0C0\",\"#CD7F32\",\"#FFD700\",\"#C0C0C0\",\"#CD7F32\",\"#FFD700\",\"#C0C0C0\",\"#CD7F32\",\"#FFD700\",\"#C0C0C0\",\"#CD7F32\",\"#FFD700\",\"#C0C0C0\",\"#CD7F32\",\"#FFD700\",\"#C0C0C0\",\"#CD7F32\",\"#FFD700\",\"#C0C0C0\",\"#CD7F32\",\"#FFD700\",\"#C0C0C0\",\"#CD7F32\",\"#FFD700\",\"#C0C0C0\",\"#CD7F32\",\"#FFD700\",\"#C0C0C0\",\"#CD7F32\",\"#FFD700\",\"#C0C0C0\",\"#CD7F32\",\"#FFD700\",\"#C0C0C0\",\"#CD7F32\",\"#FFD700\",\"#C0C0C0\",\"#CD7F32\",\"#FFD700\",\"#C0C0C0\",\"#CD7F32\",\"#FFD700\",\"#C0C0C0\",\"#CD7F32\",\"#FFD700\",\"#C0C0C0\",\"#CD7F32\",\"#FFD700\",\"#C0C0C0\",\"#CD7F32\",\"#FFD700\",\"#C0C0C0\",\"#CD7F32\",\"#FFD700\",\"#C0C0C0\",\"#CD7F32\",\"#FFD700\",\"#C0C0C0\",\"#CD7F32\",\"#FFD700\",\"#C0C0C0\",\"#CD7F32\",\"#FFD700\",\"#C0C0C0\"],\"shape\":[77],\"dtype\":\"object\",\"order\":\"little\"}]]}}},\"view\":{\"type\":\"object\",\"name\":\"CDSView\",\"id\":\"p1736\",\"attributes\":{\"filter\":{\"type\":\"object\",\"name\":\"AllIndices\",\"id\":\"p1737\"}}},\"glyph\":{\"type\":\"object\",\"name\":\"VBar\",\"id\":\"p1732\",\"attributes\":{\"x\":{\"type\":\"field\",\"field\":\"Year\"},\"width\":{\"type\":\"value\",\"value\":0.75},\"top\":{\"type\":\"field\",\"field\":\"Count\"},\"line_color\":{\"type\":\"field\",\"field\":\"Color\"},\"fill_color\":{\"type\":\"field\",\"field\":\"Color\"},\"hatch_color\":{\"type\":\"field\",\"field\":\"Color\"}}},\"nonselection_glyph\":{\"type\":\"object\",\"name\":\"VBar\",\"id\":\"p1733\",\"attributes\":{\"x\":{\"type\":\"field\",\"field\":\"Year\"},\"width\":{\"type\":\"value\",\"value\":0.75},\"top\":{\"type\":\"field\",\"field\":\"Count\"},\"line_color\":{\"type\":\"field\",\"field\":\"Color\"},\"line_alpha\":{\"type\":\"value\",\"value\":0.1},\"fill_color\":{\"type\":\"field\",\"field\":\"Color\"},\"fill_alpha\":{\"type\":\"value\",\"value\":0.1},\"hatch_color\":{\"type\":\"field\",\"field\":\"Color\"},\"hatch_alpha\":{\"type\":\"value\",\"value\":0.1}}},\"muted_glyph\":{\"type\":\"object\",\"name\":\"VBar\",\"id\":\"p1734\",\"attributes\":{\"x\":{\"type\":\"field\",\"field\":\"Year\"},\"width\":{\"type\":\"value\",\"value\":0.75},\"top\":{\"type\":\"field\",\"field\":\"Count\"},\"line_color\":{\"type\":\"field\",\"field\":\"Color\"},\"line_alpha\":{\"type\":\"value\",\"value\":0.2},\"fill_color\":{\"type\":\"field\",\"field\":\"Color\"},\"fill_alpha\":{\"type\":\"value\",\"value\":0.2},\"hatch_color\":{\"type\":\"field\",\"field\":\"Color\"},\"hatch_alpha\":{\"type\":\"value\",\"value\":0.2}}}}}],\"toolbar\":{\"type\":\"object\",\"name\":\"Toolbar\",\"id\":\"p1711\",\"attributes\":{\"tools\":[{\"id\":\"p1719\"},{\"id\":\"p1720\"},{\"id\":\"p1721\"},{\"type\":\"object\",\"name\":\"SaveTool\",\"id\":\"p1723\"},{\"id\":\"p1724\"},{\"id\":\"p1725\"}]}},\"toolbar_location\":null,\"left\":[{\"type\":\"object\",\"name\":\"LinearAxis\",\"id\":\"p1714\",\"attributes\":{\"ticker\":{\"type\":\"object\",\"name\":\"BasicTicker\",\"id\":\"p1715\",\"attributes\":{\"mantissas\":[1,2,5]}},\"formatter\":{\"type\":\"object\",\"name\":\"BasicTickFormatter\",\"id\":\"p1716\"},\"axis_label\":\"Number of Medals\",\"major_label_policy\":{\"type\":\"object\",\"name\":\"AllLabels\",\"id\":\"p1717\"}}}],\"below\":[{\"type\":\"object\",\"name\":\"LinearAxis\",\"id\":\"p1741\",\"attributes\":{\"ticker\":{\"type\":\"object\",\"name\":\"SingleIntervalTicker\",\"id\":\"p1740\",\"attributes\":{\"num_minor_ticks\":0,\"interval\":2}},\"formatter\":{\"type\":\"object\",\"name\":\"BasicTickFormatter\",\"id\":\"p1743\",\"attributes\":{\"use_scientific\":false}},\"major_label_policy\":{\"type\":\"object\",\"name\":\"AllLabels\",\"id\":\"p1744\"}}}],\"center\":[{\"type\":\"object\",\"name\":\"Grid\",\"id\":\"p1718\",\"attributes\":{\"dimension\":1,\"axis\":{\"id\":\"p1714\"}}},{\"type\":\"object\",\"name\":\"Legend\",\"id\":\"p1738\",\"attributes\":{\"items\":[{\"type\":\"object\",\"name\":\"LegendItem\",\"id\":\"p1739\",\"attributes\":{\"label\":{\"type\":\"field\",\"field\":\"Medal\"},\"renderers\":[{\"id\":\"p1735\"}]}}]}}]}},1,0],[{\"type\":\"object\",\"name\":\"Figure\",\"id\":\"p1745\",\"attributes\":{\"width\":2000,\"height\":500,\"x_range\":{\"type\":\"object\",\"name\":\"DataRange1d\",\"id\":\"p1746\"},\"y_range\":{\"type\":\"object\",\"name\":\"DataRange1d\",\"id\":\"p1747\"},\"x_scale\":{\"type\":\"object\",\"name\":\"LinearScale\",\"id\":\"p1755\"},\"y_scale\":{\"type\":\"object\",\"name\":\"LinearScale\",\"id\":\"p1756\"},\"title\":{\"type\":\"object\",\"name\":\"Title\",\"id\":\"p1748\",\"attributes\":{\"text\":\"Medals Won at the Olympics by Greece\"}},\"renderers\":[{\"type\":\"object\",\"name\":\"GlyphRenderer\",\"id\":\"p1778\",\"attributes\":{\"data_source\":{\"type\":\"object\",\"name\":\"ColumnDataSource\",\"id\":\"p1769\",\"attributes\":{\"selected\":{\"type\":\"object\",\"name\":\"Selection\",\"id\":\"p1770\",\"attributes\":{\"indices\":[],\"line_indices\":[]}},\"selection_policy\":{\"type\":\"object\",\"name\":\"UnionRenderers\",\"id\":\"p1771\"},\"data\":{\"type\":\"map\",\"entries\":[[\"index\",{\"type\":\"ndarray\",\"array\":{\"type\":\"bytes\",\"data\":\"AAAAAAEAAAACAAAAAwAAAAQAAAAFAAAABgAAAAcAAAAIAAAACQAAAAoAAAALAAAADAAAAA0AAAAOAAAADwAAABAAAAARAAAAEgAAABMAAAAUAAAAFQAAABYAAAAXAAAAGAAAABkAAAAaAAAAGwAAABwAAAAdAAAAHgAAAB8AAAAgAAAAIQAAACIAAAAjAAAAJAAAAA==\"},\"shape\":[37],\"dtype\":\"int32\",\"order\":\"little\"}],[\"Year\",{\"type\":\"ndarray\",\"array\":{\"type\":\"bytes\",\"data\":\"aAcAAGgHAABoBwAAcAcAAHAHAAByBwAAcgcAAHIHAAB0BwAAdAcAAHgHAAB4BwAAgAcAAIQHAACkBwAAsAcAALQHAAC8BwAAvAcAAMAHAADABwAAxAcAAMgHAADMBwAAzAcAANAHAADQBwAA0AcAANQHAADUBwAA1AcAANgHAADYBwAA3AcAAOAHAADgBwAA4AcAAA==\"},\"shape\":[37],\"dtype\":\"int32\",\"order\":\"little\"}],[\"Medal\",{\"type\":\"ndarray\",\"array\":[\"Bronze\",\"Gold\",\"Silver\",\"Bronze\",\"Gold\",\"Bronze\",\"Gold\",\"Silver\",\"Bronze\",\"Silver\",\"Bronze\",\"Gold\",\"Silver\",\"Gold\",\"Bronze\",\"Bronze\",\"Silver\",\"Bronze\",\"Gold\",\"Bronze\",\"Silver\",\"Bronze\",\"Gold\",\"Gold\",\"Silver\",\"Bronze\",\"Gold\",\"Silver\",\"Bronze\",\"Gold\",\"Silver\",\"Bronze\",\"Silver\",\"Bronze\",\"Bronze\",\"Gold\",\"Silver\"],\"shape\":[37],\"dtype\":\"object\",\"order\":\"little\"}],[\"Count\",{\"type\":\"ndarray\",\"array\":{\"type\":\"bytes\",\"data\":\"EgAAAAoAAAAQAAAAAQAAAAEAAAAKAAAABwAAAAsAAAABAAAAAwAAAAEAAAABAAAABQAAAAEAAAABAAAAAQAAAAIAAAAEAAAAAQAAAAEAAAABAAAAAQAAAAIAAAAEAAAABAAAAAgAAAAEAAAABgAAAAUAAAAIAAAAEgAAAAQAAAADAAAAAwAAAAMAAAADAAAAAQAAAA==\"},\"shape\":[37],\"dtype\":\"int32\",\"order\":\"little\"}],[\"Color\",{\"type\":\"ndarray\",\"array\":[\"#CD7F32\",\"#FFD700\",\"#C0C0C0\",\"#FFD700\",\"#C0C0C0\",\"#CD7F32\",\"#FFD700\",\"#C0C0C0\",\"#CD7F32\",\"#FFD700\",\"#C0C0C0\",\"#CD7F32\",\"#FFD700\",\"#C0C0C0\",\"#CD7F32\",\"#FFD700\",\"#C0C0C0\",\"#CD7F32\",\"#FFD700\",\"#C0C0C0\",\"#CD7F32\",\"#FFD700\",\"#C0C0C0\",\"#CD7F32\",\"#FFD700\",\"#C0C0C0\",\"#CD7F32\",\"#FFD700\",\"#C0C0C0\",\"#CD7F32\",\"#FFD700\",\"#C0C0C0\",\"#CD7F32\",\"#FFD700\",\"#C0C0C0\",\"#CD7F32\",\"#FFD700\"],\"shape\":[37],\"dtype\":\"object\",\"order\":\"little\"}]]}}},\"view\":{\"type\":\"object\",\"name\":\"CDSView\",\"id\":\"p1779\",\"attributes\":{\"filter\":{\"type\":\"object\",\"name\":\"AllIndices\",\"id\":\"p1780\"}}},\"glyph\":{\"type\":\"object\",\"name\":\"VBar\",\"id\":\"p1775\",\"attributes\":{\"x\":{\"type\":\"field\",\"field\":\"Year\"},\"width\":{\"type\":\"value\",\"value\":0.75},\"top\":{\"type\":\"field\",\"field\":\"Count\"},\"line_color\":{\"type\":\"field\",\"field\":\"Color\"},\"fill_color\":{\"type\":\"field\",\"field\":\"Color\"},\"hatch_color\":{\"type\":\"field\",\"field\":\"Color\"}}},\"nonselection_glyph\":{\"type\":\"object\",\"name\":\"VBar\",\"id\":\"p1776\",\"attributes\":{\"x\":{\"type\":\"field\",\"field\":\"Year\"},\"width\":{\"type\":\"value\",\"value\":0.75},\"top\":{\"type\":\"field\",\"field\":\"Count\"},\"line_color\":{\"type\":\"field\",\"field\":\"Color\"},\"line_alpha\":{\"type\":\"value\",\"value\":0.1},\"fill_color\":{\"type\":\"field\",\"field\":\"Color\"},\"fill_alpha\":{\"type\":\"value\",\"value\":0.1},\"hatch_color\":{\"type\":\"field\",\"field\":\"Color\"},\"hatch_alpha\":{\"type\":\"value\",\"value\":0.1}}},\"muted_glyph\":{\"type\":\"object\",\"name\":\"VBar\",\"id\":\"p1777\",\"attributes\":{\"x\":{\"type\":\"field\",\"field\":\"Year\"},\"width\":{\"type\":\"value\",\"value\":0.75},\"top\":{\"type\":\"field\",\"field\":\"Count\"},\"line_color\":{\"type\":\"field\",\"field\":\"Color\"},\"line_alpha\":{\"type\":\"value\",\"value\":0.2},\"fill_color\":{\"type\":\"field\",\"field\":\"Color\"},\"fill_alpha\":{\"type\":\"value\",\"value\":0.2},\"hatch_color\":{\"type\":\"field\",\"field\":\"Color\"},\"hatch_alpha\":{\"type\":\"value\",\"value\":0.2}}}}}],\"toolbar\":{\"type\":\"object\",\"name\":\"Toolbar\",\"id\":\"p1754\",\"attributes\":{\"tools\":[{\"id\":\"p1762\"},{\"id\":\"p1763\"},{\"id\":\"p1764\"},{\"type\":\"object\",\"name\":\"SaveTool\",\"id\":\"p1766\"},{\"id\":\"p1767\"},{\"id\":\"p1768\"}]}},\"toolbar_location\":null,\"left\":[{\"type\":\"object\",\"name\":\"LinearAxis\",\"id\":\"p1757\",\"attributes\":{\"ticker\":{\"type\":\"object\",\"name\":\"BasicTicker\",\"id\":\"p1758\",\"attributes\":{\"mantissas\":[1,2,5]}},\"formatter\":{\"type\":\"object\",\"name\":\"BasicTickFormatter\",\"id\":\"p1759\"},\"axis_label\":\"Number of Medals\",\"major_label_policy\":{\"type\":\"object\",\"name\":\"AllLabels\",\"id\":\"p1760\"}}}],\"below\":[{\"type\":\"object\",\"name\":\"LinearAxis\",\"id\":\"p1784\",\"attributes\":{\"ticker\":{\"type\":\"object\",\"name\":\"SingleIntervalTicker\",\"id\":\"p1783\",\"attributes\":{\"num_minor_ticks\":0,\"interval\":2}},\"formatter\":{\"type\":\"object\",\"name\":\"BasicTickFormatter\",\"id\":\"p1786\",\"attributes\":{\"use_scientific\":false}},\"major_label_policy\":{\"type\":\"object\",\"name\":\"AllLabels\",\"id\":\"p1787\"}}}],\"center\":[{\"type\":\"object\",\"name\":\"Grid\",\"id\":\"p1761\",\"attributes\":{\"dimension\":1,\"axis\":{\"id\":\"p1757\"}}},{\"type\":\"object\",\"name\":\"Legend\",\"id\":\"p1781\",\"attributes\":{\"items\":[{\"type\":\"object\",\"name\":\"LegendItem\",\"id\":\"p1782\",\"attributes\":{\"label\":{\"type\":\"field\",\"field\":\"Medal\"},\"renderers\":[{\"id\":\"p1778\"}]}}]}}]}},2,0]]}}]}};\n  const render_items = [{\"docid\":\"adeef609-e941-471a-946c-72df517c801d\",\"roots\":{\"p1795\":\"e0ca072c-073a-4bf8-9231-e7b9e033c7ba\"},\"root_ids\":[\"p1795\"]}];\n  root.Bokeh.embed.embed_items_notebook(docs_json, render_items);\n  }\n  if (root.Bokeh !== undefined) {\n    embed_document(root);\n  } else {\n    let attempts = 0;\n    const timer = setInterval(function(root) {\n      if (root.Bokeh !== undefined) {\n        clearInterval(timer);\n        embed_document(root);\n      } else {\n        attempts++;\n        if (attempts > 100) {\n          clearInterval(timer);\n          console.log(\"Bokeh: ERROR: Unable to run BokehJS code because BokehJS library is missing\");\n        }\n      }\n    }, 10, root)\n  }\n})(window);",
      "application/vnd.bokehjs_exec.v0+json": ""
     },
     "metadata": {
      "application/vnd.bokehjs_exec.v0+json": {
       "id": "p1795"
      }
     },
     "output_type": "display_data"
    }
   ],
   "source": [
    "from bokeh.layouts import row, gridplot\n",
    "\n",
    "show(gridplot([[p1, None], [p2, None], [p3, None]], width= 2000, height=500))\n"
   ]
  },
  {
   "cell_type": "markdown",
   "metadata": {},
   "source": [
    "# Pie Chart Example with Shark Attack Data\n",
    "\n",
    "### Goal\n",
    "Create a pie chart that showed the top ten countries with the most shark attacks and when you hover over a wedge, it tells you exactly how many attacks were recorded."
   ]
  },
  {
   "cell_type": "code",
   "execution_count": 44,
   "metadata": {},
   "outputs": [],
   "source": [
    "# import libraries \n",
    "import pandas as pd\n",
    "import numpy as np"
   ]
  },
  {
   "cell_type": "code",
   "execution_count": 45,
   "metadata": {},
   "outputs": [],
   "source": [
    "# read in data\n",
    "shark_attacks = pd.read_csv('../data/attacks.csv', encoding='latin-1').dropna()\n",
    "\n",
    "# select subset of data we are interested in\n",
    "shark_sub = shark_attacks[['Country', 'Type', 'Activity']]"
   ]
  },
  {
   "cell_type": "code",
   "execution_count": 46,
   "metadata": {},
   "outputs": [],
   "source": [
    "# prepare data for pie chart \n",
    "shark_pie = shark_sub.groupby([pd.Grouper(key = 'Country')]).count().sort_values(by = 'Activity', \n",
    "                                                                                 ascending= False).head(10) # top 10 countries "
   ]
  },
  {
   "cell_type": "code",
   "execution_count": 47,
   "metadata": {},
   "outputs": [
    {
     "data": {
      "text/html": [
       "\n",
       "  <div id=\"dd9fd3ef-608c-4b4a-8c6b-0bd39c0b658b\" data-root-id=\"p1806\" style=\"display: contents;\"></div>\n"
      ]
     },
     "metadata": {},
     "output_type": "display_data"
    },
    {
     "data": {
      "application/javascript": "(function(root) {\n  function embed_document(root) {\n  const docs_json = {\"01a89d8d-ae4a-41d7-9aac-40a6de75f475\":{\"version\":\"3.2.1\",\"title\":\"Bokeh Application\",\"roots\":[{\"type\":\"object\",\"name\":\"Figure\",\"id\":\"p1806\",\"attributes\":{\"height\":350,\"x_range\":{\"type\":\"object\",\"name\":\"Range1d\",\"id\":\"p1816\",\"attributes\":{\"start\":-0.5}},\"y_range\":{\"type\":\"object\",\"name\":\"DataRange1d\",\"id\":\"p1808\"},\"x_scale\":{\"type\":\"object\",\"name\":\"LinearScale\",\"id\":\"p1817\"},\"y_scale\":{\"type\":\"object\",\"name\":\"LinearScale\",\"id\":\"p1818\"},\"title\":{\"type\":\"object\",\"name\":\"Title\",\"id\":\"p1854\",\"attributes\":{\"text\":\"Top 10 Countries for Shark Attacks\"}},\"renderers\":[{\"type\":\"object\",\"name\":\"GlyphRenderer\",\"id\":\"p1848\",\"attributes\":{\"data_source\":{\"type\":\"object\",\"name\":\"ColumnDataSource\",\"id\":\"p1839\",\"attributes\":{\"selected\":{\"type\":\"object\",\"name\":\"Selection\",\"id\":\"p1840\",\"attributes\":{\"indices\":[],\"line_indices\":[]}},\"selection_policy\":{\"type\":\"object\",\"name\":\"UnionRenderers\",\"id\":\"p1841\"},\"data\":{\"type\":\"map\",\"entries\":[[\"Country\",{\"type\":\"ndarray\",\"array\":[\"USA\",\"AUSTRALIA\",\"SOUTH AFRICA\",\"BAHAMAS\",\"NEW ZEALAND\",\"REUNION\",\"BRAZIL\",\"MEXICO\",\"PAPUA NEW GUINEA\",\"NEW CALEDONIA\"],\"shape\":[10],\"dtype\":\"object\",\"order\":\"little\"}],[\"Type\",{\"type\":\"ndarray\",\"array\":{\"type\":\"bytes\",\"data\":\"tQIAAC8BAADZAAAAGgAAABQAAAAPAAAADgAAAA0AAAAMAAAACgAAAA==\"},\"shape\":[10],\"dtype\":\"int32\",\"order\":\"little\"}],[\"Activity\",{\"type\":\"ndarray\",\"array\":{\"type\":\"bytes\",\"data\":\"tQIAAC8BAADZAAAAGgAAABQAAAAPAAAADgAAAA0AAAAMAAAACgAAAA==\"},\"shape\":[10],\"dtype\":\"int32\",\"order\":\"little\"}],[\"angle\",{\"type\":\"ndarray\",\"array\":{\"type\":\"bytes\",\"data\":\"e/5roVxUCkAtvGtSKwb3P91Ez5g8ffA/cJqVIlOcvz8unhB93VC4P6J2zB2mPLI/7aGL12cFsT9wmpUiU5yvPwTxE5bWLa0/Lp4Qfd1QqD8=\"},\"shape\":[10],\"dtype\":\"float64\",\"order\":\"little\"}],[\"color\",{\"type\":\"ndarray\",\"array\":[\"#3182bd\",\"#6baed6\",\"#9ecae1\",\"#c6dbef\",\"#e6550d\",\"#fd8d3c\",\"#fdae6b\",\"#fdd0a2\",\"#31a354\",\"#74c476\"],\"shape\":[10],\"dtype\":\"object\",\"order\":\"little\"}]]}}},\"view\":{\"type\":\"object\",\"name\":\"CDSView\",\"id\":\"p1849\",\"attributes\":{\"filter\":{\"type\":\"object\",\"name\":\"AllIndices\",\"id\":\"p1850\"}}},\"glyph\":{\"type\":\"object\",\"name\":\"Wedge\",\"id\":\"p1845\",\"attributes\":{\"x\":{\"type\":\"value\",\"value\":0},\"y\":{\"type\":\"value\",\"value\":1},\"radius\":{\"type\":\"value\",\"value\":0.4},\"start_angle\":{\"type\":\"expr\",\"expr\":{\"type\":\"object\",\"name\":\"CumSum\",\"id\":\"p1837\",\"attributes\":{\"field\":\"angle\",\"include_zero\":true}}},\"end_angle\":{\"type\":\"expr\",\"expr\":{\"type\":\"object\",\"name\":\"CumSum\",\"id\":\"p1838\",\"attributes\":{\"field\":\"angle\"}}},\"line_color\":{\"type\":\"value\",\"value\":\"white\"},\"fill_color\":{\"type\":\"field\",\"field\":\"color\"}}},\"nonselection_glyph\":{\"type\":\"object\",\"name\":\"Wedge\",\"id\":\"p1846\",\"attributes\":{\"x\":{\"type\":\"value\",\"value\":0},\"y\":{\"type\":\"value\",\"value\":1},\"radius\":{\"type\":\"value\",\"value\":0.4},\"start_angle\":{\"type\":\"expr\",\"expr\":{\"id\":\"p1837\"}},\"end_angle\":{\"type\":\"expr\",\"expr\":{\"id\":\"p1838\"}},\"line_color\":{\"type\":\"value\",\"value\":\"white\"},\"line_alpha\":{\"type\":\"value\",\"value\":0.1},\"fill_color\":{\"type\":\"field\",\"field\":\"color\"},\"fill_alpha\":{\"type\":\"value\",\"value\":0.1},\"hatch_alpha\":{\"type\":\"value\",\"value\":0.1}}},\"muted_glyph\":{\"type\":\"object\",\"name\":\"Wedge\",\"id\":\"p1847\",\"attributes\":{\"x\":{\"type\":\"value\",\"value\":0},\"y\":{\"type\":\"value\",\"value\":1},\"radius\":{\"type\":\"value\",\"value\":0.4},\"start_angle\":{\"type\":\"expr\",\"expr\":{\"id\":\"p1837\"}},\"end_angle\":{\"type\":\"expr\",\"expr\":{\"id\":\"p1838\"}},\"line_color\":{\"type\":\"value\",\"value\":\"white\"},\"line_alpha\":{\"type\":\"value\",\"value\":0.2},\"fill_color\":{\"type\":\"field\",\"field\":\"color\"},\"fill_alpha\":{\"type\":\"value\",\"value\":0.2},\"hatch_alpha\":{\"type\":\"value\",\"value\":0.2}}}}}],\"toolbar\":{\"type\":\"object\",\"name\":\"Toolbar\",\"id\":\"p1815\",\"attributes\":{\"tools\":[{\"type\":\"object\",\"name\":\"PanTool\",\"id\":\"p1829\"},{\"type\":\"object\",\"name\":\"WheelZoomTool\",\"id\":\"p1830\"},{\"type\":\"object\",\"name\":\"BoxZoomTool\",\"id\":\"p1831\",\"attributes\":{\"overlay\":{\"type\":\"object\",\"name\":\"BoxAnnotation\",\"id\":\"p1832\",\"attributes\":{\"syncable\":false,\"level\":\"overlay\",\"visible\":false,\"left_units\":\"canvas\",\"right_units\":\"canvas\",\"bottom_units\":\"canvas\",\"top_units\":\"canvas\",\"line_color\":\"black\",\"line_alpha\":1.0,\"line_width\":2,\"line_dash\":[4,4],\"fill_color\":\"lightgrey\",\"fill_alpha\":0.5}}}},{\"type\":\"object\",\"name\":\"SaveTool\",\"id\":\"p1833\"},{\"type\":\"object\",\"name\":\"ResetTool\",\"id\":\"p1834\"},{\"type\":\"object\",\"name\":\"HelpTool\",\"id\":\"p1835\"},{\"type\":\"object\",\"name\":\"HoverTool\",\"id\":\"p1836\",\"attributes\":{\"renderers\":\"auto\",\"tooltips\":\"@country: @activity\"}},{\"type\":\"object\",\"name\":\"HoverTool\",\"id\":\"p1853\",\"attributes\":{\"renderers\":\"auto\",\"tooltips\":[[\"Country\",\"@Country - @Activity\"]]}}]}},\"toolbar_location\":null,\"left\":[{\"type\":\"object\",\"name\":\"LinearAxis\",\"id\":\"p1824\",\"attributes\":{\"visible\":false,\"ticker\":{\"type\":\"object\",\"name\":\"BasicTicker\",\"id\":\"p1825\",\"attributes\":{\"mantissas\":[1,2,5]}},\"formatter\":{\"type\":\"object\",\"name\":\"BasicTickFormatter\",\"id\":\"p1826\"},\"major_label_policy\":{\"type\":\"object\",\"name\":\"AllLabels\",\"id\":\"p1827\"}}}],\"below\":[{\"type\":\"object\",\"name\":\"LinearAxis\",\"id\":\"p1819\",\"attributes\":{\"visible\":false,\"ticker\":{\"type\":\"object\",\"name\":\"BasicTicker\",\"id\":\"p1820\",\"attributes\":{\"mantissas\":[1,2,5]}},\"formatter\":{\"type\":\"object\",\"name\":\"BasicTickFormatter\",\"id\":\"p1821\"},\"major_label_policy\":{\"type\":\"object\",\"name\":\"AllLabels\",\"id\":\"p1822\"}}}],\"center\":[{\"type\":\"object\",\"name\":\"Grid\",\"id\":\"p1823\",\"attributes\":{\"axis\":{\"id\":\"p1819\"},\"grid_line_color\":null}},{\"type\":\"object\",\"name\":\"Grid\",\"id\":\"p1828\",\"attributes\":{\"dimension\":1,\"axis\":{\"id\":\"p1824\"},\"grid_line_color\":null}},{\"type\":\"object\",\"name\":\"Legend\",\"id\":\"p1851\",\"attributes\":{\"items\":[{\"type\":\"object\",\"name\":\"LegendItem\",\"id\":\"p1852\",\"attributes\":{\"label\":{\"type\":\"field\",\"field\":\"Country\"},\"renderers\":[{\"id\":\"p1848\"}]}}]}}]}}]}};\n  const render_items = [{\"docid\":\"01a89d8d-ae4a-41d7-9aac-40a6de75f475\",\"roots\":{\"p1806\":\"dd9fd3ef-608c-4b4a-8c6b-0bd39c0b658b\"},\"root_ids\":[\"p1806\"]}];\n  root.Bokeh.embed.embed_items_notebook(docs_json, render_items);\n  }\n  if (root.Bokeh !== undefined) {\n    embed_document(root);\n  } else {\n    let attempts = 0;\n    const timer = setInterval(function(root) {\n      if (root.Bokeh !== undefined) {\n        clearInterval(timer);\n        embed_document(root);\n      } else {\n        attempts++;\n        if (attempts > 100) {\n          clearInterval(timer);\n          console.log(\"Bokeh: ERROR: Unable to run BokehJS code because BokehJS library is missing\");\n        }\n      }\n    }, 10, root)\n  }\n})(window);",
      "application/vnd.bokehjs_exec.v0+json": ""
     },
     "metadata": {
      "application/vnd.bokehjs_exec.v0+json": {
       "id": "p1806"
      }
     },
     "output_type": "display_data"
    }
   ],
   "source": [
    "# set up bokeh plotting tools\n",
    "from math import pi\n",
    "from collections import Counter\n",
    "from bokeh.palettes import Category20c\n",
    "from bokeh.plotting import figure, show, output_notebook\n",
    "from bokeh.transform import cumsum, factor_cmap\n",
    "from bokeh.models import ColumnDataSource, HoverTool\n",
    "\n",
    "# select source of data\n",
    "df = shark_pie\n",
    "\n",
    "# Calculate the angles and add column for each country\n",
    "df['angle'] = df['Activity'] / df['Activity'].sum() * 2 * pi\n",
    "\n",
    "# Add colors from Category20c palette and make new column \n",
    "df['color'] = Category20c[10]\n",
    "\n",
    "# Create figure\n",
    "p = figure(height=350, \n",
    "           title = \"Activity Distribution by Country\", \n",
    "           toolbar_location = None,\n",
    "           tooltips = \"@country: @activity\", \n",
    "           x_range=(-0.5, 1.0))\n",
    "\n",
    "# Create wedges\n",
    "p.wedge(x=0, y=1, radius=0.4,\n",
    "        start_angle=cumsum('angle', # set angle of slice\n",
    "                           include_zero = True), \n",
    "                           end_angle=cumsum('angle'), # set angle of slice \n",
    "        line_color = 'white', \n",
    "        fill_color = 'color', \n",
    "        legend_field = 'Country', \n",
    "        source = df) # source of the data\n",
    "\n",
    "# hover tool to see what country\n",
    "hover = HoverTool(tooltips=[('Country', '@Country' ' - @Activity')]) # make sure @ matches the column name in dataframe\n",
    "p.add_tools(hover)\n",
    "\n",
    "# remove axes\n",
    "p.axis.axis_label = None\n",
    "p.axis.visible = False\n",
    "p.grid.grid_line_color = None\n",
    "p.title = \"Top 10 Countries for Shark Attacks\"\n",
    "\n",
    "show(p)"
   ]
  },
  {
   "cell_type": "markdown",
   "metadata": {},
   "source": [
    "## Check out our plots on the web page we created with Github Pages! \n",
    "https://lunacatalan.github.io/bokeh-how-to/ "
   ]
  },
  {
   "cell_type": "markdown",
   "metadata": {},
   "source": [
    "#### **Advantages & Disadvantages?**\n",
    "### Bokeh vs. Plotly \n",
    "#### Advantages of Bokeh:\n",
    " * keeps it simple, no compatibility with other languages = streamlined environment  \n",
    " * privacy control \n",
    " * more color palette customization \n",
    " * dynamic and faster Dashboards\n",
    " * Bokeh offers an option to embed our visualization in the web pages.\n",
    " #### Disadvantages of Bokeh: \n",
    " - only in Python, no compatibility with other languages\n",
    " - no 3D plotting \n",
    " - degree of interactivity is limited "
   ]
  }
 ],
 "metadata": {
  "kernelspec": {
   "display_name": "Python 3",
   "language": "python",
   "name": "python3"
  },
  "language_info": {
   "codemirror_mode": {
    "name": "ipython",
    "version": 3
   },
   "file_extension": ".py",
   "mimetype": "text/x-python",
   "name": "python",
   "nbconvert_exporter": "python",
   "pygments_lexer": "ipython3",
   "version": "3.10.12"
  },
  "orig_nbformat": 4
 },
 "nbformat": 4,
 "nbformat_minor": 2
}
